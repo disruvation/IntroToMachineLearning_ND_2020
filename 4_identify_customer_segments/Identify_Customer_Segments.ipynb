{
 "cells": [
  {
   "cell_type": "markdown",
   "metadata": {},
   "source": [
    "# Project: Identify Customer Segments\n",
    "\n",
    "In this project, you will apply unsupervised learning techniques to identify segments of the population that form the core customer base for a mail-order sales company in Germany. These segments can then be used to direct marketing campaigns towards audiences that will have the highest expected rate of returns. The data that you will use has been provided by our partners at Bertelsmann Arvato Analytics, and represents a real-life data science task.\n",
    "\n",
    "This notebook will help you complete this task by providing a framework within which you will perform your analysis steps. In each step of the project, you will see some text describing the subtask that you will perform, followed by one or more code cells for you to complete your work. **Feel free to add additional code and markdown cells as you go along so that you can explore everything in precise chunks.** The code cells provided in the base template will outline only the major tasks, and will usually not be enough to cover all of the minor tasks that comprise it.\n",
    "\n",
    "It should be noted that while there will be precise guidelines on how you should handle certain tasks in the project, there will also be places where an exact specification is not provided. **There will be times in the project where you will need to make and justify your own decisions on how to treat the data.** These are places where there may not be only one way to handle the data. In real-life tasks, there may be many valid ways to approach an analysis task. One of the most important things you can do is clearly document your approach so that other scientists can understand the decisions you've made.\n",
    "\n",
    "At the end of most sections, there will be a Markdown cell labeled **Discussion**. In these cells, you will report your findings for the completed section, as well as document the decisions that you made in your approach to each subtask. **Your project will be evaluated not just on the code used to complete the tasks outlined, but also your communication about your observations and conclusions at each stage.**"
   ]
  },
  {
   "cell_type": "code",
   "execution_count": 1,
   "metadata": {},
   "outputs": [
    {
     "data": {
      "text/plain": [
       "'\\nImport note: The classroom currently uses sklearn version 0.19.\\nIf you need to use an imputer, it is available in sklearn.preprocessing.Imputer,\\ninstead of sklearn.impute as in newer versions of sklearn.\\n'"
      ]
     },
     "execution_count": 1,
     "metadata": {},
     "output_type": "execute_result"
    }
   ],
   "source": [
    "# import libraries here; add more as necessary\n",
    "import numpy as np\n",
    "import pandas as pd\n",
    "import matplotlib.pyplot as plt\n",
    "import seaborn as sns\n",
    "\n",
    "from sklearn.preprocessing import Imputer, StandardScaler\n",
    "from sklearn.decomposition import PCA\n",
    "from sklearn.cluster import KMeans\n",
    "\n",
    "# magic word for producing visualizations in notebook\n",
    "%matplotlib inline\n",
    "\n",
    "\n",
    "'''\n",
    "Import note: The classroom currently uses sklearn version 0.19.\n",
    "If you need to use an imputer, it is available in sklearn.preprocessing.Imputer,\n",
    "instead of sklearn.impute as in newer versions of sklearn.\n",
    "'''"
   ]
  },
  {
   "cell_type": "markdown",
   "metadata": {},
   "source": [
    "### Step 0: Load the Data\n",
    "\n",
    "There are four files associated with this project (not including this one):\n",
    "\n",
    "- `Udacity_AZDIAS_Subset.csv`: Demographics data for the general population of Germany; 891211 persons (rows) x 85 features (columns).\n",
    "- `Udacity_CUSTOMERS_Subset.csv`: Demographics data for customers of a mail-order company; 191652 persons (rows) x 85 features (columns).\n",
    "- `Data_Dictionary.md`: Detailed information file about the features in the provided datasets.\n",
    "- `AZDIAS_Feature_Summary.csv`: Summary of feature attributes for demographics data; 85 features (rows) x 4 columns\n",
    "\n",
    "Each row of the demographics files represents a single person, but also includes information outside of individuals, including information about their household, building, and neighborhood. You will use this information to cluster the general population into groups with similar demographic properties. Then, you will see how the people in the customers dataset fit into those created clusters. The hope here is that certain clusters are over-represented in the customers data, as compared to the general population; those over-represented clusters will be assumed to be part of the core userbase. This information can then be used for further applications, such as targeting for a marketing campaign.\n",
    "\n",
    "To start off with, load in the demographics data for the general population into a pandas DataFrame, and do the same for the feature attributes summary. Note for all of the `.csv` data files in this project: they're semicolon (`;`) delimited, so you'll need an additional argument in your [`read_csv()`](https://pandas.pydata.org/pandas-docs/stable/generated/pandas.read_csv.html) call to read in the data properly. Also, considering the size of the main dataset, it may take some time for it to load completely.\n",
    "\n",
    "Once the dataset is loaded, it's recommended that you take a little bit of time just browsing the general structure of the dataset and feature summary file. You'll be getting deep into the innards of the cleaning in the first major step of the project, so gaining some general familiarity can help you get your bearings."
   ]
  },
  {
   "cell_type": "code",
   "execution_count": 2,
   "metadata": {},
   "outputs": [],
   "source": [
    "# Load in the general demographics data.\n",
    "azdias = pd.read_csv('Udacity_AZDIAS_Subset.csv', sep=';')\n",
    "\n",
    "# Load in the feature summary file.\n",
    "feat_info = pd.read_csv('AZDIAS_Feature_Summary.csv', sep=';')"
   ]
  },
  {
   "cell_type": "code",
   "execution_count": 3,
   "metadata": {},
   "outputs": [
    {
     "data": {
      "text/plain": [
       "(891221, 85)"
      ]
     },
     "execution_count": 3,
     "metadata": {},
     "output_type": "execute_result"
    }
   ],
   "source": [
    "# Check the structure of the data after it's loaded (e.g. print the number of\n",
    "# rows and columns, print the first few rows).\n",
    "\n",
    "## get a feeling for the azdias data\n",
    "# get shape of data frame\n",
    "azdias.shape"
   ]
  },
  {
   "cell_type": "code",
   "execution_count": 4,
   "metadata": {},
   "outputs": [
    {
     "name": "stdout",
     "output_type": "stream",
     "text": [
      "<class 'pandas.core.frame.DataFrame'>\n",
      "RangeIndex: 891221 entries, 0 to 891220\n",
      "Data columns (total 85 columns):\n",
      "AGER_TYP                 891221 non-null int64\n",
      "ALTERSKATEGORIE_GROB     891221 non-null int64\n",
      "ANREDE_KZ                891221 non-null int64\n",
      "CJT_GESAMTTYP            886367 non-null float64\n",
      "FINANZ_MINIMALIST        891221 non-null int64\n",
      "FINANZ_SPARER            891221 non-null int64\n",
      "FINANZ_VORSORGER         891221 non-null int64\n",
      "FINANZ_ANLEGER           891221 non-null int64\n",
      "FINANZ_UNAUFFAELLIGER    891221 non-null int64\n",
      "FINANZ_HAUSBAUER         891221 non-null int64\n",
      "FINANZTYP                891221 non-null int64\n",
      "GEBURTSJAHR              891221 non-null int64\n",
      "GFK_URLAUBERTYP          886367 non-null float64\n",
      "GREEN_AVANTGARDE         891221 non-null int64\n",
      "HEALTH_TYP               891221 non-null int64\n",
      "LP_LEBENSPHASE_FEIN      886367 non-null float64\n",
      "LP_LEBENSPHASE_GROB      886367 non-null float64\n",
      "LP_FAMILIE_FEIN          886367 non-null float64\n",
      "LP_FAMILIE_GROB          886367 non-null float64\n",
      "LP_STATUS_FEIN           886367 non-null float64\n",
      "LP_STATUS_GROB           886367 non-null float64\n",
      "NATIONALITAET_KZ         891221 non-null int64\n",
      "PRAEGENDE_JUGENDJAHRE    891221 non-null int64\n",
      "RETOURTYP_BK_S           886367 non-null float64\n",
      "SEMIO_SOZ                891221 non-null int64\n",
      "SEMIO_FAM                891221 non-null int64\n",
      "SEMIO_REL                891221 non-null int64\n",
      "SEMIO_MAT                891221 non-null int64\n",
      "SEMIO_VERT               891221 non-null int64\n",
      "SEMIO_LUST               891221 non-null int64\n",
      "SEMIO_ERL                891221 non-null int64\n",
      "SEMIO_KULT               891221 non-null int64\n",
      "SEMIO_RAT                891221 non-null int64\n",
      "SEMIO_KRIT               891221 non-null int64\n",
      "SEMIO_DOM                891221 non-null int64\n",
      "SEMIO_KAEM               891221 non-null int64\n",
      "SEMIO_PFLICHT            891221 non-null int64\n",
      "SEMIO_TRADV              891221 non-null int64\n",
      "SHOPPER_TYP              891221 non-null int64\n",
      "SOHO_KZ                  817722 non-null float64\n",
      "TITEL_KZ                 817722 non-null float64\n",
      "VERS_TYP                 891221 non-null int64\n",
      "ZABEOTYP                 891221 non-null int64\n",
      "ALTER_HH                 817722 non-null float64\n",
      "ANZ_PERSONEN             817722 non-null float64\n",
      "ANZ_TITEL                817722 non-null float64\n",
      "HH_EINKOMMEN_SCORE       872873 non-null float64\n",
      "KK_KUNDENTYP             306609 non-null float64\n",
      "W_KEIT_KIND_HH           783619 non-null float64\n",
      "WOHNDAUER_2008           817722 non-null float64\n",
      "ANZ_HAUSHALTE_AKTIV      798073 non-null float64\n",
      "ANZ_HH_TITEL             794213 non-null float64\n",
      "GEBAEUDETYP              798073 non-null float64\n",
      "KONSUMNAEHE              817252 non-null float64\n",
      "MIN_GEBAEUDEJAHR         798073 non-null float64\n",
      "OST_WEST_KZ              798073 non-null object\n",
      "WOHNLAGE                 798073 non-null float64\n",
      "CAMEO_DEUG_2015          792242 non-null object\n",
      "CAMEO_DEU_2015           792242 non-null object\n",
      "CAMEO_INTL_2015          792242 non-null object\n",
      "KBA05_ANTG1              757897 non-null float64\n",
      "KBA05_ANTG2              757897 non-null float64\n",
      "KBA05_ANTG3              757897 non-null float64\n",
      "KBA05_ANTG4              757897 non-null float64\n",
      "KBA05_BAUMAX             757897 non-null float64\n",
      "KBA05_GBZ                757897 non-null float64\n",
      "BALLRAUM                 797481 non-null float64\n",
      "EWDICHTE                 797481 non-null float64\n",
      "INNENSTADT               797481 non-null float64\n",
      "GEBAEUDETYP_RASTER       798066 non-null float64\n",
      "KKK                      770025 non-null float64\n",
      "MOBI_REGIO               757897 non-null float64\n",
      "ONLINE_AFFINITAET        886367 non-null float64\n",
      "REGIOTYP                 770025 non-null float64\n",
      "KBA13_ANZAHL_PKW         785421 non-null float64\n",
      "PLZ8_ANTG1               774706 non-null float64\n",
      "PLZ8_ANTG2               774706 non-null float64\n",
      "PLZ8_ANTG3               774706 non-null float64\n",
      "PLZ8_ANTG4               774706 non-null float64\n",
      "PLZ8_BAUMAX              774706 non-null float64\n",
      "PLZ8_HHZ                 774706 non-null float64\n",
      "PLZ8_GBZ                 774706 non-null float64\n",
      "ARBEIT                   794005 non-null float64\n",
      "ORTSGR_KLS9              794005 non-null float64\n",
      "RELAT_AB                 794005 non-null float64\n",
      "dtypes: float64(49), int64(32), object(4)\n",
      "memory usage: 578.0+ MB\n"
     ]
    }
   ],
   "source": [
    "# get information about the column and numer of entries\n",
    "azdias.info()"
   ]
  },
  {
   "cell_type": "code",
   "execution_count": 5,
   "metadata": {},
   "outputs": [
    {
     "data": {
      "text/html": [
       "<div>\n",
       "<style scoped>\n",
       "    .dataframe tbody tr th:only-of-type {\n",
       "        vertical-align: middle;\n",
       "    }\n",
       "\n",
       "    .dataframe tbody tr th {\n",
       "        vertical-align: top;\n",
       "    }\n",
       "\n",
       "    .dataframe thead th {\n",
       "        text-align: right;\n",
       "    }\n",
       "</style>\n",
       "<table border=\"1\" class=\"dataframe\">\n",
       "  <thead>\n",
       "    <tr style=\"text-align: right;\">\n",
       "      <th></th>\n",
       "      <th>AGER_TYP</th>\n",
       "      <th>ALTERSKATEGORIE_GROB</th>\n",
       "      <th>ANREDE_KZ</th>\n",
       "      <th>CJT_GESAMTTYP</th>\n",
       "      <th>FINANZ_MINIMALIST</th>\n",
       "      <th>FINANZ_SPARER</th>\n",
       "      <th>FINANZ_VORSORGER</th>\n",
       "      <th>FINANZ_ANLEGER</th>\n",
       "      <th>FINANZ_UNAUFFAELLIGER</th>\n",
       "      <th>FINANZ_HAUSBAUER</th>\n",
       "      <th>...</th>\n",
       "      <th>PLZ8_ANTG1</th>\n",
       "      <th>PLZ8_ANTG2</th>\n",
       "      <th>PLZ8_ANTG3</th>\n",
       "      <th>PLZ8_ANTG4</th>\n",
       "      <th>PLZ8_BAUMAX</th>\n",
       "      <th>PLZ8_HHZ</th>\n",
       "      <th>PLZ8_GBZ</th>\n",
       "      <th>ARBEIT</th>\n",
       "      <th>ORTSGR_KLS9</th>\n",
       "      <th>RELAT_AB</th>\n",
       "    </tr>\n",
       "  </thead>\n",
       "  <tbody>\n",
       "    <tr>\n",
       "      <th>count</th>\n",
       "      <td>891221.000000</td>\n",
       "      <td>891221.000000</td>\n",
       "      <td>891221.000000</td>\n",
       "      <td>886367.000000</td>\n",
       "      <td>891221.000000</td>\n",
       "      <td>891221.000000</td>\n",
       "      <td>891221.000000</td>\n",
       "      <td>891221.000000</td>\n",
       "      <td>891221.000000</td>\n",
       "      <td>891221.000000</td>\n",
       "      <td>...</td>\n",
       "      <td>774706.000000</td>\n",
       "      <td>774706.000000</td>\n",
       "      <td>774706.000000</td>\n",
       "      <td>774706.000000</td>\n",
       "      <td>774706.000000</td>\n",
       "      <td>774706.000000</td>\n",
       "      <td>774706.000000</td>\n",
       "      <td>794005.000000</td>\n",
       "      <td>794005.000000</td>\n",
       "      <td>794005.00000</td>\n",
       "    </tr>\n",
       "    <tr>\n",
       "      <th>mean</th>\n",
       "      <td>-0.358435</td>\n",
       "      <td>2.777398</td>\n",
       "      <td>1.522098</td>\n",
       "      <td>3.632838</td>\n",
       "      <td>3.074528</td>\n",
       "      <td>2.821039</td>\n",
       "      <td>3.401106</td>\n",
       "      <td>3.033328</td>\n",
       "      <td>2.874167</td>\n",
       "      <td>3.075121</td>\n",
       "      <td>...</td>\n",
       "      <td>2.253330</td>\n",
       "      <td>2.801858</td>\n",
       "      <td>1.595426</td>\n",
       "      <td>0.699166</td>\n",
       "      <td>1.943913</td>\n",
       "      <td>3.612821</td>\n",
       "      <td>3.381087</td>\n",
       "      <td>3.167854</td>\n",
       "      <td>5.293002</td>\n",
       "      <td>3.07222</td>\n",
       "    </tr>\n",
       "    <tr>\n",
       "      <th>std</th>\n",
       "      <td>1.198724</td>\n",
       "      <td>1.068775</td>\n",
       "      <td>0.499512</td>\n",
       "      <td>1.595021</td>\n",
       "      <td>1.321055</td>\n",
       "      <td>1.464749</td>\n",
       "      <td>1.322134</td>\n",
       "      <td>1.529603</td>\n",
       "      <td>1.486731</td>\n",
       "      <td>1.353248</td>\n",
       "      <td>...</td>\n",
       "      <td>0.972008</td>\n",
       "      <td>0.920309</td>\n",
       "      <td>0.986736</td>\n",
       "      <td>0.727137</td>\n",
       "      <td>1.459654</td>\n",
       "      <td>0.973967</td>\n",
       "      <td>1.111598</td>\n",
       "      <td>1.002376</td>\n",
       "      <td>2.303739</td>\n",
       "      <td>1.36298</td>\n",
       "    </tr>\n",
       "    <tr>\n",
       "      <th>min</th>\n",
       "      <td>-1.000000</td>\n",
       "      <td>1.000000</td>\n",
       "      <td>1.000000</td>\n",
       "      <td>1.000000</td>\n",
       "      <td>1.000000</td>\n",
       "      <td>1.000000</td>\n",
       "      <td>1.000000</td>\n",
       "      <td>1.000000</td>\n",
       "      <td>1.000000</td>\n",
       "      <td>1.000000</td>\n",
       "      <td>...</td>\n",
       "      <td>0.000000</td>\n",
       "      <td>0.000000</td>\n",
       "      <td>0.000000</td>\n",
       "      <td>0.000000</td>\n",
       "      <td>1.000000</td>\n",
       "      <td>1.000000</td>\n",
       "      <td>1.000000</td>\n",
       "      <td>1.000000</td>\n",
       "      <td>0.000000</td>\n",
       "      <td>1.00000</td>\n",
       "    </tr>\n",
       "    <tr>\n",
       "      <th>25%</th>\n",
       "      <td>-1.000000</td>\n",
       "      <td>2.000000</td>\n",
       "      <td>1.000000</td>\n",
       "      <td>2.000000</td>\n",
       "      <td>2.000000</td>\n",
       "      <td>1.000000</td>\n",
       "      <td>3.000000</td>\n",
       "      <td>2.000000</td>\n",
       "      <td>2.000000</td>\n",
       "      <td>2.000000</td>\n",
       "      <td>...</td>\n",
       "      <td>1.000000</td>\n",
       "      <td>2.000000</td>\n",
       "      <td>1.000000</td>\n",
       "      <td>0.000000</td>\n",
       "      <td>1.000000</td>\n",
       "      <td>3.000000</td>\n",
       "      <td>3.000000</td>\n",
       "      <td>3.000000</td>\n",
       "      <td>4.000000</td>\n",
       "      <td>2.00000</td>\n",
       "    </tr>\n",
       "    <tr>\n",
       "      <th>50%</th>\n",
       "      <td>-1.000000</td>\n",
       "      <td>3.000000</td>\n",
       "      <td>2.000000</td>\n",
       "      <td>4.000000</td>\n",
       "      <td>3.000000</td>\n",
       "      <td>3.000000</td>\n",
       "      <td>3.000000</td>\n",
       "      <td>3.000000</td>\n",
       "      <td>3.000000</td>\n",
       "      <td>3.000000</td>\n",
       "      <td>...</td>\n",
       "      <td>2.000000</td>\n",
       "      <td>3.000000</td>\n",
       "      <td>2.000000</td>\n",
       "      <td>1.000000</td>\n",
       "      <td>1.000000</td>\n",
       "      <td>4.000000</td>\n",
       "      <td>3.000000</td>\n",
       "      <td>3.000000</td>\n",
       "      <td>5.000000</td>\n",
       "      <td>3.00000</td>\n",
       "    </tr>\n",
       "    <tr>\n",
       "      <th>75%</th>\n",
       "      <td>-1.000000</td>\n",
       "      <td>4.000000</td>\n",
       "      <td>2.000000</td>\n",
       "      <td>5.000000</td>\n",
       "      <td>4.000000</td>\n",
       "      <td>4.000000</td>\n",
       "      <td>5.000000</td>\n",
       "      <td>5.000000</td>\n",
       "      <td>4.000000</td>\n",
       "      <td>4.000000</td>\n",
       "      <td>...</td>\n",
       "      <td>3.000000</td>\n",
       "      <td>3.000000</td>\n",
       "      <td>2.000000</td>\n",
       "      <td>1.000000</td>\n",
       "      <td>3.000000</td>\n",
       "      <td>4.000000</td>\n",
       "      <td>4.000000</td>\n",
       "      <td>4.000000</td>\n",
       "      <td>7.000000</td>\n",
       "      <td>4.00000</td>\n",
       "    </tr>\n",
       "    <tr>\n",
       "      <th>max</th>\n",
       "      <td>3.000000</td>\n",
       "      <td>9.000000</td>\n",
       "      <td>2.000000</td>\n",
       "      <td>6.000000</td>\n",
       "      <td>5.000000</td>\n",
       "      <td>5.000000</td>\n",
       "      <td>5.000000</td>\n",
       "      <td>5.000000</td>\n",
       "      <td>5.000000</td>\n",
       "      <td>5.000000</td>\n",
       "      <td>...</td>\n",
       "      <td>4.000000</td>\n",
       "      <td>4.000000</td>\n",
       "      <td>3.000000</td>\n",
       "      <td>2.000000</td>\n",
       "      <td>5.000000</td>\n",
       "      <td>5.000000</td>\n",
       "      <td>5.000000</td>\n",
       "      <td>9.000000</td>\n",
       "      <td>9.000000</td>\n",
       "      <td>9.00000</td>\n",
       "    </tr>\n",
       "  </tbody>\n",
       "</table>\n",
       "<p>8 rows × 81 columns</p>\n",
       "</div>"
      ],
      "text/plain": [
       "            AGER_TYP  ALTERSKATEGORIE_GROB      ANREDE_KZ  CJT_GESAMTTYP  \\\n",
       "count  891221.000000         891221.000000  891221.000000  886367.000000   \n",
       "mean       -0.358435              2.777398       1.522098       3.632838   \n",
       "std         1.198724              1.068775       0.499512       1.595021   \n",
       "min        -1.000000              1.000000       1.000000       1.000000   \n",
       "25%        -1.000000              2.000000       1.000000       2.000000   \n",
       "50%        -1.000000              3.000000       2.000000       4.000000   \n",
       "75%        -1.000000              4.000000       2.000000       5.000000   \n",
       "max         3.000000              9.000000       2.000000       6.000000   \n",
       "\n",
       "       FINANZ_MINIMALIST  FINANZ_SPARER  FINANZ_VORSORGER  FINANZ_ANLEGER  \\\n",
       "count      891221.000000  891221.000000     891221.000000   891221.000000   \n",
       "mean            3.074528       2.821039          3.401106        3.033328   \n",
       "std             1.321055       1.464749          1.322134        1.529603   \n",
       "min             1.000000       1.000000          1.000000        1.000000   \n",
       "25%             2.000000       1.000000          3.000000        2.000000   \n",
       "50%             3.000000       3.000000          3.000000        3.000000   \n",
       "75%             4.000000       4.000000          5.000000        5.000000   \n",
       "max             5.000000       5.000000          5.000000        5.000000   \n",
       "\n",
       "       FINANZ_UNAUFFAELLIGER  FINANZ_HAUSBAUER      ...          PLZ8_ANTG1  \\\n",
       "count          891221.000000     891221.000000      ...       774706.000000   \n",
       "mean                2.874167          3.075121      ...            2.253330   \n",
       "std                 1.486731          1.353248      ...            0.972008   \n",
       "min                 1.000000          1.000000      ...            0.000000   \n",
       "25%                 2.000000          2.000000      ...            1.000000   \n",
       "50%                 3.000000          3.000000      ...            2.000000   \n",
       "75%                 4.000000          4.000000      ...            3.000000   \n",
       "max                 5.000000          5.000000      ...            4.000000   \n",
       "\n",
       "          PLZ8_ANTG2     PLZ8_ANTG3     PLZ8_ANTG4    PLZ8_BAUMAX  \\\n",
       "count  774706.000000  774706.000000  774706.000000  774706.000000   \n",
       "mean        2.801858       1.595426       0.699166       1.943913   \n",
       "std         0.920309       0.986736       0.727137       1.459654   \n",
       "min         0.000000       0.000000       0.000000       1.000000   \n",
       "25%         2.000000       1.000000       0.000000       1.000000   \n",
       "50%         3.000000       2.000000       1.000000       1.000000   \n",
       "75%         3.000000       2.000000       1.000000       3.000000   \n",
       "max         4.000000       3.000000       2.000000       5.000000   \n",
       "\n",
       "            PLZ8_HHZ       PLZ8_GBZ         ARBEIT    ORTSGR_KLS9  \\\n",
       "count  774706.000000  774706.000000  794005.000000  794005.000000   \n",
       "mean        3.612821       3.381087       3.167854       5.293002   \n",
       "std         0.973967       1.111598       1.002376       2.303739   \n",
       "min         1.000000       1.000000       1.000000       0.000000   \n",
       "25%         3.000000       3.000000       3.000000       4.000000   \n",
       "50%         4.000000       3.000000       3.000000       5.000000   \n",
       "75%         4.000000       4.000000       4.000000       7.000000   \n",
       "max         5.000000       5.000000       9.000000       9.000000   \n",
       "\n",
       "           RELAT_AB  \n",
       "count  794005.00000  \n",
       "mean        3.07222  \n",
       "std         1.36298  \n",
       "min         1.00000  \n",
       "25%         2.00000  \n",
       "50%         3.00000  \n",
       "75%         4.00000  \n",
       "max         9.00000  \n",
       "\n",
       "[8 rows x 81 columns]"
      ]
     },
     "execution_count": 5,
     "metadata": {},
     "output_type": "execute_result"
    }
   ],
   "source": [
    "# get a first statistical overview of the azdias data\n",
    "azdias.describe()"
   ]
  },
  {
   "cell_type": "code",
   "execution_count": 6,
   "metadata": {},
   "outputs": [
    {
     "data": {
      "text/html": [
       "<div>\n",
       "<style scoped>\n",
       "    .dataframe tbody tr th:only-of-type {\n",
       "        vertical-align: middle;\n",
       "    }\n",
       "\n",
       "    .dataframe tbody tr th {\n",
       "        vertical-align: top;\n",
       "    }\n",
       "\n",
       "    .dataframe thead th {\n",
       "        text-align: right;\n",
       "    }\n",
       "</style>\n",
       "<table border=\"1\" class=\"dataframe\">\n",
       "  <thead>\n",
       "    <tr style=\"text-align: right;\">\n",
       "      <th></th>\n",
       "      <th>AGER_TYP</th>\n",
       "      <th>ALTERSKATEGORIE_GROB</th>\n",
       "      <th>ANREDE_KZ</th>\n",
       "      <th>CJT_GESAMTTYP</th>\n",
       "      <th>FINANZ_MINIMALIST</th>\n",
       "      <th>FINANZ_SPARER</th>\n",
       "      <th>FINANZ_VORSORGER</th>\n",
       "      <th>FINANZ_ANLEGER</th>\n",
       "      <th>FINANZ_UNAUFFAELLIGER</th>\n",
       "      <th>FINANZ_HAUSBAUER</th>\n",
       "      <th>...</th>\n",
       "      <th>PLZ8_ANTG1</th>\n",
       "      <th>PLZ8_ANTG2</th>\n",
       "      <th>PLZ8_ANTG3</th>\n",
       "      <th>PLZ8_ANTG4</th>\n",
       "      <th>PLZ8_BAUMAX</th>\n",
       "      <th>PLZ8_HHZ</th>\n",
       "      <th>PLZ8_GBZ</th>\n",
       "      <th>ARBEIT</th>\n",
       "      <th>ORTSGR_KLS9</th>\n",
       "      <th>RELAT_AB</th>\n",
       "    </tr>\n",
       "  </thead>\n",
       "  <tbody>\n",
       "    <tr>\n",
       "      <th>0</th>\n",
       "      <td>-1</td>\n",
       "      <td>2</td>\n",
       "      <td>1</td>\n",
       "      <td>2.0</td>\n",
       "      <td>3</td>\n",
       "      <td>4</td>\n",
       "      <td>3</td>\n",
       "      <td>5</td>\n",
       "      <td>5</td>\n",
       "      <td>3</td>\n",
       "      <td>...</td>\n",
       "      <td>NaN</td>\n",
       "      <td>NaN</td>\n",
       "      <td>NaN</td>\n",
       "      <td>NaN</td>\n",
       "      <td>NaN</td>\n",
       "      <td>NaN</td>\n",
       "      <td>NaN</td>\n",
       "      <td>NaN</td>\n",
       "      <td>NaN</td>\n",
       "      <td>NaN</td>\n",
       "    </tr>\n",
       "    <tr>\n",
       "      <th>1</th>\n",
       "      <td>-1</td>\n",
       "      <td>1</td>\n",
       "      <td>2</td>\n",
       "      <td>5.0</td>\n",
       "      <td>1</td>\n",
       "      <td>5</td>\n",
       "      <td>2</td>\n",
       "      <td>5</td>\n",
       "      <td>4</td>\n",
       "      <td>5</td>\n",
       "      <td>...</td>\n",
       "      <td>2.0</td>\n",
       "      <td>3.0</td>\n",
       "      <td>2.0</td>\n",
       "      <td>1.0</td>\n",
       "      <td>1.0</td>\n",
       "      <td>5.0</td>\n",
       "      <td>4.0</td>\n",
       "      <td>3.0</td>\n",
       "      <td>5.0</td>\n",
       "      <td>4.0</td>\n",
       "    </tr>\n",
       "  </tbody>\n",
       "</table>\n",
       "<p>2 rows × 85 columns</p>\n",
       "</div>"
      ],
      "text/plain": [
       "   AGER_TYP  ALTERSKATEGORIE_GROB  ANREDE_KZ  CJT_GESAMTTYP  \\\n",
       "0        -1                     2          1            2.0   \n",
       "1        -1                     1          2            5.0   \n",
       "\n",
       "   FINANZ_MINIMALIST  FINANZ_SPARER  FINANZ_VORSORGER  FINANZ_ANLEGER  \\\n",
       "0                  3              4                 3               5   \n",
       "1                  1              5                 2               5   \n",
       "\n",
       "   FINANZ_UNAUFFAELLIGER  FINANZ_HAUSBAUER    ...     PLZ8_ANTG1  PLZ8_ANTG2  \\\n",
       "0                      5                 3    ...            NaN         NaN   \n",
       "1                      4                 5    ...            2.0         3.0   \n",
       "\n",
       "   PLZ8_ANTG3  PLZ8_ANTG4  PLZ8_BAUMAX  PLZ8_HHZ  PLZ8_GBZ  ARBEIT  \\\n",
       "0         NaN         NaN          NaN       NaN       NaN     NaN   \n",
       "1         2.0         1.0          1.0       5.0       4.0     3.0   \n",
       "\n",
       "   ORTSGR_KLS9  RELAT_AB  \n",
       "0          NaN       NaN  \n",
       "1          5.0       4.0  \n",
       "\n",
       "[2 rows x 85 columns]"
      ]
     },
     "execution_count": 6,
     "metadata": {},
     "output_type": "execute_result"
    }
   ],
   "source": [
    "# print first 2 entries in the dataset of the azdias data\n",
    "azdias.head(2)"
   ]
  },
  {
   "cell_type": "code",
   "execution_count": 7,
   "metadata": {},
   "outputs": [
    {
     "data": {
      "text/plain": [
       "(85, 4)"
      ]
     },
     "execution_count": 7,
     "metadata": {},
     "output_type": "execute_result"
    }
   ],
   "source": [
    "## get a feeling for the feat_info data\n",
    "# get shape of data frame\n",
    "feat_info.shape"
   ]
  },
  {
   "cell_type": "code",
   "execution_count": 8,
   "metadata": {},
   "outputs": [
    {
     "name": "stdout",
     "output_type": "stream",
     "text": [
      "<class 'pandas.core.frame.DataFrame'>\n",
      "RangeIndex: 85 entries, 0 to 84\n",
      "Data columns (total 4 columns):\n",
      "attribute             85 non-null object\n",
      "information_level     85 non-null object\n",
      "type                  85 non-null object\n",
      "missing_or_unknown    85 non-null object\n",
      "dtypes: object(4)\n",
      "memory usage: 2.7+ KB\n"
     ]
    }
   ],
   "source": [
    "# get information about the column and numer of entries\n",
    "feat_info.info()"
   ]
  },
  {
   "cell_type": "code",
   "execution_count": 9,
   "metadata": {},
   "outputs": [
    {
     "data": {
      "text/html": [
       "<div>\n",
       "<style scoped>\n",
       "    .dataframe tbody tr th:only-of-type {\n",
       "        vertical-align: middle;\n",
       "    }\n",
       "\n",
       "    .dataframe tbody tr th {\n",
       "        vertical-align: top;\n",
       "    }\n",
       "\n",
       "    .dataframe thead th {\n",
       "        text-align: right;\n",
       "    }\n",
       "</style>\n",
       "<table border=\"1\" class=\"dataframe\">\n",
       "  <thead>\n",
       "    <tr style=\"text-align: right;\">\n",
       "      <th></th>\n",
       "      <th>attribute</th>\n",
       "      <th>information_level</th>\n",
       "      <th>type</th>\n",
       "      <th>missing_or_unknown</th>\n",
       "    </tr>\n",
       "  </thead>\n",
       "  <tbody>\n",
       "    <tr>\n",
       "      <th>count</th>\n",
       "      <td>85</td>\n",
       "      <td>85</td>\n",
       "      <td>85</td>\n",
       "      <td>85</td>\n",
       "    </tr>\n",
       "    <tr>\n",
       "      <th>unique</th>\n",
       "      <td>85</td>\n",
       "      <td>9</td>\n",
       "      <td>5</td>\n",
       "      <td>9</td>\n",
       "    </tr>\n",
       "    <tr>\n",
       "      <th>top</th>\n",
       "      <td>SEMIO_KULT</td>\n",
       "      <td>person</td>\n",
       "      <td>ordinal</td>\n",
       "      <td>[-1]</td>\n",
       "    </tr>\n",
       "    <tr>\n",
       "      <th>freq</th>\n",
       "      <td>1</td>\n",
       "      <td>43</td>\n",
       "      <td>49</td>\n",
       "      <td>26</td>\n",
       "    </tr>\n",
       "  </tbody>\n",
       "</table>\n",
       "</div>"
      ],
      "text/plain": [
       "         attribute information_level     type missing_or_unknown\n",
       "count           85                85       85                 85\n",
       "unique          85                 9        5                  9\n",
       "top     SEMIO_KULT            person  ordinal               [-1]\n",
       "freq             1                43       49                 26"
      ]
     },
     "execution_count": 9,
     "metadata": {},
     "output_type": "execute_result"
    }
   ],
   "source": [
    "# get a first statistical overview of  he feat_info data\n",
    "feat_info.describe()"
   ]
  },
  {
   "cell_type": "code",
   "execution_count": 10,
   "metadata": {},
   "outputs": [
    {
     "data": {
      "text/html": [
       "<div>\n",
       "<style scoped>\n",
       "    .dataframe tbody tr th:only-of-type {\n",
       "        vertical-align: middle;\n",
       "    }\n",
       "\n",
       "    .dataframe tbody tr th {\n",
       "        vertical-align: top;\n",
       "    }\n",
       "\n",
       "    .dataframe thead th {\n",
       "        text-align: right;\n",
       "    }\n",
       "</style>\n",
       "<table border=\"1\" class=\"dataframe\">\n",
       "  <thead>\n",
       "    <tr style=\"text-align: right;\">\n",
       "      <th></th>\n",
       "      <th>attribute</th>\n",
       "      <th>information_level</th>\n",
       "      <th>type</th>\n",
       "      <th>missing_or_unknown</th>\n",
       "    </tr>\n",
       "  </thead>\n",
       "  <tbody>\n",
       "    <tr>\n",
       "      <th>0</th>\n",
       "      <td>AGER_TYP</td>\n",
       "      <td>person</td>\n",
       "      <td>categorical</td>\n",
       "      <td>[-1,0]</td>\n",
       "    </tr>\n",
       "    <tr>\n",
       "      <th>1</th>\n",
       "      <td>ALTERSKATEGORIE_GROB</td>\n",
       "      <td>person</td>\n",
       "      <td>ordinal</td>\n",
       "      <td>[-1,0,9]</td>\n",
       "    </tr>\n",
       "  </tbody>\n",
       "</table>\n",
       "</div>"
      ],
      "text/plain": [
       "              attribute information_level         type missing_or_unknown\n",
       "0              AGER_TYP            person  categorical             [-1,0]\n",
       "1  ALTERSKATEGORIE_GROB            person      ordinal           [-1,0,9]"
      ]
     },
     "execution_count": 10,
     "metadata": {},
     "output_type": "execute_result"
    }
   ],
   "source": [
    "# print first 2 entries in the dataset of the feat_info data\n",
    "feat_info.head(2)"
   ]
  },
  {
   "cell_type": "markdown",
   "metadata": {},
   "source": [
    "> **Tip**: Add additional cells to keep everything in reasonably-sized chunks! Keyboard shortcut `esc --> a` (press escape to enter command mode, then press the 'A' key) adds a new cell before the active cell, and `esc --> b` adds a new cell after the active cell. If you need to convert an active cell to a markdown cell, use `esc --> m` and to convert to a code cell, use `esc --> y`. \n",
    "\n",
    "## Step 1: Preprocessing\n",
    "\n",
    "### Step 1.1: Assess Missing Data\n",
    "\n",
    "The feature summary file contains a summary of properties for each demographics data column. You will use this file to help you make cleaning decisions during this stage of the project. First of all, you should assess the demographics data in terms of missing data. Pay attention to the following points as you perform your analysis, and take notes on what you observe. Make sure that you fill in the **Discussion** cell with your findings and decisions at the end of each step that has one!\n",
    "\n",
    "#### Step 1.1.1: Convert Missing Value Codes to NaNs\n",
    "The fourth column of the feature attributes summary (loaded in above as `feat_info`) documents the codes from the data dictionary that indicate missing or unknown data. While the file encodes this as a list (e.g. `[-1,0]`), this will get read in as a string object. You'll need to do a little bit of parsing to make use of it to identify and clean the data. Convert data that matches a 'missing' or 'unknown' value code into a numpy NaN value. You might want to see how much data takes on a 'missing' or 'unknown' code, and how much data is naturally missing, as a point of interest.\n",
    "\n",
    "**As one more reminder, you are encouraged to add additional cells to break up your analysis into manageable chunks.**"
   ]
  },
  {
   "cell_type": "code",
   "execution_count": 11,
   "metadata": {},
   "outputs": [],
   "source": [
    "## Identify missing or unknown data values and convert them to NaNs."
   ]
  },
  {
   "cell_type": "code",
   "execution_count": 12,
   "metadata": {},
   "outputs": [],
   "source": [
    "# before working on the data, create a copy of the data frames\n",
    "azdias_clean = azdias.copy()\n",
    "feat_info_clean = feat_info.copy()"
   ]
  },
  {
   "cell_type": "code",
   "execution_count": 13,
   "metadata": {},
   "outputs": [
    {
     "name": "stdout",
     "output_type": "stream",
     "text": [
      "Number of naturally missing data: 4896838\n"
     ]
    }
   ],
   "source": [
    "# identify missing data at the beginning\n",
    "nof_natural_missing_data = azdias_clean.isnull().sum().sum()\n",
    "print('Number of naturally missing data: {}'.format(nof_natural_missing_data))"
   ]
  },
  {
   "cell_type": "code",
   "execution_count": 14,
   "metadata": {},
   "outputs": [
    {
     "data": {
      "text/plain": [
       "array(['[-1,0,9]', '[-1,0]', '[-1,9]', '[-1,XX]', '[-1,X]', '[-1]', '[0]',\n",
       "       '[XX]', '[]'], dtype=object)"
      ]
     },
     "execution_count": 14,
     "metadata": {},
     "output_type": "execute_result"
    }
   ],
   "source": [
    "# get information what are the unique encodings in the feat_info data frame\n",
    "np.unique(feat_info.missing_or_unknown.values)"
   ]
  },
  {
   "cell_type": "markdown",
   "metadata": {},
   "source": [
    "All existing error encodings are saved in lists and identified <br>\n",
    "as int values: -1, 0, 1, 9 <br>\n",
    "as str values: X, XX <br>"
   ]
  },
  {
   "cell_type": "code",
   "execution_count": 15,
   "metadata": {},
   "outputs": [],
   "source": [
    "# get all attributes or column names\n",
    "column_names = feat_info_clean['attribute'].values\n",
    "# create a list containing all unique int values (see one cell above)\n",
    "int_values = ['-1', '0', '1', '9']\n",
    "\n",
    "# loop through all attributes\n",
    "for col in range(len(column_names)):\n",
    "    # get encoding_error values for current attribute\n",
    "    encoding_error = feat_info_clean.loc[[col]].missing_or_unknown.values\n",
    "    # remove list brackets per entry and separate the individual values\n",
    "    for ii in range(len(encoding_error)):\n",
    "        encoding_error[ii] = encoding_error[ii].strip('[').strip(']').split(',')    \n",
    "    # check if any of the entries is an int value with the type str and change type if it is an int(see int_values list above)\n",
    "    for jj in range(len(encoding_error[0])):\n",
    "        if encoding_error[0][jj] in int_values:\n",
    "            encoding_error[0][jj] = int(encoding_error[0][jj])\n",
    "    \n",
    "    # replace values in data frame azdias with nan which are encoded as error in the feat_info data frame\n",
    "    azdias_clean[column_names[col]] = azdias_clean[column_names[col]].replace(encoding_error[0], np.nan)"
   ]
  },
  {
   "cell_type": "code",
   "execution_count": 16,
   "metadata": {},
   "outputs": [
    {
     "name": "stdout",
     "output_type": "stream",
     "text": [
      "The total number of missing data after mapping is: 8373929, which is an increase of: 3477091\n"
     ]
    }
   ],
   "source": [
    "# identify missing data after the mapping of the errors identified using the feat_info data frame\n",
    "nof_missing_data_after_mapping = azdias_clean.isnull().sum()\n",
    "\n",
    "print('The total number of missing data after mapping is: {}, which is an increase of: {}'.format(nof_missing_data_after_mapping.sum(), nof_missing_data_after_mapping.sum() - nof_natural_missing_data))"
   ]
  },
  {
   "cell_type": "markdown",
   "metadata": {},
   "source": [
    "#### Step 1.1.2: Assess Missing Data in Each Column\n",
    "\n",
    "How much missing data is present in each column? There are a few columns that are outliers in terms of the proportion of values that are missing. You will want to use matplotlib's [`hist()`](https://matplotlib.org/api/_as_gen/matplotlib.pyplot.hist.html) function to visualize the distribution of missing value counts to find these columns. Identify and document these columns. While some of these columns might have justifications for keeping or re-encoding the data, for this project you should just remove them from the dataframe. (Feel free to make remarks about these outlier columns in the discussion, however!)\n",
    "\n",
    "For the remaining features, are there any patterns in which columns have, or share, missing data?"
   ]
  },
  {
   "cell_type": "code",
   "execution_count": 17,
   "metadata": {},
   "outputs": [
    {
     "data": {
      "text/plain": [
       "TITEL_KZ                 0.997576\n",
       "AGER_TYP                 0.769554\n",
       "KK_KUNDENTYP             0.655967\n",
       "KBA05_BAUMAX             0.534687\n",
       "GEBURTSJAHR              0.440203\n",
       "ALTER_HH                 0.348137\n",
       "REGIOTYP                 0.177357\n",
       "KKK                      0.177357\n",
       "W_KEIT_KIND_HH           0.166051\n",
       "KBA05_ANTG4              0.149597\n",
       "KBA05_GBZ                0.149597\n",
       "MOBI_REGIO               0.149597\n",
       "KBA05_ANTG1              0.149597\n",
       "KBA05_ANTG2              0.149597\n",
       "KBA05_ANTG3              0.149597\n",
       "PLZ8_GBZ                 0.130736\n",
       "PLZ8_HHZ                 0.130736\n",
       "PLZ8_BAUMAX              0.130736\n",
       "PLZ8_ANTG4               0.130736\n",
       "PLZ8_ANTG1               0.130736\n",
       "PLZ8_ANTG3               0.130736\n",
       "PLZ8_ANTG2               0.130736\n",
       "SHOPPER_TYP              0.124768\n",
       "VERS_TYP                 0.124768\n",
       "HEALTH_TYP               0.124768\n",
       "NATIONALITAET_KZ         0.121536\n",
       "PRAEGENDE_JUGENDJAHRE    0.121366\n",
       "KBA13_ANZAHL_PKW         0.118714\n",
       "ANZ_HAUSHALTE_AKTIV      0.111769\n",
       "CAMEO_INTL_2015          0.111479\n",
       "                           ...   \n",
       "RETOURTYP_BK_S           0.005446\n",
       "ONLINE_AFFINITAET        0.005446\n",
       "LP_STATUS_FEIN           0.005446\n",
       "LP_STATUS_GROB           0.005446\n",
       "GFK_URLAUBERTYP          0.005446\n",
       "ALTERSKATEGORIE_GROB     0.003233\n",
       "FINANZTYP                0.000000\n",
       "GREEN_AVANTGARDE         0.000000\n",
       "FINANZ_HAUSBAUER         0.000000\n",
       "FINANZ_UNAUFFAELLIGER    0.000000\n",
       "FINANZ_ANLEGER           0.000000\n",
       "FINANZ_SPARER            0.000000\n",
       "FINANZ_MINIMALIST        0.000000\n",
       "ANREDE_KZ                0.000000\n",
       "FINANZ_VORSORGER         0.000000\n",
       "SEMIO_FAM                0.000000\n",
       "SEMIO_SOZ                0.000000\n",
       "SEMIO_REL                0.000000\n",
       "SEMIO_MAT                0.000000\n",
       "SEMIO_VERT               0.000000\n",
       "SEMIO_LUST               0.000000\n",
       "SEMIO_ERL                0.000000\n",
       "SEMIO_KULT               0.000000\n",
       "SEMIO_RAT                0.000000\n",
       "SEMIO_KRIT               0.000000\n",
       "SEMIO_DOM                0.000000\n",
       "SEMIO_KAEM               0.000000\n",
       "SEMIO_PFLICHT            0.000000\n",
       "SEMIO_TRADV              0.000000\n",
       "ZABEOTYP                 0.000000\n",
       "Length: 85, dtype: float64"
      ]
     },
     "execution_count": 17,
     "metadata": {},
     "output_type": "execute_result"
    }
   ],
   "source": [
    "# Perform an assessment of how much missing data there is in each column of the\n",
    "# dataset.\n",
    "\n",
    "# calculate ratio of missing data per attribute in descending order\n",
    "missing_values_per_attribute = (nof_missing_data_after_mapping / azdias_clean.shape[0]).sort_values(ascending=False)\n",
    "# show values\n",
    "missing_values_per_attribute"
   ]
  },
  {
   "cell_type": "code",
   "execution_count": 18,
   "metadata": {},
   "outputs": [
    {
     "data": {
      "image/png": "[encoded data removed]",
      "text/plain": [
       "<matplotlib.figure.Figure at 0x7fa92f1ff8d0>"
      ]
     },
     "metadata": {
      "needs_background": "light"
     },
     "output_type": "display_data"
    }
   ],
   "source": [
    "# Investigate patterns in the amount of missing data in each column.\n",
    "\n",
    "plt.hist(missing_values_per_attribute*100, bins=42);\n",
    "plt.xlabel('Percentage of missing data per attribute [%]');\n",
    "plt.ylabel('Counts of attributes');"
   ]
  },
  {
   "cell_type": "code",
   "execution_count": 19,
   "metadata": {},
   "outputs": [],
   "source": [
    "# Remove the outlier columns from the dataset. (You'll perform other data\n",
    "# engineering tasks such as re-encoding and imputation later.)\n",
    "\n",
    "# I define an attribute as an outlier if more than 20% of the rows have missing values\n",
    "threshold_outlier = 0.2"
   ]
  },
  {
   "cell_type": "code",
   "execution_count": 20,
   "metadata": {},
   "outputs": [
    {
     "data": {
      "text/plain": [
       "TITEL_KZ        0.997576\n",
       "AGER_TYP        0.769554\n",
       "KK_KUNDENTYP    0.655967\n",
       "KBA05_BAUMAX    0.534687\n",
       "GEBURTSJAHR     0.440203\n",
       "ALTER_HH        0.348137\n",
       "dtype: float64"
      ]
     },
     "execution_count": 20,
     "metadata": {},
     "output_type": "execute_result"
    }
   ],
   "source": [
    "# get attribute outlier\n",
    "columns_outlier = missing_values_per_attribute[missing_values_per_attribute>threshold_outlier]\n",
    "columns_outlier"
   ]
  },
  {
   "cell_type": "code",
   "execution_count": 21,
   "metadata": {},
   "outputs": [],
   "source": [
    "# drop outlier columns in data frame azdias\n",
    "azdias_clean.drop(columns_outlier.index, axis=1, inplace=True)"
   ]
  },
  {
   "cell_type": "code",
   "execution_count": 22,
   "metadata": {},
   "outputs": [
    {
     "data": {
      "text/html": [
       "<div>\n",
       "<style scoped>\n",
       "    .dataframe tbody tr th:only-of-type {\n",
       "        vertical-align: middle;\n",
       "    }\n",
       "\n",
       "    .dataframe tbody tr th {\n",
       "        vertical-align: top;\n",
       "    }\n",
       "\n",
       "    .dataframe thead th {\n",
       "        text-align: right;\n",
       "    }\n",
       "</style>\n",
       "<table border=\"1\" class=\"dataframe\">\n",
       "  <thead>\n",
       "    <tr style=\"text-align: right;\">\n",
       "      <th></th>\n",
       "      <th>attribute</th>\n",
       "      <th>information_level</th>\n",
       "      <th>type</th>\n",
       "      <th>missing_or_unknown</th>\n",
       "    </tr>\n",
       "  </thead>\n",
       "  <tbody>\n",
       "    <tr>\n",
       "      <th>0</th>\n",
       "      <td>AGER_TYP</td>\n",
       "      <td>person</td>\n",
       "      <td>categorical</td>\n",
       "      <td>[-1,0]</td>\n",
       "    </tr>\n",
       "    <tr>\n",
       "      <th>1</th>\n",
       "      <td>ALTERSKATEGORIE_GROB</td>\n",
       "      <td>person</td>\n",
       "      <td>ordinal</td>\n",
       "      <td>[-1,0,9]</td>\n",
       "    </tr>\n",
       "    <tr>\n",
       "      <th>2</th>\n",
       "      <td>ANREDE_KZ</td>\n",
       "      <td>person</td>\n",
       "      <td>categorical</td>\n",
       "      <td>[-1,0]</td>\n",
       "    </tr>\n",
       "    <tr>\n",
       "      <th>3</th>\n",
       "      <td>CJT_GESAMTTYP</td>\n",
       "      <td>person</td>\n",
       "      <td>categorical</td>\n",
       "      <td>[0]</td>\n",
       "    </tr>\n",
       "    <tr>\n",
       "      <th>4</th>\n",
       "      <td>FINANZ_MINIMALIST</td>\n",
       "      <td>person</td>\n",
       "      <td>ordinal</td>\n",
       "      <td>[-1]</td>\n",
       "    </tr>\n",
       "    <tr>\n",
       "      <th>5</th>\n",
       "      <td>FINANZ_SPARER</td>\n",
       "      <td>person</td>\n",
       "      <td>ordinal</td>\n",
       "      <td>[-1]</td>\n",
       "    </tr>\n",
       "    <tr>\n",
       "      <th>6</th>\n",
       "      <td>FINANZ_VORSORGER</td>\n",
       "      <td>person</td>\n",
       "      <td>ordinal</td>\n",
       "      <td>[-1]</td>\n",
       "    </tr>\n",
       "    <tr>\n",
       "      <th>7</th>\n",
       "      <td>FINANZ_ANLEGER</td>\n",
       "      <td>person</td>\n",
       "      <td>ordinal</td>\n",
       "      <td>[-1]</td>\n",
       "    </tr>\n",
       "    <tr>\n",
       "      <th>8</th>\n",
       "      <td>FINANZ_UNAUFFAELLIGER</td>\n",
       "      <td>person</td>\n",
       "      <td>ordinal</td>\n",
       "      <td>[-1]</td>\n",
       "    </tr>\n",
       "    <tr>\n",
       "      <th>9</th>\n",
       "      <td>FINANZ_HAUSBAUER</td>\n",
       "      <td>person</td>\n",
       "      <td>ordinal</td>\n",
       "      <td>[-1]</td>\n",
       "    </tr>\n",
       "    <tr>\n",
       "      <th>10</th>\n",
       "      <td>FINANZTYP</td>\n",
       "      <td>person</td>\n",
       "      <td>categorical</td>\n",
       "      <td>[-1]</td>\n",
       "    </tr>\n",
       "    <tr>\n",
       "      <th>11</th>\n",
       "      <td>GEBURTSJAHR</td>\n",
       "      <td>person</td>\n",
       "      <td>numeric</td>\n",
       "      <td>[0]</td>\n",
       "    </tr>\n",
       "    <tr>\n",
       "      <th>12</th>\n",
       "      <td>GFK_URLAUBERTYP</td>\n",
       "      <td>person</td>\n",
       "      <td>categorical</td>\n",
       "      <td>[]</td>\n",
       "    </tr>\n",
       "    <tr>\n",
       "      <th>13</th>\n",
       "      <td>GREEN_AVANTGARDE</td>\n",
       "      <td>person</td>\n",
       "      <td>categorical</td>\n",
       "      <td>[]</td>\n",
       "    </tr>\n",
       "    <tr>\n",
       "      <th>14</th>\n",
       "      <td>HEALTH_TYP</td>\n",
       "      <td>person</td>\n",
       "      <td>ordinal</td>\n",
       "      <td>[-1,0]</td>\n",
       "    </tr>\n",
       "    <tr>\n",
       "      <th>15</th>\n",
       "      <td>LP_LEBENSPHASE_FEIN</td>\n",
       "      <td>person</td>\n",
       "      <td>mixed</td>\n",
       "      <td>[0]</td>\n",
       "    </tr>\n",
       "    <tr>\n",
       "      <th>16</th>\n",
       "      <td>LP_LEBENSPHASE_GROB</td>\n",
       "      <td>person</td>\n",
       "      <td>mixed</td>\n",
       "      <td>[0]</td>\n",
       "    </tr>\n",
       "    <tr>\n",
       "      <th>17</th>\n",
       "      <td>LP_FAMILIE_FEIN</td>\n",
       "      <td>person</td>\n",
       "      <td>categorical</td>\n",
       "      <td>[0]</td>\n",
       "    </tr>\n",
       "    <tr>\n",
       "      <th>18</th>\n",
       "      <td>LP_FAMILIE_GROB</td>\n",
       "      <td>person</td>\n",
       "      <td>categorical</td>\n",
       "      <td>[0]</td>\n",
       "    </tr>\n",
       "    <tr>\n",
       "      <th>19</th>\n",
       "      <td>LP_STATUS_FEIN</td>\n",
       "      <td>person</td>\n",
       "      <td>categorical</td>\n",
       "      <td>[0]</td>\n",
       "    </tr>\n",
       "    <tr>\n",
       "      <th>20</th>\n",
       "      <td>LP_STATUS_GROB</td>\n",
       "      <td>person</td>\n",
       "      <td>categorical</td>\n",
       "      <td>[0]</td>\n",
       "    </tr>\n",
       "    <tr>\n",
       "      <th>21</th>\n",
       "      <td>NATIONALITAET_KZ</td>\n",
       "      <td>person</td>\n",
       "      <td>categorical</td>\n",
       "      <td>[-1,0]</td>\n",
       "    </tr>\n",
       "    <tr>\n",
       "      <th>22</th>\n",
       "      <td>PRAEGENDE_JUGENDJAHRE</td>\n",
       "      <td>person</td>\n",
       "      <td>mixed</td>\n",
       "      <td>[-1,0]</td>\n",
       "    </tr>\n",
       "    <tr>\n",
       "      <th>23</th>\n",
       "      <td>RETOURTYP_BK_S</td>\n",
       "      <td>person</td>\n",
       "      <td>ordinal</td>\n",
       "      <td>[0]</td>\n",
       "    </tr>\n",
       "    <tr>\n",
       "      <th>24</th>\n",
       "      <td>SEMIO_SOZ</td>\n",
       "      <td>person</td>\n",
       "      <td>ordinal</td>\n",
       "      <td>[-1,9]</td>\n",
       "    </tr>\n",
       "    <tr>\n",
       "      <th>25</th>\n",
       "      <td>SEMIO_FAM</td>\n",
       "      <td>person</td>\n",
       "      <td>ordinal</td>\n",
       "      <td>[-1,9]</td>\n",
       "    </tr>\n",
       "    <tr>\n",
       "      <th>26</th>\n",
       "      <td>SEMIO_REL</td>\n",
       "      <td>person</td>\n",
       "      <td>ordinal</td>\n",
       "      <td>[-1,9]</td>\n",
       "    </tr>\n",
       "    <tr>\n",
       "      <th>27</th>\n",
       "      <td>SEMIO_MAT</td>\n",
       "      <td>person</td>\n",
       "      <td>ordinal</td>\n",
       "      <td>[-1,9]</td>\n",
       "    </tr>\n",
       "    <tr>\n",
       "      <th>28</th>\n",
       "      <td>SEMIO_VERT</td>\n",
       "      <td>person</td>\n",
       "      <td>ordinal</td>\n",
       "      <td>[-1,9]</td>\n",
       "    </tr>\n",
       "    <tr>\n",
       "      <th>29</th>\n",
       "      <td>SEMIO_LUST</td>\n",
       "      <td>person</td>\n",
       "      <td>ordinal</td>\n",
       "      <td>[-1,9]</td>\n",
       "    </tr>\n",
       "    <tr>\n",
       "      <th>...</th>\n",
       "      <td>...</td>\n",
       "      <td>...</td>\n",
       "      <td>...</td>\n",
       "      <td>...</td>\n",
       "    </tr>\n",
       "    <tr>\n",
       "      <th>55</th>\n",
       "      <td>OST_WEST_KZ</td>\n",
       "      <td>building</td>\n",
       "      <td>categorical</td>\n",
       "      <td>[-1]</td>\n",
       "    </tr>\n",
       "    <tr>\n",
       "      <th>56</th>\n",
       "      <td>WOHNLAGE</td>\n",
       "      <td>building</td>\n",
       "      <td>mixed</td>\n",
       "      <td>[-1]</td>\n",
       "    </tr>\n",
       "    <tr>\n",
       "      <th>57</th>\n",
       "      <td>CAMEO_DEUG_2015</td>\n",
       "      <td>microcell_rr4</td>\n",
       "      <td>categorical</td>\n",
       "      <td>[-1,X]</td>\n",
       "    </tr>\n",
       "    <tr>\n",
       "      <th>58</th>\n",
       "      <td>CAMEO_DEU_2015</td>\n",
       "      <td>microcell_rr4</td>\n",
       "      <td>categorical</td>\n",
       "      <td>[XX]</td>\n",
       "    </tr>\n",
       "    <tr>\n",
       "      <th>59</th>\n",
       "      <td>CAMEO_INTL_2015</td>\n",
       "      <td>microcell_rr4</td>\n",
       "      <td>mixed</td>\n",
       "      <td>[-1,XX]</td>\n",
       "    </tr>\n",
       "    <tr>\n",
       "      <th>60</th>\n",
       "      <td>KBA05_ANTG1</td>\n",
       "      <td>microcell_rr3</td>\n",
       "      <td>ordinal</td>\n",
       "      <td>[-1]</td>\n",
       "    </tr>\n",
       "    <tr>\n",
       "      <th>61</th>\n",
       "      <td>KBA05_ANTG2</td>\n",
       "      <td>microcell_rr3</td>\n",
       "      <td>ordinal</td>\n",
       "      <td>[-1]</td>\n",
       "    </tr>\n",
       "    <tr>\n",
       "      <th>62</th>\n",
       "      <td>KBA05_ANTG3</td>\n",
       "      <td>microcell_rr3</td>\n",
       "      <td>ordinal</td>\n",
       "      <td>[-1]</td>\n",
       "    </tr>\n",
       "    <tr>\n",
       "      <th>63</th>\n",
       "      <td>KBA05_ANTG4</td>\n",
       "      <td>microcell_rr3</td>\n",
       "      <td>ordinal</td>\n",
       "      <td>[-1]</td>\n",
       "    </tr>\n",
       "    <tr>\n",
       "      <th>64</th>\n",
       "      <td>KBA05_BAUMAX</td>\n",
       "      <td>microcell_rr3</td>\n",
       "      <td>mixed</td>\n",
       "      <td>[-1,0]</td>\n",
       "    </tr>\n",
       "    <tr>\n",
       "      <th>65</th>\n",
       "      <td>KBA05_GBZ</td>\n",
       "      <td>microcell_rr3</td>\n",
       "      <td>ordinal</td>\n",
       "      <td>[-1,0]</td>\n",
       "    </tr>\n",
       "    <tr>\n",
       "      <th>66</th>\n",
       "      <td>BALLRAUM</td>\n",
       "      <td>postcode</td>\n",
       "      <td>ordinal</td>\n",
       "      <td>[-1]</td>\n",
       "    </tr>\n",
       "    <tr>\n",
       "      <th>67</th>\n",
       "      <td>EWDICHTE</td>\n",
       "      <td>postcode</td>\n",
       "      <td>ordinal</td>\n",
       "      <td>[-1]</td>\n",
       "    </tr>\n",
       "    <tr>\n",
       "      <th>68</th>\n",
       "      <td>INNENSTADT</td>\n",
       "      <td>postcode</td>\n",
       "      <td>ordinal</td>\n",
       "      <td>[-1]</td>\n",
       "    </tr>\n",
       "    <tr>\n",
       "      <th>69</th>\n",
       "      <td>GEBAEUDETYP_RASTER</td>\n",
       "      <td>region_rr1</td>\n",
       "      <td>ordinal</td>\n",
       "      <td>[]</td>\n",
       "    </tr>\n",
       "    <tr>\n",
       "      <th>70</th>\n",
       "      <td>KKK</td>\n",
       "      <td>region_rr1</td>\n",
       "      <td>ordinal</td>\n",
       "      <td>[-1,0]</td>\n",
       "    </tr>\n",
       "    <tr>\n",
       "      <th>71</th>\n",
       "      <td>MOBI_REGIO</td>\n",
       "      <td>region_rr1</td>\n",
       "      <td>ordinal</td>\n",
       "      <td>[]</td>\n",
       "    </tr>\n",
       "    <tr>\n",
       "      <th>72</th>\n",
       "      <td>ONLINE_AFFINITAET</td>\n",
       "      <td>region_rr1</td>\n",
       "      <td>ordinal</td>\n",
       "      <td>[]</td>\n",
       "    </tr>\n",
       "    <tr>\n",
       "      <th>73</th>\n",
       "      <td>REGIOTYP</td>\n",
       "      <td>region_rr1</td>\n",
       "      <td>ordinal</td>\n",
       "      <td>[-1,0]</td>\n",
       "    </tr>\n",
       "    <tr>\n",
       "      <th>74</th>\n",
       "      <td>KBA13_ANZAHL_PKW</td>\n",
       "      <td>macrocell_plz8</td>\n",
       "      <td>numeric</td>\n",
       "      <td>[]</td>\n",
       "    </tr>\n",
       "    <tr>\n",
       "      <th>75</th>\n",
       "      <td>PLZ8_ANTG1</td>\n",
       "      <td>macrocell_plz8</td>\n",
       "      <td>ordinal</td>\n",
       "      <td>[-1]</td>\n",
       "    </tr>\n",
       "    <tr>\n",
       "      <th>76</th>\n",
       "      <td>PLZ8_ANTG2</td>\n",
       "      <td>macrocell_plz8</td>\n",
       "      <td>ordinal</td>\n",
       "      <td>[-1]</td>\n",
       "    </tr>\n",
       "    <tr>\n",
       "      <th>77</th>\n",
       "      <td>PLZ8_ANTG3</td>\n",
       "      <td>macrocell_plz8</td>\n",
       "      <td>ordinal</td>\n",
       "      <td>[-1]</td>\n",
       "    </tr>\n",
       "    <tr>\n",
       "      <th>78</th>\n",
       "      <td>PLZ8_ANTG4</td>\n",
       "      <td>macrocell_plz8</td>\n",
       "      <td>ordinal</td>\n",
       "      <td>[-1]</td>\n",
       "    </tr>\n",
       "    <tr>\n",
       "      <th>79</th>\n",
       "      <td>PLZ8_BAUMAX</td>\n",
       "      <td>macrocell_plz8</td>\n",
       "      <td>mixed</td>\n",
       "      <td>[-1,0]</td>\n",
       "    </tr>\n",
       "    <tr>\n",
       "      <th>80</th>\n",
       "      <td>PLZ8_HHZ</td>\n",
       "      <td>macrocell_plz8</td>\n",
       "      <td>ordinal</td>\n",
       "      <td>[-1]</td>\n",
       "    </tr>\n",
       "    <tr>\n",
       "      <th>81</th>\n",
       "      <td>PLZ8_GBZ</td>\n",
       "      <td>macrocell_plz8</td>\n",
       "      <td>ordinal</td>\n",
       "      <td>[-1]</td>\n",
       "    </tr>\n",
       "    <tr>\n",
       "      <th>82</th>\n",
       "      <td>ARBEIT</td>\n",
       "      <td>community</td>\n",
       "      <td>ordinal</td>\n",
       "      <td>[-1,9]</td>\n",
       "    </tr>\n",
       "    <tr>\n",
       "      <th>83</th>\n",
       "      <td>ORTSGR_KLS9</td>\n",
       "      <td>community</td>\n",
       "      <td>ordinal</td>\n",
       "      <td>[-1,0]</td>\n",
       "    </tr>\n",
       "    <tr>\n",
       "      <th>84</th>\n",
       "      <td>RELAT_AB</td>\n",
       "      <td>community</td>\n",
       "      <td>ordinal</td>\n",
       "      <td>[-1,9]</td>\n",
       "    </tr>\n",
       "  </tbody>\n",
       "</table>\n",
       "<p>85 rows × 4 columns</p>\n",
       "</div>"
      ],
      "text/plain": [
       "                attribute information_level         type missing_or_unknown\n",
       "0                AGER_TYP            person  categorical             [-1,0]\n",
       "1    ALTERSKATEGORIE_GROB            person      ordinal           [-1,0,9]\n",
       "2               ANREDE_KZ            person  categorical             [-1,0]\n",
       "3           CJT_GESAMTTYP            person  categorical                [0]\n",
       "4       FINANZ_MINIMALIST            person      ordinal               [-1]\n",
       "5           FINANZ_SPARER            person      ordinal               [-1]\n",
       "6        FINANZ_VORSORGER            person      ordinal               [-1]\n",
       "7          FINANZ_ANLEGER            person      ordinal               [-1]\n",
       "8   FINANZ_UNAUFFAELLIGER            person      ordinal               [-1]\n",
       "9        FINANZ_HAUSBAUER            person      ordinal               [-1]\n",
       "10              FINANZTYP            person  categorical               [-1]\n",
       "11            GEBURTSJAHR            person      numeric                [0]\n",
       "12        GFK_URLAUBERTYP            person  categorical                 []\n",
       "13       GREEN_AVANTGARDE            person  categorical                 []\n",
       "14             HEALTH_TYP            person      ordinal             [-1,0]\n",
       "15    LP_LEBENSPHASE_FEIN            person        mixed                [0]\n",
       "16    LP_LEBENSPHASE_GROB            person        mixed                [0]\n",
       "17        LP_FAMILIE_FEIN            person  categorical                [0]\n",
       "18        LP_FAMILIE_GROB            person  categorical                [0]\n",
       "19         LP_STATUS_FEIN            person  categorical                [0]\n",
       "20         LP_STATUS_GROB            person  categorical                [0]\n",
       "21       NATIONALITAET_KZ            person  categorical             [-1,0]\n",
       "22  PRAEGENDE_JUGENDJAHRE            person        mixed             [-1,0]\n",
       "23         RETOURTYP_BK_S            person      ordinal                [0]\n",
       "24              SEMIO_SOZ            person      ordinal             [-1,9]\n",
       "25              SEMIO_FAM            person      ordinal             [-1,9]\n",
       "26              SEMIO_REL            person      ordinal             [-1,9]\n",
       "27              SEMIO_MAT            person      ordinal             [-1,9]\n",
       "28             SEMIO_VERT            person      ordinal             [-1,9]\n",
       "29             SEMIO_LUST            person      ordinal             [-1,9]\n",
       "..                    ...               ...          ...                ...\n",
       "55            OST_WEST_KZ          building  categorical               [-1]\n",
       "56               WOHNLAGE          building        mixed               [-1]\n",
       "57        CAMEO_DEUG_2015     microcell_rr4  categorical             [-1,X]\n",
       "58         CAMEO_DEU_2015     microcell_rr4  categorical               [XX]\n",
       "59        CAMEO_INTL_2015     microcell_rr4        mixed            [-1,XX]\n",
       "60            KBA05_ANTG1     microcell_rr3      ordinal               [-1]\n",
       "61            KBA05_ANTG2     microcell_rr3      ordinal               [-1]\n",
       "62            KBA05_ANTG3     microcell_rr3      ordinal               [-1]\n",
       "63            KBA05_ANTG4     microcell_rr3      ordinal               [-1]\n",
       "64           KBA05_BAUMAX     microcell_rr3        mixed             [-1,0]\n",
       "65              KBA05_GBZ     microcell_rr3      ordinal             [-1,0]\n",
       "66               BALLRAUM          postcode      ordinal               [-1]\n",
       "67               EWDICHTE          postcode      ordinal               [-1]\n",
       "68             INNENSTADT          postcode      ordinal               [-1]\n",
       "69     GEBAEUDETYP_RASTER        region_rr1      ordinal                 []\n",
       "70                    KKK        region_rr1      ordinal             [-1,0]\n",
       "71             MOBI_REGIO        region_rr1      ordinal                 []\n",
       "72      ONLINE_AFFINITAET        region_rr1      ordinal                 []\n",
       "73               REGIOTYP        region_rr1      ordinal             [-1,0]\n",
       "74       KBA13_ANZAHL_PKW    macrocell_plz8      numeric                 []\n",
       "75             PLZ8_ANTG1    macrocell_plz8      ordinal               [-1]\n",
       "76             PLZ8_ANTG2    macrocell_plz8      ordinal               [-1]\n",
       "77             PLZ8_ANTG3    macrocell_plz8      ordinal               [-1]\n",
       "78             PLZ8_ANTG4    macrocell_plz8      ordinal               [-1]\n",
       "79            PLZ8_BAUMAX    macrocell_plz8        mixed             [-1,0]\n",
       "80               PLZ8_HHZ    macrocell_plz8      ordinal               [-1]\n",
       "81               PLZ8_GBZ    macrocell_plz8      ordinal               [-1]\n",
       "82                 ARBEIT         community      ordinal             [-1,9]\n",
       "83            ORTSGR_KLS9         community      ordinal             [-1,0]\n",
       "84               RELAT_AB         community      ordinal             [-1,9]\n",
       "\n",
       "[85 rows x 4 columns]"
      ]
     },
     "execution_count": 22,
     "metadata": {},
     "output_type": "execute_result"
    }
   ],
   "source": [
    "feat_info_clean"
   ]
  },
  {
   "cell_type": "code",
   "execution_count": 23,
   "metadata": {},
   "outputs": [],
   "source": [
    "# drop outlier columns in data frame feat_info\n",
    "for col_outlier in columns_outlier.index:\n",
    "    feat_info_clean = feat_info_clean[feat_info_clean.attribute != col_outlier]"
   ]
  },
  {
   "cell_type": "code",
   "execution_count": 24,
   "metadata": {},
   "outputs": [
    {
     "name": "stdout",
     "output_type": "stream",
     "text": [
      "(891221, 79)\n",
      "(79, 4)\n"
     ]
    }
   ],
   "source": [
    "# check number of rows & columns\n",
    "print(azdias_clean.shape)\n",
    "print(feat_info_clean.shape)"
   ]
  },
  {
   "cell_type": "markdown",
   "metadata": {},
   "source": [
    "#### Discussion 1.1.2: Assess Missing Data in Each Column\n",
    "\n",
    "From the histogram above it is clearly visible that the most attributes have less than 20% of missing data. The distribution of missing data is around approximately 10% and 18% and therefore enables me to clearly separate the outliers using a threshold of 20% missing data. <br>\n",
    "The removed columns are saved in the columns_outlier variable and contains the following 6 attributes: TITEL_KZ, AGER_TYP, KK_KUNDENTYP, KBA05_BAUMAX, GEBURTSJAHR, ALTER_HH"
   ]
  },
  {
   "cell_type": "markdown",
   "metadata": {},
   "source": [
    "#### Step 1.1.3: Assess Missing Data in Each Row\n",
    "\n",
    "Now, you'll perform a similar assessment for the rows of the dataset. How much data is missing in each row? As with the columns, you should see some groups of points that have a very different numbers of missing values. Divide the data into two subsets: one for data points that are above some threshold for missing values, and a second subset for points below that threshold.\n",
    "\n",
    "In order to know what to do with the outlier rows, we should see if the distribution of data values on columns that are not missing data (or are missing very little data) are similar or different between the two groups. Select at least five of these columns and compare the distribution of values.\n",
    "- You can use seaborn's [`countplot()`](https://seaborn.pydata.org/generated/seaborn.countplot.html) function to create a bar chart of code frequencies and matplotlib's [`subplot()`](https://matplotlib.org/api/_as_gen/matplotlib.pyplot.subplot.html) function to put bar charts for the two subplots side by side.\n",
    "- To reduce repeated code, you might want to write a function that can perform this comparison, taking as one of its arguments a column to be compared.\n",
    "\n",
    "Depending on what you observe in your comparison, this will have implications on how you approach your conclusions later in the analysis. If the distributions of non-missing features look similar between the data with many missing values and the data with few or no missing values, then we could argue that simply dropping those points from the analysis won't present a major issue. On the other hand, if the data with many missing values looks very different from the data with few or no missing values, then we should make a note on those data as special. We'll revisit these data later on. **Either way, you should continue your analysis for now using just the subset of the data with few or no missing values.**"
   ]
  },
  {
   "cell_type": "code",
   "execution_count": 25,
   "metadata": {},
   "outputs": [
    {
     "data": {
      "image/png": "[encoded data removed]",
      "text/plain": [
       "<matplotlib.figure.Figure at 0x7fa92c9d9128>"
      ]
     },
     "metadata": {
      "needs_background": "light"
     },
     "output_type": "display_data"
    }
   ],
   "source": [
    "# How much data is missing in each row of the dataset?\n",
    "\n",
    "# calculate the number of missing data per row in descending order\n",
    "missing_values_per_row = azdias_clean.isnull().sum(axis=1).sort_values(ascending=False)\n",
    "# show histogram plot of missing values per row\n",
    "plt.hist(missing_values_per_row, bins=max(missing_values_per_row));\n",
    "plt.xlabel('Missing values per row');\n",
    "plt.ylabel('Counts of rows');\n"
   ]
  },
  {
   "cell_type": "code",
   "execution_count": 26,
   "metadata": {},
   "outputs": [
    {
     "name": "stdout",
     "output_type": "stream",
     "text": [
      "Percentage of rows with less than 10 missing values: 0.8693051442908101\n"
     ]
    }
   ],
   "source": [
    "print('Percentage of rows with less than 10 missing values: {}'.format((missing_values_per_row < 10).sum() / azdias_clean.shape[0]))"
   ]
  },
  {
   "cell_type": "markdown",
   "metadata": {},
   "source": [
    "From the above histogram and the last calculation one sees that setting a threshold to 10 missing values per row will divide the data into two subsets in which one has more than 85% of all rows with just a few missing values (less than 10) and one has less than 15% of the rows with a number of missing values of more or equal to 10 missing values."
   ]
  },
  {
   "cell_type": "code",
   "execution_count": 27,
   "metadata": {},
   "outputs": [
    {
     "name": "stderr",
     "output_type": "stream",
     "text": [
      "/opt/conda/lib/python3.6/site-packages/ipykernel_launcher.py:7: UserWarning: Boolean Series key will be reindexed to match DataFrame index.\n",
      "  import sys\n",
      "/opt/conda/lib/python3.6/site-packages/ipykernel_launcher.py:8: UserWarning: Boolean Series key will be reindexed to match DataFrame index.\n",
      "  \n"
     ]
    },
    {
     "name": "stdout",
     "output_type": "stream",
     "text": [
      "Number of rows with more missing values than the threshold: 111068\n",
      "Number of rows with less missing values than the threshold: 780153\n"
     ]
    }
   ],
   "source": [
    "# Write code to divide the data into two subsets based on the number of missing\n",
    "# values in each row.\n",
    "\n",
    "# define the threshold for the number of missing data to 10\n",
    "threshold_missing_values_per_row = 10\n",
    "# get the two data subsets\n",
    "missing_values_per_row_above_thres = azdias_clean[missing_values_per_row > threshold_missing_values_per_row]\n",
    "missing_values_per_row_below_thres = azdias_clean[missing_values_per_row <= threshold_missing_values_per_row]\n",
    "# print results\n",
    "print('Number of rows with more missing values than the threshold: {}'.format(missing_values_per_row_above_thres.shape[0]))\n",
    "print('Number of rows with less missing values than the threshold: {}'.format(missing_values_per_row_below_thres.shape[0]))\n"
   ]
  },
  {
   "cell_type": "code",
   "execution_count": 28,
   "metadata": {},
   "outputs": [
    {
     "data": {
      "text/plain": [
       "array(['SEMIO_VERT', 'SEMIO_TRADV', 'SEMIO_SOZ', 'SEMIO_KRIT', 'SEMIO_REL'], dtype=object)"
      ]
     },
     "execution_count": 28,
     "metadata": {},
     "output_type": "execute_result"
    }
   ],
   "source": [
    "# Compare the distribution of values for at least five columns where there are\n",
    "# no or few missing values, between the two subsets.\n",
    "\n",
    "# get columns with no missing values\n",
    "columns_no_missing_values = missing_values_per_attribute[missing_values_per_attribute==0].index\n",
    "# get 5 columns with no missing values by using numpy random choice\n",
    "columns_no_missing_values_sample = np.random.choice(columns_no_missing_values, 5, replace=False)\n",
    "columns_no_missing_values_sample"
   ]
  },
  {
   "cell_type": "code",
   "execution_count": 29,
   "metadata": {},
   "outputs": [],
   "source": [
    "# define a function to plot the counts for both subsets\n",
    "def plot_compare_rows(column_name):\n",
    "    fig = plt.figure(20, figsize=(14,4))\n",
    "    base_color = sns.color_palette()[0] # use same color for all bars\n",
    "    \n",
    "    ax1 = fig.add_subplot(121)\n",
    "    ax1.title.set_text('Row with LESS than {} missing values'.format(threshold_missing_values_per_row))\n",
    "    sns.countplot(missing_values_per_row_below_thres[column_name], color = base_color)\n",
    "    \n",
    "    ax2 = fig.add_subplot(122)\n",
    "    ax2.title.set_text('Row with MORE than {} missing values'.format(threshold_missing_values_per_row))\n",
    "    sns.countplot(missing_values_per_row_above_thres[column_name], color = base_color)\n",
    "                                                       \n",
    "    fig.suptitle(column_name)\n",
    "    plt.show()"
   ]
  },
  {
   "cell_type": "code",
   "execution_count": 30,
   "metadata": {},
   "outputs": [
    {
     "data": {
      "image/png": "[encoded data removed]",
      "text/plain": [
       "<matplotlib.figure.Figure at 0x7fa92c96b128>"
      ]
     },
     "metadata": {
      "needs_background": "light"
     },
     "output_type": "display_data"
    },
    {
     "data": {
      "image/png": "[encoded data removed]",
      "text/plain": [
       "<matplotlib.figure.Figure at 0x7fa9195f6518>"
      ]
     },
     "metadata": {
      "needs_background": "light"
     },
     "output_type": "display_data"
    },
    {
     "data": {
      "image/png": "[encoded data removed]",
      "text/plain": [
       "<matplotlib.figure.Figure at 0x7fa9194e7cf8>"
      ]
     },
     "metadata": {
      "needs_background": "light"
     },
     "output_type": "display_data"
    },
    {
     "data": {
      "image/png": "[encoded data removed]",
      "text/plain": [
       "<matplotlib.figure.Figure at 0x7fa919430080>"
      ]
     },
     "metadata": {
      "needs_background": "light"
     },
     "output_type": "display_data"
    },
    {
     "data": {
      "image/png": "[encoded data removed]",
      "text/plain": [
       "<matplotlib.figure.Figure at 0x7fa9194beda0>"
      ]
     },
     "metadata": {
      "needs_background": "light"
     },
     "output_type": "display_data"
    }
   ],
   "source": [
    "for col in columns_no_missing_values_sample:\n",
    "    plot_compare_rows(col)"
   ]
  },
  {
   "cell_type": "code",
   "execution_count": 31,
   "metadata": {},
   "outputs": [],
   "source": [
    "# Fill missing values with most frequent value for further analysis\n",
    "missing_values_per_row_below_thres = missing_values_per_row_below_thres.fillna(missing_values_per_row_below_thres.mode().iloc[0])"
   ]
  },
  {
   "cell_type": "markdown",
   "metadata": {},
   "source": [
    "#### Discussion 1.1.3: Assess Missing Data in Each Row\n",
    "\n",
    "From  above, one sees that setting a threshold to 10 missing values per row will divide the data into two subsets in which one has more than 85% of all rows with just a few missing values (less than 10) and one has less than 15% of the rows with more missing values. <br>\n",
    "Creating countplots of the five randomly picked columns, the plots show a different behaviour for the two subsets. Therefore the subset with more than 10 missing values can be marked as special and the two subsets could be used for further investigations. <br>\n",
    "The NaN values of the subset with less than 10 missing values will be replaced with the most frequent value of each feature for further analysis. "
   ]
  },
  {
   "cell_type": "markdown",
   "metadata": {},
   "source": [
    "### Step 1.2: Select and Re-Encode Features\n",
    "\n",
    "Checking for missing data isn't the only way in which you can prepare a dataset for analysis. Since the unsupervised learning techniques to be used will only work on data that is encoded numerically, you need to make a few encoding changes or additional assumptions to be able to make progress. In addition, while almost all of the values in the dataset are encoded using numbers, not all of them represent numeric values. Check the third column of the feature summary (`feat_info`) for a summary of types of measurement.\n",
    "- For numeric and interval data, these features can be kept without changes.\n",
    "- Most of the variables in the dataset are ordinal in nature. While ordinal values may technically be non-linear in spacing, make the simplifying assumption that the ordinal variables can be treated as being interval in nature (that is, kept without any changes).\n",
    "- Special handling may be necessary for the remaining two variable types: categorical, and 'mixed'.\n",
    "\n",
    "In the first two parts of this sub-step, you will perform an investigation of the categorical and mixed-type features and make a decision on each of them, whether you will keep, drop, or re-encode each. Then, in the last part, you will create a new data frame with only the selected and engineered columns.\n",
    "\n",
    "Data wrangling is often the trickiest part of the data analysis process, and there's a lot of it to be done here. But stick with it: once you're done with this step, you'll be ready to get to the machine learning parts of the project!"
   ]
  },
  {
   "cell_type": "code",
   "execution_count": 32,
   "metadata": {},
   "outputs": [
    {
     "data": {
      "text/plain": [
       "ordinal        49\n",
       "categorical    18\n",
       "mixed           6\n",
       "numeric         6\n",
       "Name: type, dtype: int64"
      ]
     },
     "execution_count": 32,
     "metadata": {},
     "output_type": "execute_result"
    }
   ],
   "source": [
    "# How many features are there of each data type?\n",
    "nof_features_per_type = feat_info_clean.type.value_counts()\n",
    "nof_features_per_type"
   ]
  },
  {
   "cell_type": "markdown",
   "metadata": {},
   "source": [
    "#### Step 1.2.1: Re-Encode Categorical Features\n",
    "\n",
    "For categorical data, you would ordinarily need to encode the levels as dummy variables. Depending on the number of categories, perform one of the following:\n",
    "- For binary (two-level) categoricals that take numeric values, you can keep them without needing to do anything.\n",
    "- There is one binary variable that takes on non-numeric values. For this one, you need to re-encode the values as numbers or create a dummy variable.\n",
    "- For multi-level categoricals (three or more values), you can choose to encode the values using multiple dummy variables (e.g. via [OneHotEncoder](http://scikit-learn.org/stable/modules/generated/sklearn.preprocessing.OneHotEncoder.html)), or (to keep things straightforward) just drop them from the analysis. As always, document your choices in the Discussion section."
   ]
  },
  {
   "cell_type": "code",
   "execution_count": 33,
   "metadata": {},
   "outputs": [
    {
     "data": {
      "text/html": [
       "<div>\n",
       "<style scoped>\n",
       "    .dataframe tbody tr th:only-of-type {\n",
       "        vertical-align: middle;\n",
       "    }\n",
       "\n",
       "    .dataframe tbody tr th {\n",
       "        vertical-align: top;\n",
       "    }\n",
       "\n",
       "    .dataframe thead th {\n",
       "        text-align: right;\n",
       "    }\n",
       "</style>\n",
       "<table border=\"1\" class=\"dataframe\">\n",
       "  <thead>\n",
       "    <tr style=\"text-align: right;\">\n",
       "      <th></th>\n",
       "      <th>attribute</th>\n",
       "      <th>information_level</th>\n",
       "      <th>type</th>\n",
       "      <th>missing_or_unknown</th>\n",
       "    </tr>\n",
       "  </thead>\n",
       "  <tbody>\n",
       "    <tr>\n",
       "      <th>2</th>\n",
       "      <td>ANREDE_KZ</td>\n",
       "      <td>person</td>\n",
       "      <td>categorical</td>\n",
       "      <td>[-1,0]</td>\n",
       "    </tr>\n",
       "    <tr>\n",
       "      <th>3</th>\n",
       "      <td>CJT_GESAMTTYP</td>\n",
       "      <td>person</td>\n",
       "      <td>categorical</td>\n",
       "      <td>[0]</td>\n",
       "    </tr>\n",
       "    <tr>\n",
       "      <th>10</th>\n",
       "      <td>FINANZTYP</td>\n",
       "      <td>person</td>\n",
       "      <td>categorical</td>\n",
       "      <td>[-1]</td>\n",
       "    </tr>\n",
       "    <tr>\n",
       "      <th>12</th>\n",
       "      <td>GFK_URLAUBERTYP</td>\n",
       "      <td>person</td>\n",
       "      <td>categorical</td>\n",
       "      <td>[]</td>\n",
       "    </tr>\n",
       "    <tr>\n",
       "      <th>13</th>\n",
       "      <td>GREEN_AVANTGARDE</td>\n",
       "      <td>person</td>\n",
       "      <td>categorical</td>\n",
       "      <td>[]</td>\n",
       "    </tr>\n",
       "    <tr>\n",
       "      <th>17</th>\n",
       "      <td>LP_FAMILIE_FEIN</td>\n",
       "      <td>person</td>\n",
       "      <td>categorical</td>\n",
       "      <td>[0]</td>\n",
       "    </tr>\n",
       "    <tr>\n",
       "      <th>18</th>\n",
       "      <td>LP_FAMILIE_GROB</td>\n",
       "      <td>person</td>\n",
       "      <td>categorical</td>\n",
       "      <td>[0]</td>\n",
       "    </tr>\n",
       "    <tr>\n",
       "      <th>19</th>\n",
       "      <td>LP_STATUS_FEIN</td>\n",
       "      <td>person</td>\n",
       "      <td>categorical</td>\n",
       "      <td>[0]</td>\n",
       "    </tr>\n",
       "    <tr>\n",
       "      <th>20</th>\n",
       "      <td>LP_STATUS_GROB</td>\n",
       "      <td>person</td>\n",
       "      <td>categorical</td>\n",
       "      <td>[0]</td>\n",
       "    </tr>\n",
       "    <tr>\n",
       "      <th>21</th>\n",
       "      <td>NATIONALITAET_KZ</td>\n",
       "      <td>person</td>\n",
       "      <td>categorical</td>\n",
       "      <td>[-1,0]</td>\n",
       "    </tr>\n",
       "    <tr>\n",
       "      <th>38</th>\n",
       "      <td>SHOPPER_TYP</td>\n",
       "      <td>person</td>\n",
       "      <td>categorical</td>\n",
       "      <td>[-1]</td>\n",
       "    </tr>\n",
       "    <tr>\n",
       "      <th>39</th>\n",
       "      <td>SOHO_KZ</td>\n",
       "      <td>person</td>\n",
       "      <td>categorical</td>\n",
       "      <td>[-1]</td>\n",
       "    </tr>\n",
       "    <tr>\n",
       "      <th>41</th>\n",
       "      <td>VERS_TYP</td>\n",
       "      <td>person</td>\n",
       "      <td>categorical</td>\n",
       "      <td>[-1]</td>\n",
       "    </tr>\n",
       "    <tr>\n",
       "      <th>42</th>\n",
       "      <td>ZABEOTYP</td>\n",
       "      <td>person</td>\n",
       "      <td>categorical</td>\n",
       "      <td>[-1,9]</td>\n",
       "    </tr>\n",
       "    <tr>\n",
       "      <th>52</th>\n",
       "      <td>GEBAEUDETYP</td>\n",
       "      <td>building</td>\n",
       "      <td>categorical</td>\n",
       "      <td>[-1,0]</td>\n",
       "    </tr>\n",
       "    <tr>\n",
       "      <th>55</th>\n",
       "      <td>OST_WEST_KZ</td>\n",
       "      <td>building</td>\n",
       "      <td>categorical</td>\n",
       "      <td>[-1]</td>\n",
       "    </tr>\n",
       "    <tr>\n",
       "      <th>57</th>\n",
       "      <td>CAMEO_DEUG_2015</td>\n",
       "      <td>microcell_rr4</td>\n",
       "      <td>categorical</td>\n",
       "      <td>[-1,X]</td>\n",
       "    </tr>\n",
       "    <tr>\n",
       "      <th>58</th>\n",
       "      <td>CAMEO_DEU_2015</td>\n",
       "      <td>microcell_rr4</td>\n",
       "      <td>categorical</td>\n",
       "      <td>[XX]</td>\n",
       "    </tr>\n",
       "  </tbody>\n",
       "</table>\n",
       "</div>"
      ],
      "text/plain": [
       "           attribute information_level         type missing_or_unknown\n",
       "2          ANREDE_KZ            person  categorical             [-1,0]\n",
       "3      CJT_GESAMTTYP            person  categorical                [0]\n",
       "10         FINANZTYP            person  categorical               [-1]\n",
       "12   GFK_URLAUBERTYP            person  categorical                 []\n",
       "13  GREEN_AVANTGARDE            person  categorical                 []\n",
       "17   LP_FAMILIE_FEIN            person  categorical                [0]\n",
       "18   LP_FAMILIE_GROB            person  categorical                [0]\n",
       "19    LP_STATUS_FEIN            person  categorical                [0]\n",
       "20    LP_STATUS_GROB            person  categorical                [0]\n",
       "21  NATIONALITAET_KZ            person  categorical             [-1,0]\n",
       "38       SHOPPER_TYP            person  categorical               [-1]\n",
       "39           SOHO_KZ            person  categorical               [-1]\n",
       "41          VERS_TYP            person  categorical               [-1]\n",
       "42          ZABEOTYP            person  categorical             [-1,9]\n",
       "52       GEBAEUDETYP          building  categorical             [-1,0]\n",
       "55       OST_WEST_KZ          building  categorical               [-1]\n",
       "57   CAMEO_DEUG_2015     microcell_rr4  categorical             [-1,X]\n",
       "58    CAMEO_DEU_2015     microcell_rr4  categorical               [XX]"
      ]
     },
     "execution_count": 33,
     "metadata": {},
     "output_type": "execute_result"
    }
   ],
   "source": [
    "# Assess categorical variables: which are binary, which are multi-level, and\n",
    "# which one needs to be re-encoded?\n",
    "\n",
    "# get categorical features\n",
    "cat_features = feat_info_clean[feat_info_clean.type == 'categorical']\n",
    "cat_features"
   ]
  },
  {
   "cell_type": "code",
   "execution_count": 34,
   "metadata": {},
   "outputs": [],
   "source": [
    "## separate categorical features into binary and multi_level_features\n",
    "\n",
    "# allocate list variables\n",
    "binary_feature = []\n",
    "multi_level_feature=[]\n",
    "\n",
    "# check all features if they have two (binary) or more unique values\n",
    "for tmp_feature in cat_features.attribute:\n",
    "    if (len(missing_values_per_row_below_thres[tmp_feature].unique())==2):\n",
    "        binary_feature.append(tmp_feature)\n",
    "    elif (len(missing_values_per_row_below_thres[tmp_feature].unique())>2):\n",
    "        multi_level_feature.append(tmp_feature)"
   ]
  },
  {
   "cell_type": "code",
   "execution_count": 35,
   "metadata": {},
   "outputs": [
    {
     "name": "stdout",
     "output_type": "stream",
     "text": [
      "Binary feature ANREDE_KZ has the unique values: [2 1]\n",
      "Binary feature GREEN_AVANTGARDE has the unique values: [0 1]\n",
      "Binary feature SOHO_KZ has the unique values: [ 1.  0.]\n",
      "Binary feature VERS_TYP has the unique values: [ 2.  1.]\n",
      "Binary feature OST_WEST_KZ has the unique values: ['W' 'O']\n"
     ]
    }
   ],
   "source": [
    "# get unique values for binary features\n",
    "for tmp_feature in binary_feature:\n",
    "    print('Binary feature {} has the unique values: {}'.format(tmp_feature, missing_values_per_row_below_thres[tmp_feature].unique()))"
   ]
  },
  {
   "cell_type": "markdown",
   "metadata": {},
   "source": [
    "From the five binary features has OST_WEST_KZ non integer values ('W' and 'O') which will be replaced by (1 for 'W' and 0 for 'O'). "
   ]
  },
  {
   "cell_type": "code",
   "execution_count": 36,
   "metadata": {},
   "outputs": [],
   "source": [
    "## Re-encode categorical variable(s) to be kept in the analysis.\n",
    "\n",
    "# replace unique values for column OST_WEST_KZ  to integer values (1 for 'W' and 0 for 'O')\n",
    "# code example from pandas replace documentation has been used, see reference [R1] for a link: \n",
    "missing_values_per_row_below_thres.OST_WEST_KZ = missing_values_per_row_below_thres.OST_WEST_KZ.replace({'O': 0, 'W': 1});"
   ]
  },
  {
   "cell_type": "code",
   "execution_count": 37,
   "metadata": {},
   "outputs": [
    {
     "data": {
      "text/plain": [
       "array([1, 0])"
      ]
     },
     "execution_count": 37,
     "metadata": {},
     "output_type": "execute_result"
    }
   ],
   "source": [
    "# check if values of column OST_WEST_KZ are now integer\n",
    "missing_values_per_row_below_thres.OST_WEST_KZ.unique()"
   ]
  },
  {
   "cell_type": "markdown",
   "metadata": {},
   "source": [
    "For the remaining multi level features I will create dummy variables via one-hot-encoder to use them later on."
   ]
  },
  {
   "cell_type": "code",
   "execution_count": 38,
   "metadata": {},
   "outputs": [],
   "source": [
    "## multi level features\n",
    "\n",
    "# create dummy variables for the remaining multi level features and saved it in the new data frame azdias_clean_less_missing\n",
    "azdias_clean_less_missing = pd.get_dummies(missing_values_per_row_below_thres, columns=multi_level_feature)"
   ]
  },
  {
   "cell_type": "code",
   "execution_count": 39,
   "metadata": {},
   "outputs": [
    {
     "data": {
      "text/plain": [
       "(780153, 194)"
      ]
     },
     "execution_count": 39,
     "metadata": {},
     "output_type": "execute_result"
    }
   ],
   "source": [
    "# get size of new data frame\n",
    "azdias_clean_less_missing.shape"
   ]
  },
  {
   "cell_type": "markdown",
   "metadata": {},
   "source": [
    "#### Discussion 1.2.1: Re-Encode Categorical Features\n",
    "\n",
    "In the data frame were 18 categorical features left. <br>\n",
    "\n",
    "Six of them are binary features which column names are saved in the list binary_feature. The values of the binary feature _OST_WEST_KZ_ had to be re-encoded, because it contained strings as unique values. The values were replaced by 1 for 'W' and 0 for 'O'. The other binary features have not been changed. <br>\n",
    "\n",
    "I created dummy variables via one-hot-encoder for the remaining multi level features to be able to use them later on. The new data frame has now 194 columns. <br>\n"
   ]
  },
  {
   "cell_type": "markdown",
   "metadata": {},
   "source": [
    "#### Step 1.2.2: Engineer Mixed-Type Features\n",
    "\n",
    "There are a handful of features that are marked as \"mixed\" in the feature summary that require special treatment in order to be included in the analysis. There are two in particular that deserve attention; the handling of the rest are up to your own choices:\n",
    "- \"PRAEGENDE_JUGENDJAHRE\" combines information on three dimensions: generation by decade, movement (mainstream vs. avantgarde), and nation (east vs. west). While there aren't enough levels to disentangle east from west, you should create two new variables to capture the other two dimensions: an interval-type variable for decade, and a binary variable for movement.\n",
    "- \"CAMEO_INTL_2015\" combines information on two axes: wealth and life stage. Break up the two-digit codes by their 'tens'-place and 'ones'-place digits into two new ordinal variables (which, for the purposes of this project, is equivalent to just treating them as their raw numeric values).\n",
    "- If you decide to keep or engineer new features around the other mixed-type features, make sure you note your steps in the Discussion section.\n",
    "\n",
    "Be sure to check `Data_Dictionary.md` for the details needed to finish these tasks."
   ]
  },
  {
   "cell_type": "code",
   "execution_count": 40,
   "metadata": {},
   "outputs": [],
   "source": [
    "## Investigate \"PRAEGENDE_JUGENDJAHRE\" and engineer two new variables.\n",
    "\n",
    "# 2 new columns will be created: \n",
    "# \"PRAEGENDE_JUGENDJAHRE_MA\" for the movement in the first step and \n",
    "# \"PRAEGENDE_JUGENDJAHRE_DEC\" for the decade. \n",
    "# The old column \"PRAEGENDE_JUGENDJAHRE\" will be drop at the end. \n",
    "\n",
    "# Encoding due to Data_Dictionary.md:\n",
    "#-  1: 40s - war years (Mainstream, E+W)\n",
    "#-  2: 40s - reconstruction years (Avantgarde, E+W)\n",
    "#-  3: 50s - economic miracle (Mainstream, E+W)\n",
    "#-  4: 50s - milk bar / Individualisation (Avantgarde, E+W)\n",
    "#-  5: 60s - economic miracle (Mainstream, E+W)\n",
    "#-  6: 60s - generation 68 / student protestors (Avantgarde, W)\n",
    "#-  7: 60s - opponents to the building of the Wall (Avantgarde, E)\n",
    "#-  8: 70s - family orientation (Mainstream, E+W)\n",
    "#-  9: 70s - peace movement (Avantgarde, E+W)\n",
    "#- 10: 80s - Generation Golf (Mainstream, W)\n",
    "#- 11: 80s - ecological awareness (Avantgarde, W)\n",
    "#- 12: 80s - FDJ / communist party youth organisation (Mainstream, E)\n",
    "#- 13: 80s - Swords into ploughshares (Avantgarde, E)\n",
    "#- 14: 90s - digital media kids (Mainstream, E+W)\n",
    "#- 15: 90s - ecological awareness (Avantgarde, E+W)\n"
   ]
  },
  {
   "cell_type": "code",
   "execution_count": 41,
   "metadata": {},
   "outputs": [],
   "source": [
    "## create dictionaries for the encoding\n",
    "\n",
    "# Movement will be encoded by a binary variable using 0 for mainstream and 1 for avantgarde\n",
    "dict_MA = {1:0, 2:1, 3:0, 4:1, 5:0, 6:1, 7:1, 8:0, 9:1, 10:0, 11:1, 12:0, 13:1, 14:0, 15:1}\n",
    "# Decade will be encoded using the decade\n",
    "dict_DEC = {1:1940, 2:1940, 3:1950, 4:1951, 5:1960, 6:1960, 7:1960, 8:1970, 9:1970, 10:1980, 11:1980, 12:1980, 13:1980, 14:1990, 15:1991}"
   ]
  },
  {
   "cell_type": "code",
   "execution_count": 42,
   "metadata": {},
   "outputs": [
    {
     "data": {
      "text/plain": [
       "0.0    608462\n",
       "1.0    171691\n",
       "Name: PRAEGENDE_JUGENDJAHRE_MA, dtype: int64"
      ]
     },
     "execution_count": 42,
     "metadata": {},
     "output_type": "execute_result"
    }
   ],
   "source": [
    "## Investigate \"PRAEGENDE_JUGENDJAHRE_MA\" using the abbreviation MA for Mainstream and Avantgarde\n",
    "\n",
    "# create new column \"PRAEGENDE_JUGENDJAHRE_MA\"\n",
    "azdias_clean_less_missing['PRAEGENDE_JUGENDJAHRE_MA'] = azdias_clean_less_missing['PRAEGENDE_JUGENDJAHRE']\n",
    "# encode by a binary variable using 0 for mainstream and 1 for avantgarde using dict_MA\n",
    "azdias_clean_less_missing['PRAEGENDE_JUGENDJAHRE_MA'] = azdias_clean_less_missing['PRAEGENDE_JUGENDJAHRE_MA'].replace(dict_MA)\n",
    "# test new column\n",
    "azdias_clean_less_missing['PRAEGENDE_JUGENDJAHRE_MA'].value_counts()"
   ]
  },
  {
   "cell_type": "code",
   "execution_count": 43,
   "metadata": {},
   "outputs": [
    {
     "data": {
      "text/plain": [
       "1990.0    204884\n",
       "1970.0    171875\n",
       "1980.0    148118\n",
       "1960.0    113126\n",
       "1950.0     53098\n",
       "1991.0     41029\n",
       "1940.0     27680\n",
       "1951.0     20343\n",
       "Name: PRAEGENDE_JUGENDJAHRE_DEC, dtype: int64"
      ]
     },
     "execution_count": 43,
     "metadata": {},
     "output_type": "execute_result"
    }
   ],
   "source": [
    "## Investigate \"PRAEGENDE_JUGENDJAHRE_DEC\" using the abbreviation DEC for DECade\n",
    "\n",
    "# create new column \"PRAEGENDE_JUGENDJAHRE_DEC\"\n",
    "azdias_clean_less_missing['PRAEGENDE_JUGENDJAHRE_DEC'] = azdias_clean_less_missing['PRAEGENDE_JUGENDJAHRE']\n",
    "# encode by a multi level variable using the decade encoding of dictionary dict_DEC\n",
    "azdias_clean_less_missing['PRAEGENDE_JUGENDJAHRE_DEC'] = azdias_clean_less_missing['PRAEGENDE_JUGENDJAHRE_DEC'].replace(dict_DEC)\n",
    "# test new column\n",
    "azdias_clean_less_missing['PRAEGENDE_JUGENDJAHRE_DEC'].value_counts()"
   ]
  },
  {
   "cell_type": "code",
   "execution_count": 44,
   "metadata": {},
   "outputs": [],
   "source": [
    "# drop column \"PRAEGENDE_JUGENDJAHRE\"\n",
    "azdias_clean_less_missing.drop('PRAEGENDE_JUGENDJAHRE', axis=1, inplace=True)"
   ]
  },
  {
   "cell_type": "code",
   "execution_count": 45,
   "metadata": {},
   "outputs": [],
   "source": [
    "# Investigate \"CAMEO_INTL_2015\" and engineer two new variables.\n",
    "\n",
    "# 2 new columns will be created: \n",
    "# \"CAMEO_INTL_2015_WEALTH\" for the wealth in the first step and \n",
    "# \"CAMEO_INTL_2015_LIFE_STAGE\" for the life stage. \n",
    "# The old column \"CAMEO_INTL_2015\" will be drop at the end. \n",
    "\n",
    "# Encoding due to Data_Dictionary.md:\n",
    "#German CAMEO: Wealth / Life Stage Typology, mapped to international code\n",
    "#- 11: Wealthy Households - Pre-Family Couples & Singles\n",
    "#- 12: Wealthy Households - Young Couples With Children\n",
    "#- 13: Wealthy Households - Families With School Age Children\n",
    "#- 14: Wealthy Households - Older Families &  Mature Couples\n",
    "#- 15: Wealthy Households - Elders In Retirement\n",
    "#- 21: Prosperous Households - Pre-Family Couples & Singles\n",
    "#- 22: Prosperous Households - Young Couples With Children\n",
    "#- 23: Prosperous Households - Families With School Age Children\n",
    "#- 24: Prosperous Households - Older Families & Mature Couples\n",
    "#- 25: Prosperous Households - Elders In Retirement\n",
    "#- 31: Comfortable Households - Pre-Family Couples & Singles\n",
    "#- 32: Comfortable Households - Young Couples With Children\n",
    "#- 33: Comfortable Households - Families With School Age Children\n",
    "#- 34: Comfortable Households - Older Families & Mature Couples\n",
    "#- 35: Comfortable Households - Elders In Retirement\n",
    "#- 41: Less Affluent Households - Pre-Family Couples & Singles\n",
    "#- 42: Less Affluent Households - Young Couples With Children\n",
    "#- 43: Less Affluent Households - Families With School Age Children\n",
    "#- 44: Less Affluent Households - Older Families & Mature Couples\n",
    "#- 45: Less Affluent Households - Elders In Retirement\n",
    "#- 51: Poorer Households - Pre-Family Couples & Singles\n",
    "#- 52: Poorer Households - Young Couples With Children\n",
    "#- 53: Poorer Households - Families With School Age Children\n",
    "#- 54: Poorer Households - Older Families & Mature Couples\n",
    "#- 55: Poorer Households - Elders In Retirement\n"
   ]
  },
  {
   "cell_type": "code",
   "execution_count": 46,
   "metadata": {},
   "outputs": [],
   "source": [
    "## create dictionaries for the encoding\n",
    "\n",
    "# Wealth will be encoded using\n",
    "# 1 - Wealthy Households\n",
    "# 2 - Prosperous Households\n",
    "# 3 - Comfortable Households\n",
    "# 4 - Less Affluent Households\n",
    "# 5 - Poorer Households\n",
    "dict_WEALTH = {11:1, 12:1, 13:1, 14:1, 15:1,\n",
    "               21:2, 22:2, 23:2, 24:2, 25:2,\n",
    "               31:3, 32:3, 33:3, 34:3, 35:3,\n",
    "               41:4, 42:4, 43:4, 44:4, 45:4,\n",
    "               51:5, 52:5, 53:5, 54:5, 55:5}\n",
    "\n",
    "# Life stage will be encoded using\n",
    "# 1 - Pre-Family Couples & Singles\n",
    "# 2 - Young Couples With Children\n",
    "# 3 - Families With School Age Children\n",
    "# 4 - Older Families & Mature Couples\n",
    "# 5 - Elders In Retirement\n",
    "dict_LIFE_STAGE = {11:1, 21:1, 31:1, 41:1, 51:1,\n",
    "                   12:2, 22:2, 32:2, 42:2, 52:2,\n",
    "                   13:3, 23:3, 33:3, 43:3, 53:3,\n",
    "                   14:4, 24:4, 34:4, 44:4, 54:4,\n",
    "                   15:5, 25:5, 35:5, 45:5, 55:5}"
   ]
  },
  {
   "cell_type": "code",
   "execution_count": 47,
   "metadata": {},
   "outputs": [
    {
     "data": {
      "text/plain": [
       "array(['51', '24', '12', '43', '54', '22', '14', '13', '15', '33', '41',\n",
       "       '34', '55', '25', '23', '31', '52', '35', '45', '44', '32'], dtype=object)"
      ]
     },
     "execution_count": 47,
     "metadata": {},
     "output_type": "execute_result"
    }
   ],
   "source": [
    "azdias_clean_less_missing['CAMEO_INTL_2015'].unique()"
   ]
  },
  {
   "cell_type": "code",
   "execution_count": 48,
   "metadata": {},
   "outputs": [
    {
     "data": {
      "text/plain": [
       "5    225510\n",
       "4    187271\n",
       "2    184575\n",
       "1    116706\n",
       "3     66091\n",
       "Name: CAMEO_INTL_2015_WEALTH, dtype: int64"
      ]
     },
     "execution_count": 48,
     "metadata": {},
     "output_type": "execute_result"
    }
   ],
   "source": [
    "## Investigate \"CAMEO_INTL_2015_WEALTH\"\n",
    "\n",
    "# create new column \"CAMEO_INTL_2015_WEALTH\"\n",
    "azdias_clean_less_missing['CAMEO_INTL_2015_WEALTH'] = azdias_clean_less_missing['CAMEO_INTL_2015']\n",
    "# change type to int (code inspiration from [R2])\n",
    "azdias_clean_less_missing[\"CAMEO_INTL_2015_WEALTH\"] = pd.to_numeric(azdias_clean_less_missing[\"CAMEO_INTL_2015_WEALTH\"])\n",
    "# encode CAMEO_INTL_2015_WEALTH column using dict_WEALTH\n",
    "azdias_clean_less_missing['CAMEO_INTL_2015_WEALTH'] = azdias_clean_less_missing['CAMEO_INTL_2015_WEALTH'].replace(dict_WEALTH)\n",
    "# test new column\n",
    "azdias_clean_less_missing['CAMEO_INTL_2015_WEALTH'].value_counts()"
   ]
  },
  {
   "cell_type": "code",
   "execution_count": 49,
   "metadata": {},
   "outputs": [
    {
     "data": {
      "text/plain": [
       "1    245433\n",
       "4    228456\n",
       "3    115411\n",
       "5    115187\n",
       "2     75666\n",
       "Name: CAMEO_INTL_2015_LIFE_STAGE, dtype: int64"
      ]
     },
     "execution_count": 49,
     "metadata": {},
     "output_type": "execute_result"
    }
   ],
   "source": [
    "## Investigate \"CAMEO_INTL_2015_LIFE_STAGE\"\n",
    "\n",
    "# create new column \"CAMEO_INTL_2015_LIFE_STAGE\"\n",
    "azdias_clean_less_missing['CAMEO_INTL_2015_LIFE_STAGE'] = azdias_clean_less_missing['CAMEO_INTL_2015']\n",
    "# change type to numeric (code inspiration from [R2])\n",
    "azdias_clean_less_missing[\"CAMEO_INTL_2015_LIFE_STAGE\"] = pd.to_numeric(azdias_clean_less_missing[\"CAMEO_INTL_2015_LIFE_STAGE\"])\n",
    "# encode CAMEO_INTL_2015_LIFE_STAGE column using dict_LIFE_STAGE\n",
    "azdias_clean_less_missing['CAMEO_INTL_2015_LIFE_STAGE'] = azdias_clean_less_missing['CAMEO_INTL_2015_LIFE_STAGE'].replace(dict_LIFE_STAGE)\n",
    "# test new column\n",
    "azdias_clean_less_missing['CAMEO_INTL_2015_LIFE_STAGE'].value_counts()"
   ]
  },
  {
   "cell_type": "code",
   "execution_count": 50,
   "metadata": {},
   "outputs": [],
   "source": [
    "# drop column \"CAMEO_INTL_2015\"\n",
    "azdias_clean_less_missing.drop('CAMEO_INTL_2015', axis=1, inplace=True)"
   ]
  },
  {
   "cell_type": "code",
   "execution_count": 51,
   "metadata": {},
   "outputs": [
    {
     "data": {
      "text/html": [
       "<div>\n",
       "<style scoped>\n",
       "    .dataframe tbody tr th:only-of-type {\n",
       "        vertical-align: middle;\n",
       "    }\n",
       "\n",
       "    .dataframe tbody tr th {\n",
       "        vertical-align: top;\n",
       "    }\n",
       "\n",
       "    .dataframe thead th {\n",
       "        text-align: right;\n",
       "    }\n",
       "</style>\n",
       "<table border=\"1\" class=\"dataframe\">\n",
       "  <thead>\n",
       "    <tr style=\"text-align: right;\">\n",
       "      <th></th>\n",
       "      <th>attribute</th>\n",
       "      <th>information_level</th>\n",
       "      <th>type</th>\n",
       "      <th>missing_or_unknown</th>\n",
       "    </tr>\n",
       "  </thead>\n",
       "  <tbody>\n",
       "    <tr>\n",
       "      <th>15</th>\n",
       "      <td>LP_LEBENSPHASE_FEIN</td>\n",
       "      <td>person</td>\n",
       "      <td>mixed</td>\n",
       "      <td>[0]</td>\n",
       "    </tr>\n",
       "    <tr>\n",
       "      <th>16</th>\n",
       "      <td>LP_LEBENSPHASE_GROB</td>\n",
       "      <td>person</td>\n",
       "      <td>mixed</td>\n",
       "      <td>[0]</td>\n",
       "    </tr>\n",
       "    <tr>\n",
       "      <th>22</th>\n",
       "      <td>PRAEGENDE_JUGENDJAHRE</td>\n",
       "      <td>person</td>\n",
       "      <td>mixed</td>\n",
       "      <td>[-1,0]</td>\n",
       "    </tr>\n",
       "    <tr>\n",
       "      <th>56</th>\n",
       "      <td>WOHNLAGE</td>\n",
       "      <td>building</td>\n",
       "      <td>mixed</td>\n",
       "      <td>[-1]</td>\n",
       "    </tr>\n",
       "    <tr>\n",
       "      <th>59</th>\n",
       "      <td>CAMEO_INTL_2015</td>\n",
       "      <td>microcell_rr4</td>\n",
       "      <td>mixed</td>\n",
       "      <td>[-1,XX]</td>\n",
       "    </tr>\n",
       "    <tr>\n",
       "      <th>79</th>\n",
       "      <td>PLZ8_BAUMAX</td>\n",
       "      <td>macrocell_plz8</td>\n",
       "      <td>mixed</td>\n",
       "      <td>[-1,0]</td>\n",
       "    </tr>\n",
       "  </tbody>\n",
       "</table>\n",
       "</div>"
      ],
      "text/plain": [
       "                attribute information_level   type missing_or_unknown\n",
       "15    LP_LEBENSPHASE_FEIN            person  mixed                [0]\n",
       "16    LP_LEBENSPHASE_GROB            person  mixed                [0]\n",
       "22  PRAEGENDE_JUGENDJAHRE            person  mixed             [-1,0]\n",
       "56               WOHNLAGE          building  mixed               [-1]\n",
       "59        CAMEO_INTL_2015     microcell_rr4  mixed            [-1,XX]\n",
       "79            PLZ8_BAUMAX    macrocell_plz8  mixed             [-1,0]"
      ]
     },
     "execution_count": 51,
     "metadata": {},
     "output_type": "execute_result"
    }
   ],
   "source": [
    "# get mixed features\n",
    "mixed_features = feat_info_clean[feat_info_clean.type == 'mixed']\n",
    "mixed_features"
   ]
  },
  {
   "cell_type": "markdown",
   "metadata": {},
   "source": [
    "There are six mixed attributes. \"PRAEGENDE_JUGENDJAHRE\" and \"CAMEO_INTL_2015\" are already new encoded. <br>\n",
    "The attributes \"LP_LEBENSPHASE_FEIN\" and \"LP_LEBENSPHASE_GROB\" are be droped, because they are already covered by \"CAMEO_INTL_2015\" or now by the two new attributes \"CAMEO_INTL_2015_WEALTH\" and \"CAMEO_INTL_2015_LIFE_STAGE\". <br>\n",
    "\"WOHNLAGE\" and \"PLZ8_BAUMAX\" are describing similar information therefore I will drop \"PLZ8_BAUMAX\" and keep \"WOHNLAGE\"."
   ]
  },
  {
   "cell_type": "code",
   "execution_count": 52,
   "metadata": {},
   "outputs": [],
   "source": [
    "# drop attributes \"LP_LEBENSPHASE_FEIN\", \"LP_LEBENSPHASE_GROB\" and \"PLZ8_BAUMAX\"\n",
    "azdias_clean_less_missing.drop('LP_LEBENSPHASE_FEIN', axis=1, inplace=True)\n",
    "azdias_clean_less_missing.drop('LP_LEBENSPHASE_GROB', axis=1, inplace=True)\n",
    "azdias_clean_less_missing.drop('PLZ8_BAUMAX', axis=1, inplace=True)"
   ]
  },
  {
   "cell_type": "code",
   "execution_count": 53,
   "metadata": {},
   "outputs": [
    {
     "data": {
      "text/plain": [
       "3.0    246155\n",
       "7.0    167130\n",
       "4.0    134022\n",
       "2.0     98784\n",
       "5.0     72899\n",
       "1.0     43191\n",
       "8.0     15018\n",
       "0.0      2954\n",
       "Name: WOHNLAGE, dtype: int64"
      ]
     },
     "execution_count": 53,
     "metadata": {},
     "output_type": "execute_result"
    }
   ],
   "source": [
    "azdias_clean_less_missing['WOHNLAGE'].value_counts()"
   ]
  },
  {
   "cell_type": "markdown",
   "metadata": {},
   "source": [
    "The encoding of \"WOHNLAGE\" is already fine and needs no further modification steps. Due to the feat_info data frame the entry 0 is not resenting missing data. The score is just not calculated."
   ]
  },
  {
   "cell_type": "markdown",
   "metadata": {},
   "source": [
    "#### Discussion 1.2.2: Engineer Mixed-Type Features\n",
    "\n",
    "There are six mixed attributes: \"LP_LEBENSPHASE_FEIN\", \"LP_LEBENSPHASE_GROB\", \"PRAEGENDE_JUGENDJAHRE\", \"WOHNLAGE\", \"CAMEO_INTL_2015\", \"PLZ8_BAUMAX\" <br>\n",
    "\n",
    "The attributes \"LP_LEBENSPHASE_FEIN\" and \"LP_LEBENSPHASE_GROB\" are be droped, because they are already covered by \"CAMEO_INTL_2015\". <br>\n",
    "The attribute \"CAMEO_INTL_2015\" is re-encoded into the two new atomic attributes \"CAMEO_INTL_2015_WEALTH\" and \"CAMEO_INTL_2015_LIFE_STAGE\". <br>\n",
    "\"PRAEGENDE_JUGENDJAHRE\" is also re-encoded into the two new atomic attributes \"PRAEGENDE_JUGENDJAHRE_MA\" and \"PRAEGENDE_JUGENDJAHRE_DEC\". <br>\n",
    "\"WOHNLAGE\" and \"PLZ8_BAUMAX\" are describing similar information therefore I will drop \"PLZ8_BAUMAX\" and keep \"WOHNLAGE\" which encoding is already fine and needs no further modification steps. "
   ]
  },
  {
   "cell_type": "markdown",
   "metadata": {},
   "source": [
    "#### Step 1.2.3: Complete Feature Selection\n",
    "\n",
    "In order to finish this step up, you need to make sure that your data frame now only has the columns that you want to keep. To summarize, the dataframe should consist of the following:\n",
    "- All numeric, interval, and ordinal type columns from the original dataset.\n",
    "- Binary categorical features (all numerically-encoded).\n",
    "- Engineered features from other multi-level categorical features and mixed features.\n",
    "\n",
    "Make sure that for any new columns that you have engineered, that you've excluded the original columns from the final dataset. Otherwise, their values will interfere with the analysis later on the project. For example, you should not keep \"PRAEGENDE_JUGENDJAHRE\", since its values won't be useful for the algorithm: only the values derived from it in the engineered features you created should be retained. As a reminder, your data should only be from **the subset with few or no missing values**."
   ]
  },
  {
   "cell_type": "code",
   "execution_count": 54,
   "metadata": {},
   "outputs": [],
   "source": [
    "# If there are other re-engineering tasks you need to perform, make sure you\n",
    "# take care of them here. (Dealing with missing data will come in step 2.1.)\n"
   ]
  },
  {
   "cell_type": "code",
   "execution_count": 55,
   "metadata": {},
   "outputs": [],
   "source": [
    "# Do whatever you need to in order to ensure that the dataframe only contains\n",
    "# the columns that should be passed to the algorithm functions.\n"
   ]
  },
  {
   "cell_type": "code",
   "execution_count": 56,
   "metadata": {},
   "outputs": [
    {
     "name": "stdout",
     "output_type": "stream",
     "text": [
      "<class 'pandas.core.frame.DataFrame'>\n",
      "Int64Index: 780153 entries, 1 to 891220\n",
      "Columns: 193 entries, ALTERSKATEGORIE_GROB to CAMEO_INTL_2015_LIFE_STAGE\n",
      "dtypes: float64(40), int64(25), uint8(128)\n",
      "memory usage: 488.1 MB\n"
     ]
    }
   ],
   "source": [
    "# get info of data frame to check if all types are numeric\n",
    "azdias_clean_less_missing.info()"
   ]
  },
  {
   "cell_type": "markdown",
   "metadata": {},
   "source": [
    "All steps have been performed in the previous sections. The above cell shows in addition that all column types are numeric (40x float, 25x int64, 128x uint8) which can be used for further analysis."
   ]
  },
  {
   "cell_type": "markdown",
   "metadata": {},
   "source": [
    "### Step 1.3: Create a Cleaning Function\n",
    "\n",
    "Even though you've finished cleaning up the general population demographics data, it's important to look ahead to the future and realize that you'll need to perform the same cleaning steps on the customer demographics data. In this substep, complete the function below to execute the main feature selection, encoding, and re-engineering steps you performed above. Then, when it comes to looking at the customer data in Step 3, you can just run this function on that DataFrame to get the trimmed dataset in a single step."
   ]
  },
  {
   "cell_type": "code",
   "execution_count": 57,
   "metadata": {},
   "outputs": [],
   "source": [
    "def convert_missing_data_to_nan(df, feat_info):\n",
    "    # get all attributes or column names\n",
    "    column_names = feat_info['attribute'].values\n",
    "    # create a list containing all unique int values (see one cell above)\n",
    "    int_values = ['-1', '0', '1', '9']\n",
    "\n",
    "    # loop through all attributes\n",
    "    for col in range(len(column_names)):\n",
    "        # get encoding_error values for current attribute\n",
    "        encoding_error = feat_info.loc[[col]].missing_or_unknown.values\n",
    "        # remove list brackets per entry and separate the individual values\n",
    "        for ii in range(len(encoding_error)):\n",
    "            encoding_error[ii] = encoding_error[ii].strip('[').strip(']').split(',')    \n",
    "        # check if any of the entries is an int value with the type str and change type if it is an int(see int_values list above)\n",
    "        for jj in range(len(encoding_error[0])):\n",
    "            if encoding_error[0][jj] in int_values:\n",
    "                encoding_error[0][jj] = int(encoding_error[0][jj])\n",
    "    \n",
    "        # replace values in data frame azdias with nan which are encoded as error in the feat_info data frame\n",
    "        df[column_names[col]] = df[column_names[col]].replace(encoding_error[0], np.nan)\n",
    "\n",
    "    # return cleaned data frame\n",
    "    return df"
   ]
  },
  {
   "cell_type": "code",
   "execution_count": 58,
   "metadata": {},
   "outputs": [],
   "source": [
    "def remove_noisy_columns(df, feat_info, thresh_perc_col, columns_outlier=''):\n",
    "    # calculate ratio of missing data per attribute in descending order\n",
    "    missing_values_per_attribute = (df.isnull().sum() / df.shape[0]).sort_values(ascending=False)\n",
    "    # get attribute outlier\n",
    "    if (len(columns_outlier) == 0): # if no columns_outlier list as argument given, use given threshold\n",
    "        columns_outlier = missing_values_per_attribute[missing_values_per_attribute>thresh_perc_col]\n",
    "    # drop outlier columns in data frame azdias\n",
    "    df.drop(columns_outlier.index, axis=1, inplace=True)\n",
    "    # drop outlier columns in data frame feat_info\n",
    "    for col_outlier in columns_outlier.index:\n",
    "        feat_info = feat_info[feat_info.attribute != col_outlier]\n",
    "    # return clean data frame\n",
    "    return df, feat_info, columns_outlier"
   ]
  },
  {
   "cell_type": "code",
   "execution_count": 59,
   "metadata": {},
   "outputs": [],
   "source": [
    "def remove_noisy_rows(df, thresh_abs_row, columns_outlier=''):\n",
    "    # calculate the number of missing data per row in descending order\n",
    "    missing_values_per_row = df.isnull().sum(axis=1).sort_values(ascending=False)\n",
    "    # fill just be used if the dataset is not the customer one\n",
    "    if (len(columns_outlier) == 0): # if no columns_outlier list as argument given, use given threshold\n",
    "        df = df[missing_values_per_row <= thresh_abs_row] # remove rows with more missing values than threshold\n",
    "    # Fill missing values with most frequent value for further analysis\n",
    "    #df = df.fillna(df.mode().iloc[0])\n",
    "    # return clean data frame\n",
    "    return df"
   ]
  },
  {
   "cell_type": "code",
   "execution_count": 60,
   "metadata": {},
   "outputs": [],
   "source": [
    "def encode_cat_attributes(df, feat_info):\n",
    "    ## get categorical features\n",
    "    cat_features = feat_info[feat_info.type == 'categorical']\n",
    "    \n",
    "    ## separate categorical features into binary and multi_level_features\n",
    "    # allocate list variables\n",
    "    binary_feature = []\n",
    "    multi_level_feature=[]\n",
    "    # check all features if they have two (binary) or more unique values\n",
    "    for tmp_feature in cat_features.attribute:\n",
    "        if (pd.notna(df[tmp_feature].unique()).sum()==2):\n",
    "            binary_feature.append(tmp_feature)\n",
    "        elif (len(df[tmp_feature].unique())>2):\n",
    "            multi_level_feature.append(tmp_feature)\n",
    "\n",
    "    ## Re-encode categorical variable(s) to be kept in the analysis.\n",
    "    # replace unique values for column OST_WEST_KZ  to integer values (1 for 'W' and 0 for 'O')\n",
    "    # code example from pandas replace documentation has been used, see reference [R1] for a link: \n",
    "    df['OST_WEST_KZ'] = df['OST_WEST_KZ'].replace({'O': 0, 'W': 1});\n",
    "\n",
    "    ## multi level features\n",
    "    # create dummy variables for the remaining multi level features and saved it in the new data frame azdias_clean_less_missing\n",
    "    df_clean = pd.get_dummies(df, columns=multi_level_feature)\n",
    "    \n",
    "    ## return cleaned data frame\n",
    "    return df_clean"
   ]
  },
  {
   "cell_type": "code",
   "execution_count": 61,
   "metadata": {},
   "outputs": [],
   "source": [
    "def encode_mixed_attributes(df):\n",
    "    #Encode \"PRAEGENDE_JUGENDJAHRE\"  and engineer two new variables \"PRAEGENDE_JUGENDJAHRE_MA\" and \"PRAEGENDE_JUGENDJAHRE_DEC\"\n",
    "    # Movement will be encoded by a binary variable using 0 for mainstream and 1 for avantgarde\n",
    "    dict_MA = {1:0, 2:1, 3:0, 4:1, 5:0, 6:1, 7:1, 8:0, 9:1, 10:0, 11:1, 12:0, 13:1, 14:0, 15:1}\n",
    "    # Decade will be encoded using the decade\n",
    "    dict_DEC = {1:1940, 2:1940, 3:1950, 4:1951, 5:1960, 6:1960, 7:1960, 8:1970, 9:1970, 10:1980, 11:1980, 12:1980, 13:1980, 14:1990, 15:1991}\n",
    "    # create new column \"PRAEGENDE_JUGENDJAHRE_MA\"\n",
    "    df['PRAEGENDE_JUGENDJAHRE_MA'] = df['PRAEGENDE_JUGENDJAHRE']\n",
    "    # encode by a binary variable using 0 for mainstream and 1 for avantgarde using dict_MA\n",
    "    df['PRAEGENDE_JUGENDJAHRE_MA'] = df['PRAEGENDE_JUGENDJAHRE_MA'].replace(dict_MA)    \n",
    "    # create new column \"PRAEGENDE_JUGENDJAHRE_DEC\"\n",
    "    df['PRAEGENDE_JUGENDJAHRE_DEC'] = df['PRAEGENDE_JUGENDJAHRE']\n",
    "    # encode by a multi level variable using the decade encoding of dictionary dict_DEC\n",
    "    df['PRAEGENDE_JUGENDJAHRE_DEC'] = df['PRAEGENDE_JUGENDJAHRE_DEC'].replace(dict_DEC)\n",
    "    # drop column \"PRAEGENDE_JUGENDJAHRE\"\n",
    "    df.drop('PRAEGENDE_JUGENDJAHRE', axis=1, inplace=True)\n",
    "\n",
    "    #Encode \"CAMEO_INTL_2015\" and engineer two new variables \"CAMEO_INTL_2015_WEALTH\" and \"CAMEO_INTL_2015_LIFE_STAGE\"\n",
    "    # Wealth will be encoded using\n",
    "    # 1 - Wealthy Households\n",
    "    # 2 - Prosperous Households\n",
    "    # 3 - Comfortable Households\n",
    "    # 4 - Less Affluent Households\n",
    "    # 5 - Poorer Households\n",
    "    dict_WEALTH = {11:1, 12:1, 13:1, 14:1, 15:1,\n",
    "                   21:2, 22:2, 23:2, 24:2, 25:2,\n",
    "                   31:3, 32:3, 33:3, 34:3, 35:3,\n",
    "                   41:4, 42:4, 43:4, 44:4, 45:4,\n",
    "                   51:5, 52:5, 53:5, 54:5, 55:5}\n",
    "    # Life stage will be encoded using\n",
    "    # 1 - Pre-Family Couples & Singles\n",
    "    # 2 - Young Couples With Children\n",
    "    # 3 - Families With School Age Children\n",
    "    # 4 - Older Families & Mature Couples\n",
    "    # 5 - Elders In Retirement\n",
    "    dict_LIFE_STAGE = {11:1, 21:1, 31:1, 41:1, 51:1,\n",
    "                       12:2, 22:2, 32:2, 42:2, 52:2,\n",
    "                       13:3, 23:3, 33:3, 43:3, 53:3,\n",
    "                       14:4, 24:4, 34:4, 44:4, 54:4,\n",
    "                       15:5, 25:5, 35:5, 45:5, 55:5}\n",
    "    # create new column \"CAMEO_INTL_2015_WEALTH\"\n",
    "    df['CAMEO_INTL_2015_WEALTH'] = df['CAMEO_INTL_2015']\n",
    "    # change type to int (code inspiration from [R2])\n",
    "    df[\"CAMEO_INTL_2015_WEALTH\"] = pd.to_numeric(df[\"CAMEO_INTL_2015_WEALTH\"])\n",
    "    # encode CAMEO_INTL_2015_WEALTH column using dict_WEALTH\n",
    "    df['CAMEO_INTL_2015_WEALTH'] = df['CAMEO_INTL_2015_WEALTH'].replace(dict_WEALTH)\n",
    "    # create new column \"CAMEO_INTL_2015_LIFE_STAGE\"\n",
    "    df['CAMEO_INTL_2015_LIFE_STAGE'] = df['CAMEO_INTL_2015']\n",
    "    # change type to numeric (code inspiration from [R2])\n",
    "    df[\"CAMEO_INTL_2015_LIFE_STAGE\"] = pd.to_numeric(df[\"CAMEO_INTL_2015_LIFE_STAGE\"])\n",
    "    # encode CAMEO_INTL_2015_LIFE_STAGE column using dict_LIFE_STAGE\n",
    "    df['CAMEO_INTL_2015_LIFE_STAGE'] = df['CAMEO_INTL_2015_LIFE_STAGE'].replace(dict_LIFE_STAGE)\n",
    "    # drop column \"CAMEO_INTL_2015\"\n",
    "    df.drop('CAMEO_INTL_2015', axis=1, inplace=True)\n",
    "\n",
    "    # drop attributes \"LP_LEBENSPHASE_FEIN\", \"LP_LEBENSPHASE_GROB\" and \"PLZ8_BAUMAX\"\n",
    "    df.drop('LP_LEBENSPHASE_FEIN', axis=1, inplace=True)\n",
    "    df.drop('LP_LEBENSPHASE_GROB', axis=1, inplace=True)\n",
    "    df.drop('PLZ8_BAUMAX', axis=1, inplace=True)\n",
    "    \n",
    "    # return cleaned data frame\n",
    "    return df"
   ]
  },
  {
   "cell_type": "code",
   "execution_count": 62,
   "metadata": {},
   "outputs": [],
   "source": [
    "def clean_data(df, feat_info, thresh_perc_col=0.2, thresh_abs_row=20, columns_outlier=''):\n",
    "    \"\"\"\n",
    "    Perform feature trimming, re-encoding, and engineering for demographics\n",
    "    data\n",
    "    \n",
    "    INPUT:  Demographics DataFrame,\n",
    "            Feature Summary DataFrame,\n",
    "            Threshold for allowed missing values per attribute [between 0 and 1]\n",
    "            Threshold for allowed missing values per row [absolute values]\n",
    "            Columns_outlier indicates if the outliers are already known. This is the case if the function is used with the customer dataset\n",
    "            \n",
    "    OUTPUT: Trimmed and cleaned demographics DataFrame\n",
    "            Trimmed and cleaned feat_info DataFrame\n",
    "            List containing the columns_outlier\n",
    "    \"\"\"\n",
    "    \n",
    "    # Put in code here to execute all main cleaning steps:\n",
    "    ## Step 1: convert missing value codes into NaNs, ...\n",
    "    df_clean = convert_missing_data_to_nan(df, feat_info)\n",
    "    \n",
    "    ## Step 2: remove selected columns and rows, ...\n",
    "    # clean columns\n",
    "    df_clean, feat_info_clean, columns_outlier = remove_noisy_columns(df_clean, feat_info, thresh_perc_col, columns_outlier)\n",
    "    # clean rows\n",
    "    df_clean = remove_noisy_rows(df_clean, thresh_abs_row, columns_outlier)\n",
    "    \n",
    "    ## Step 3: select, re-encode, and engineer column values.\n",
    "    # encode categorical attributes\n",
    "    df_clean = encode_cat_attributes(df_clean, feat_info_clean)\n",
    "    # encode mixed attributes\n",
    "    df_clean = encode_mixed_attributes(df_clean)\n",
    "    \n",
    "    ## Step 4:  Return the cleaned dataframe.\n",
    "    return df_clean, feat_info_clean, columns_outlier\n",
    "    "
   ]
  },
  {
   "cell_type": "markdown",
   "metadata": {},
   "source": [
    "## Step 2: Feature Transformation\n",
    "\n",
    "### Step 2.1: Apply Feature Scaling\n",
    "\n",
    "Before we apply dimensionality reduction techniques to the data, we need to perform feature scaling so that the principal component vectors are not influenced by the natural differences in scale for features. Starting from this part of the project, you'll want to keep an eye on the [API reference page for sklearn](http://scikit-learn.org/stable/modules/classes.html) to help you navigate to all of the classes and functions that you'll need. In this substep, you'll need to check the following:\n",
    "\n",
    "- sklearn requires that data not have missing values in order for its estimators to work properly. So, before applying the scaler to your data, make sure that you've cleaned the DataFrame of the remaining missing values. This can be as simple as just removing all data points with missing data, or applying an [Imputer](http://scikit-learn.org/stable/modules/generated/sklearn.preprocessing.Imputer.html) to replace all missing values. You might also try a more complicated procedure where you temporarily remove missing values in order to compute the scaling parameters before re-introducing those missing values and applying imputation. Think about how much missing data you have and what possible effects each approach might have on your analysis, and justify your decision in the discussion section below.\n",
    "- For the actual scaling function, a [StandardScaler](http://scikit-learn.org/stable/modules/generated/sklearn.preprocessing.StandardScaler.html) instance is suggested, scaling each feature to mean 0 and standard deviation 1.\n",
    "- For these classes, you can make use of the `.fit_transform()` method to both fit a procedure to the data as well as apply the transformation to the data at the same time. Don't forget to keep the fit sklearn objects handy, since you'll be applying them to the customer demographics data towards the end of the project."
   ]
  },
  {
   "cell_type": "code",
   "execution_count": 63,
   "metadata": {},
   "outputs": [
    {
     "name": "stdout",
     "output_type": "stream",
     "text": [
      "Cleaning done for data frames \"azdias\" and \"feat_info\"\n"
     ]
    }
   ],
   "source": [
    "# If you've not yet cleaned the dataset of all NaN values, then investigate and\n",
    "# do that now.\n",
    "\n",
    "# no missing data, because cleaning function will be replace missing values by most frequent one\n",
    "\n",
    "# create copy of data frame\n",
    "azdias_clean = azdias.copy()\n",
    "\n",
    "# clean data frame using the above defined function\n",
    "azdias_clean, feat_info_clean, columns_outlier_azdias = clean_data(azdias_clean, feat_info, 0.20, 10)\n",
    "\n",
    "# print message \"cleaning done\"\n",
    "print('Cleaning done for data frames \"azdias\" and \"feat_info\"')"
   ]
  },
  {
   "cell_type": "code",
   "execution_count": 64,
   "metadata": {},
   "outputs": [
    {
     "data": {
      "text/plain": [
       "(891221, 193)"
      ]
     },
     "execution_count": 64,
     "metadata": {},
     "output_type": "execute_result"
    }
   ],
   "source": [
    "azdias_clean.shape"
   ]
  },
  {
   "cell_type": "code",
   "execution_count": 65,
   "metadata": {},
   "outputs": [],
   "source": [
    "# use Imputer to fill NaN\n",
    "fill_nan = Imputer(strategy='most_frequent')\n",
    "azdias_clean = pd.DataFrame(fill_nan.fit_transform(azdias_clean), columns=list(azdias_clean))"
   ]
  },
  {
   "cell_type": "code",
   "execution_count": 66,
   "metadata": {},
   "outputs": [
    {
     "name": "stdout",
     "output_type": "stream",
     "text": [
      "Number of missing values in data frame azdias_clean: 0\n"
     ]
    }
   ],
   "source": [
    "print('Number of missing values in data frame azdias_clean: {}'.format(azdias_clean.isnull().sum().sum()))"
   ]
  },
  {
   "cell_type": "code",
   "execution_count": 67,
   "metadata": {},
   "outputs": [],
   "source": [
    "# Apply feature scaling to the general population demographics data.\n",
    "scaler = StandardScaler()\n",
    "azdias_clean_scaled = scaler.fit_transform(azdias_clean)"
   ]
  },
  {
   "cell_type": "code",
   "execution_count": 68,
   "metadata": {},
   "outputs": [
    {
     "data": {
      "text/plain": [
       "array([[-0.75167967, -1.045218  , -0.05641562, ...,  0.98950296,\n",
       "         1.03993811, -1.09586631],\n",
       "       [-1.74333933,  0.95673821, -1.57035806, ...,  0.98950296,\n",
       "         1.03993811, -1.09586631],\n",
       "       [ 0.23997999,  0.95673821, -1.57035806, ...,  1.05738008,\n",
       "        -0.98045299,  0.87958079],\n",
       "       ..., \n",
       "       [-0.75167967,  0.95673821, -0.81338684, ...,  0.98950296,\n",
       "        -0.98045299,  0.87958079],\n",
       "       [-1.74333933, -1.045218  , -1.57035806, ...,  0.98950296,\n",
       "         1.03993811, -1.09586631],\n",
       "       [ 1.23163965, -1.045218  ,  0.7005556 , ..., -1.72558193,\n",
       "         0.36647441,  0.22109842]])"
      ]
     },
     "execution_count": 68,
     "metadata": {},
     "output_type": "execute_result"
    }
   ],
   "source": [
    "azdias_clean_scaled"
   ]
  },
  {
   "cell_type": "code",
   "execution_count": 69,
   "metadata": {},
   "outputs": [
    {
     "data": {
      "text/html": [
       "<div>\n",
       "<style scoped>\n",
       "    .dataframe tbody tr th:only-of-type {\n",
       "        vertical-align: middle;\n",
       "    }\n",
       "\n",
       "    .dataframe tbody tr th {\n",
       "        vertical-align: top;\n",
       "    }\n",
       "\n",
       "    .dataframe thead th {\n",
       "        text-align: right;\n",
       "    }\n",
       "</style>\n",
       "<table border=\"1\" class=\"dataframe\">\n",
       "  <thead>\n",
       "    <tr style=\"text-align: right;\">\n",
       "      <th></th>\n",
       "      <th>ALTERSKATEGORIE_GROB</th>\n",
       "      <th>ANREDE_KZ</th>\n",
       "      <th>FINANZ_MINIMALIST</th>\n",
       "      <th>FINANZ_SPARER</th>\n",
       "      <th>FINANZ_VORSORGER</th>\n",
       "      <th>FINANZ_ANLEGER</th>\n",
       "      <th>FINANZ_UNAUFFAELLIGER</th>\n",
       "      <th>FINANZ_HAUSBAUER</th>\n",
       "      <th>GREEN_AVANTGARDE</th>\n",
       "      <th>HEALTH_TYP</th>\n",
       "      <th>...</th>\n",
       "      <th>CAMEO_DEU_2015_8D</th>\n",
       "      <th>CAMEO_DEU_2015_9A</th>\n",
       "      <th>CAMEO_DEU_2015_9B</th>\n",
       "      <th>CAMEO_DEU_2015_9C</th>\n",
       "      <th>CAMEO_DEU_2015_9D</th>\n",
       "      <th>CAMEO_DEU_2015_9E</th>\n",
       "      <th>PRAEGENDE_JUGENDJAHRE_MA</th>\n",
       "      <th>PRAEGENDE_JUGENDJAHRE_DEC</th>\n",
       "      <th>CAMEO_INTL_2015_WEALTH</th>\n",
       "      <th>CAMEO_INTL_2015_LIFE_STAGE</th>\n",
       "    </tr>\n",
       "  </thead>\n",
       "  <tbody>\n",
       "    <tr>\n",
       "      <th>0</th>\n",
       "      <td>-0.751680</td>\n",
       "      <td>-1.045218</td>\n",
       "      <td>-0.056416</td>\n",
       "      <td>0.804890</td>\n",
       "      <td>-0.303378</td>\n",
       "      <td>1.285741</td>\n",
       "      <td>1.429871</td>\n",
       "      <td>-0.055511</td>\n",
       "      <td>-0.494701</td>\n",
       "      <td>0.938197</td>\n",
       "      <td>...</td>\n",
       "      <td>-0.141838</td>\n",
       "      <td>-0.1536</td>\n",
       "      <td>-0.179023</td>\n",
       "      <td>-0.16984</td>\n",
       "      <td>-0.182061</td>\n",
       "      <td>-0.084907</td>\n",
       "      <td>-0.494701</td>\n",
       "      <td>0.989503</td>\n",
       "      <td>1.039938</td>\n",
       "      <td>-1.095866</td>\n",
       "    </tr>\n",
       "    <tr>\n",
       "      <th>1</th>\n",
       "      <td>-1.743339</td>\n",
       "      <td>0.956738</td>\n",
       "      <td>-1.570358</td>\n",
       "      <td>1.487601</td>\n",
       "      <td>-1.059731</td>\n",
       "      <td>1.285741</td>\n",
       "      <td>0.757254</td>\n",
       "      <td>1.422415</td>\n",
       "      <td>-0.494701</td>\n",
       "      <td>0.938197</td>\n",
       "      <td>...</td>\n",
       "      <td>-0.141838</td>\n",
       "      <td>-0.1536</td>\n",
       "      <td>-0.179023</td>\n",
       "      <td>-0.16984</td>\n",
       "      <td>-0.182061</td>\n",
       "      <td>-0.084907</td>\n",
       "      <td>-0.494701</td>\n",
       "      <td>0.989503</td>\n",
       "      <td>1.039938</td>\n",
       "      <td>-1.095866</td>\n",
       "    </tr>\n",
       "    <tr>\n",
       "      <th>2</th>\n",
       "      <td>0.239980</td>\n",
       "      <td>0.956738</td>\n",
       "      <td>-1.570358</td>\n",
       "      <td>0.804890</td>\n",
       "      <td>-1.816084</td>\n",
       "      <td>-0.675554</td>\n",
       "      <td>0.084637</td>\n",
       "      <td>1.422415</td>\n",
       "      <td>2.021423</td>\n",
       "      <td>0.938197</td>\n",
       "      <td>...</td>\n",
       "      <td>-0.141838</td>\n",
       "      <td>-0.1536</td>\n",
       "      <td>-0.179023</td>\n",
       "      <td>-0.16984</td>\n",
       "      <td>-0.182061</td>\n",
       "      <td>-0.084907</td>\n",
       "      <td>2.021423</td>\n",
       "      <td>1.057380</td>\n",
       "      <td>-0.980453</td>\n",
       "      <td>0.879581</td>\n",
       "    </tr>\n",
       "  </tbody>\n",
       "</table>\n",
       "<p>3 rows × 193 columns</p>\n",
       "</div>"
      ],
      "text/plain": [
       "   ALTERSKATEGORIE_GROB  ANREDE_KZ  FINANZ_MINIMALIST  FINANZ_SPARER  \\\n",
       "0             -0.751680  -1.045218          -0.056416       0.804890   \n",
       "1             -1.743339   0.956738          -1.570358       1.487601   \n",
       "2              0.239980   0.956738          -1.570358       0.804890   \n",
       "\n",
       "   FINANZ_VORSORGER  FINANZ_ANLEGER  FINANZ_UNAUFFAELLIGER  FINANZ_HAUSBAUER  \\\n",
       "0         -0.303378        1.285741               1.429871         -0.055511   \n",
       "1         -1.059731        1.285741               0.757254          1.422415   \n",
       "2         -1.816084       -0.675554               0.084637          1.422415   \n",
       "\n",
       "   GREEN_AVANTGARDE  HEALTH_TYP             ...              \\\n",
       "0         -0.494701    0.938197             ...               \n",
       "1         -0.494701    0.938197             ...               \n",
       "2          2.021423    0.938197             ...               \n",
       "\n",
       "   CAMEO_DEU_2015_8D  CAMEO_DEU_2015_9A  CAMEO_DEU_2015_9B  CAMEO_DEU_2015_9C  \\\n",
       "0          -0.141838            -0.1536          -0.179023           -0.16984   \n",
       "1          -0.141838            -0.1536          -0.179023           -0.16984   \n",
       "2          -0.141838            -0.1536          -0.179023           -0.16984   \n",
       "\n",
       "   CAMEO_DEU_2015_9D  CAMEO_DEU_2015_9E  PRAEGENDE_JUGENDJAHRE_MA  \\\n",
       "0          -0.182061          -0.084907                 -0.494701   \n",
       "1          -0.182061          -0.084907                 -0.494701   \n",
       "2          -0.182061          -0.084907                  2.021423   \n",
       "\n",
       "   PRAEGENDE_JUGENDJAHRE_DEC  CAMEO_INTL_2015_WEALTH  \\\n",
       "0                   0.989503                1.039938   \n",
       "1                   0.989503                1.039938   \n",
       "2                   1.057380               -0.980453   \n",
       "\n",
       "   CAMEO_INTL_2015_LIFE_STAGE  \n",
       "0                   -1.095866  \n",
       "1                   -1.095866  \n",
       "2                    0.879581  \n",
       "\n",
       "[3 rows x 193 columns]"
      ]
     },
     "execution_count": 69,
     "metadata": {},
     "output_type": "execute_result"
    }
   ],
   "source": [
    "# convert azdias_clean_scaled into data frame with the same column names as the unscaled \n",
    "azdias_clean_scaled = pd.DataFrame(azdias_clean_scaled, columns=list(azdias_clean), index=azdias_clean.index)\n",
    "azdias_clean_scaled.head(3)"
   ]
  },
  {
   "cell_type": "markdown",
   "metadata": {},
   "source": [
    "### Discussion 2.1: Apply Feature Scaling\n",
    "\n",
    "There were no more missing values, because even if the threshold of the missing value per row is set to a number greater than 0, all missing values will be replaced by the most frequent one. For detail, please have a look at the function \"remove_noisy_rows\". All features have been scaled using the StandardScaler. For an easier view and further analysis, the scaled data have been saved again in a data frame. "
   ]
  },
  {
   "cell_type": "markdown",
   "metadata": {},
   "source": [
    "### Step 2.2: Perform Dimensionality Reduction\n",
    "\n",
    "On your scaled data, you are now ready to apply dimensionality reduction techniques.\n",
    "\n",
    "- Use sklearn's [PCA](http://scikit-learn.org/stable/modules/generated/sklearn.decomposition.PCA.html) class to apply principal component analysis on the data, thus finding the vectors of maximal variance in the data. To start, you should not set any parameters (so all components are computed) or set a number of components that is at least half the number of features (so there's enough features to see the general trend in variability).\n",
    "- Check out the ratio of variance explained by each principal component as well as the cumulative variance explained. Try plotting the cumulative or sequential values using matplotlib's [`plot()`](https://matplotlib.org/api/_as_gen/matplotlib.pyplot.plot.html) function. Based on what you find, select a value for the number of transformed features you'll retain for the clustering part of the project.\n",
    "- Once you've made a choice for the number of components to keep, make sure you re-fit a PCA instance to perform the decided-on transformation."
   ]
  },
  {
   "cell_type": "code",
   "execution_count": 70,
   "metadata": {},
   "outputs": [
    {
     "data": {
      "text/plain": [
       "PCA(copy=True, iterated_power='auto', n_components=None, random_state=None,\n",
       "  svd_solver='auto', tol=0.0, whiten=False)"
      ]
     },
     "execution_count": 70,
     "metadata": {},
     "output_type": "execute_result"
    }
   ],
   "source": [
    "# Apply PCA to the data.\n",
    "pca = PCA()\n",
    "pca.fit(azdias_clean_scaled)"
   ]
  },
  {
   "cell_type": "code",
   "execution_count": 71,
   "metadata": {},
   "outputs": [
    {
     "data": {
      "image/png": "[encoded data removed]",
      "text/plain": [
       "<matplotlib.figure.Figure at 0x7fa878b13a90>"
      ]
     },
     "metadata": {
      "needs_background": "light"
     },
     "output_type": "display_data"
    }
   ],
   "source": [
    "# Investigate the variance accounted for by each principal component.\n",
    "plt.bar(range(len(pca.explained_variance_ratio_)), pca.explained_variance_ratio_);\n",
    "plt.title('Variance Explanined Per Principal Component');\n",
    "plt.xlabel('Principal Component');\n",
    "plt.ylabel('Ratio of Variance Explained');\n"
   ]
  },
  {
   "cell_type": "code",
   "execution_count": 72,
   "metadata": {},
   "outputs": [
    {
     "data": {
      "image/png": "[encoded data removed]",
      "text/plain": [
       "<matplotlib.figure.Figure at 0x7fa919382a20>"
      ]
     },
     "metadata": {
      "needs_background": "light"
     },
     "output_type": "display_data"
    }
   ],
   "source": [
    "# Function definition from helper.py of Udacity ND Course, Section 4.4.14 [R3]\n",
    "def scree_plot(pca):\n",
    "    '''\n",
    "    Creates a scree plot associated with the principal components \n",
    "    INPUT: pca - the result of instantian of PCA in scikit learn    \n",
    "    OUTPUT: None\n",
    "    '''\n",
    "    num_components=len(pca.explained_variance_ratio_)\n",
    "    ind = np.arange(num_components)\n",
    "    vals = pca.explained_variance_ratio_\n",
    " \n",
    "    plt.figure(figsize=(12, 6))\n",
    "    ax = plt.subplot(111)\n",
    "    cumvals = np.cumsum(vals)\n",
    "    ax.bar(ind, vals)\n",
    "    ax.plot(ind, cumvals)\n",
    "    for i in range(num_components):\n",
    "        ax.annotate(r\"%s%%\" % ((str(vals[i]*100)[:4])), (ind[i]+0.2, vals[i]), va=\"bottom\", ha=\"center\", fontsize=12)\n",
    " \n",
    "    ax.xaxis.set_tick_params(width=0)\n",
    "    ax.yaxis.set_tick_params(width=2, length=12)\n",
    " \n",
    "    ax.set_xlabel(\"Principal Component\")\n",
    "    ax.set_ylabel(\"Variance Explained (%)\")\n",
    "    plt.title('Explained Variance Per Principal Component')\n",
    "    plt.grid(True)\n",
    "    \n",
    "scree_plot(pca)"
   ]
  },
  {
   "cell_type": "code",
   "execution_count": 73,
   "metadata": {},
   "outputs": [
    {
     "name": "stdout",
     "output_type": "stream",
     "text": [
      "Number of components: 193\n",
      "Cumulative Variance for 95 components: 0.8513372112876733\n"
     ]
    }
   ],
   "source": [
    "# calculate cumulative variance for 95 components\n",
    "print('Number of components: {}'.format(len(pca.explained_variance_ratio_)))\n",
    "print('Cumulative Variance for 95 components: {}'.format(pca.explained_variance_ratio_[:95].sum()))"
   ]
  },
  {
   "cell_type": "code",
   "execution_count": 74,
   "metadata": {},
   "outputs": [],
   "source": [
    "# Re-apply PCA to the data while selecting for number of components to retain.\n",
    "pca_95 = PCA(n_components=95)\n",
    "azdias_pca = pca_95.fit_transform(azdias_clean_scaled)"
   ]
  },
  {
   "cell_type": "markdown",
   "metadata": {},
   "source": [
    "### Discussion 2.2: Perform Dimensionality Reduction\n",
    "\n",
    "I used the plotting function which we already used within the Nanodegree course to plot the single and the cumulative variance. This plot shows that taking into account **95 components** will lead to a cumulative explained variance of around 85% while reducing the number of components by around 50% which also leads to a reduction in the computational time. "
   ]
  },
  {
   "cell_type": "markdown",
   "metadata": {},
   "source": [
    "### Step 2.3: Interpret Principal Components\n",
    "\n",
    "Now that we have our transformed principal components, it's a nice idea to check out the weight of each variable on the first few components to see if they can be interpreted in some fashion.\n",
    "\n",
    "As a reminder, each principal component is a unit vector that points in the direction of highest variance (after accounting for the variance captured by earlier principal components). The further a weight is from zero, the more the principal component is in the direction of the corresponding feature. If two features have large weights of the same sign (both positive or both negative), then increases in one tend expect to be associated with increases in the other. To contrast, features with different signs can be expected to show a negative correlation: increases in one variable should result in a decrease in the other.\n",
    "\n",
    "- To investigate the features, you should map each weight to their corresponding feature name, then sort the features according to weight. The most interesting features for each principal component, then, will be those at the beginning and end of the sorted list. Use the data dictionary document to help you understand these most prominent features, their relationships, and what a positive or negative value on the principal component might indicate.\n",
    "- You should investigate and interpret feature associations from the first three principal components in this substep. To help facilitate this, you should write a function that you can call at any time to print the sorted list of feature weights, for the *i*-th principal component. This might come in handy in the next step of the project, when you interpret the tendencies of the discovered clusters."
   ]
  },
  {
   "cell_type": "code",
   "execution_count": 75,
   "metadata": {},
   "outputs": [],
   "source": [
    "# HINT: Try defining a function here or in a new cell that you can reuse in the\n",
    "# other cells.\n",
    "\n",
    "def pca_weight(pca, i):\n",
    "    # create data frame containing the components and use the names from the sclaed azdias data frame\n",
    "    df = pd.DataFrame(pca.components_, columns=list(azdias_clean_scaled.columns))\n",
    "    # get i-th value and sort values in descending order\n",
    "    weight = df.iloc[i].sort_values(ascending=False)\n",
    "    # return weight\n",
    "    return weight"
   ]
  },
  {
   "cell_type": "code",
   "execution_count": 76,
   "metadata": {},
   "outputs": [
    {
     "data": {
      "text/plain": [
       "CAMEO_INTL_2015_WEALTH        0.186869\n",
       "PLZ8_ANTG3                    0.183610\n",
       "LP_STATUS_GROB_1.0            0.180157\n",
       "EWDICHTE                      0.159679\n",
       "ORTSGR_KLS9                   0.150808\n",
       "PLZ8_ANTG4                    0.148434\n",
       "HH_EINKOMMEN_SCORE            0.142488\n",
       "FINANZ_HAUSBAUER              0.139551\n",
       "FINANZ_SPARER                 0.137703\n",
       "PLZ8_ANTG2                    0.127002\n",
       "ARBEIT                        0.121051\n",
       "KBA05_ANTG4                   0.116594\n",
       "LP_STATUS_FEIN_2.0            0.116055\n",
       "FINANZTYP_1                   0.111799\n",
       "LP_STATUS_FEIN_1.0            0.111493\n",
       "RELAT_AB                      0.105144\n",
       "CAMEO_DEUG_2015_9             0.104596\n",
       "ANZ_HAUSHALTE_AKTIV           0.103478\n",
       "KBA05_ANTG3                   0.103037\n",
       "PRAEGENDE_JUGENDJAHRE_DEC     0.102972\n",
       "SEMIO_REL                     0.102943\n",
       "SEMIO_PFLICHT                 0.102146\n",
       "FINANZ_ANLEGER                0.084934\n",
       "FINANZ_UNAUFFAELLIGER         0.084129\n",
       "SEMIO_RAT                     0.083471\n",
       "CAMEO_DEUG_2015_8             0.081678\n",
       "ZABEOTYP_5                    0.075976\n",
       "LP_FAMILIE_FEIN_1.0           0.071374\n",
       "LP_FAMILIE_GROB_1.0           0.071374\n",
       "SEMIO_MAT                     0.068591\n",
       "                                ...   \n",
       "SEMIO_VERT                   -0.065934\n",
       "LP_FAMILIE_GROB_5.0          -0.066494\n",
       "CAMEO_DEUG_2015_3            -0.069759\n",
       "WOHNLAGE                     -0.070549\n",
       "CAMEO_DEUG_2015_4            -0.076691\n",
       "BALLRAUM                     -0.077734\n",
       "FINANZTYP_2                  -0.086701\n",
       "ANZ_PERSONEN                 -0.088317\n",
       "NATIONALITAET_KZ_1.0         -0.088732\n",
       "GEBAEUDETYP_RASTER           -0.089565\n",
       "CAMEO_DEUG_2015_2            -0.091881\n",
       "GEBAEUDETYP_1.0              -0.099310\n",
       "ALTERSKATEGORIE_GROB         -0.100592\n",
       "ZABEOTYP_1                   -0.100837\n",
       "FINANZ_VORSORGER             -0.101286\n",
       "GREEN_AVANTGARDE             -0.110520\n",
       "PRAEGENDE_JUGENDJAHRE_MA     -0.110520\n",
       "LP_STATUS_FEIN_9.0           -0.113121\n",
       "LP_STATUS_GROB_4.0           -0.114790\n",
       "LP_STATUS_FEIN_10.0          -0.116275\n",
       "LP_STATUS_GROB_5.0           -0.116275\n",
       "INNENSTADT                   -0.121238\n",
       "CAMEO_INTL_2015_LIFE_STAGE   -0.121482\n",
       "PLZ8_GBZ                     -0.132933\n",
       "KONSUMNAEHE                  -0.143405\n",
       "KBA05_GBZ                    -0.178915\n",
       "PLZ8_ANTG1                   -0.182382\n",
       "KBA05_ANTG1                  -0.184045\n",
       "MOBI_REGIO                   -0.189930\n",
       "FINANZ_MINIMALIST            -0.196657\n",
       "Name: 0, Length: 193, dtype: float64"
      ]
     },
     "execution_count": 76,
     "metadata": {},
     "output_type": "execute_result"
    }
   ],
   "source": [
    "# Map weights for the first principal component to corresponding feature names\n",
    "# and then print the linked values, sorted by weight.\n",
    "\n",
    "pca_weight_first = pca_weight(pca_95, 0)\n",
    "pca_weight_first"
   ]
  },
  {
   "cell_type": "code",
   "execution_count": 77,
   "metadata": {},
   "outputs": [
    {
     "data": {
      "text/plain": [
       "ALTERSKATEGORIE_GROB         0.221012\n",
       "FINANZ_VORSORGER             0.212701\n",
       "SEMIO_ERL                    0.172550\n",
       "RETOURTYP_BK_S               0.156384\n",
       "ZABEOTYP_3                   0.150864\n",
       "SEMIO_LUST                   0.146763\n",
       "LP_STATUS_FEIN_1.0           0.123058\n",
       "FINANZTYP_5                  0.112357\n",
       "PLZ8_ANTG4                   0.107063\n",
       "FINANZ_HAUSBAUER             0.105516\n",
       "CJT_GESAMTTYP_2.0            0.103982\n",
       "W_KEIT_KIND_HH               0.101995\n",
       "ORTSGR_KLS9                  0.092652\n",
       "NATIONALITAET_KZ_1.0         0.090830\n",
       "FINANZTYP_2                  0.087814\n",
       "HH_EINKOMMEN_SCORE           0.086207\n",
       "PLZ8_ANTG3                   0.082834\n",
       "LP_FAMILIE_FEIN_1.0          0.081556\n",
       "LP_FAMILIE_GROB_1.0          0.081556\n",
       "KBA05_ANTG4                  0.080887\n",
       "FINANZTYP_6                  0.076820\n",
       "SHOPPER_TYP_3.0              0.076087\n",
       "ANZ_HAUSHALTE_AKTIV          0.074978\n",
       "CJT_GESAMTTYP_1.0            0.073321\n",
       "FINANZ_MINIMALIST            0.067155\n",
       "GFK_URLAUBERTYP_4.0          0.065354\n",
       "RELAT_AB                     0.065024\n",
       "KBA05_ANTG3                  0.061867\n",
       "CAMEO_DEUG_2015_8            0.060757\n",
       "PLZ8_ANTG2                   0.059578\n",
       "                               ...   \n",
       "ANZ_PERSONEN                -0.058967\n",
       "PLZ8_GBZ                    -0.062884\n",
       "GFK_URLAUBERTYP_9.0         -0.068508\n",
       "LP_FAMILIE_GROB_4.0         -0.068557\n",
       "KBA13_ANZAHL_PKW            -0.069403\n",
       "CJT_GESAMTTYP_6.0           -0.070430\n",
       "LP_STATUS_FEIN_2.0          -0.072273\n",
       "HEALTH_TYP                  -0.072512\n",
       "ZABEOTYP_5                  -0.073747\n",
       "BALLRAUM                    -0.074703\n",
       "FINANZTYP_3                 -0.075636\n",
       "INNENSTADT                  -0.077604\n",
       "KBA05_GBZ                   -0.084751\n",
       "PLZ8_ANTG1                  -0.085527\n",
       "ZABEOTYP_4                  -0.086233\n",
       "LP_STATUS_FEIN_5.0          -0.101466\n",
       "FINANZTYP_1                 -0.105212\n",
       "FINANZTYP_4                 -0.112016\n",
       "SEMIO_MAT                   -0.127241\n",
       "SEMIO_FAM                   -0.127863\n",
       "SEMIO_KULT                  -0.128142\n",
       "ONLINE_AFFINITAET           -0.156688\n",
       "SEMIO_RAT                   -0.166869\n",
       "SEMIO_TRADV                 -0.187247\n",
       "SEMIO_PFLICHT               -0.201091\n",
       "SEMIO_REL                   -0.208081\n",
       "FINANZ_ANLEGER              -0.215205\n",
       "FINANZ_UNAUFFAELLIGER       -0.219444\n",
       "FINANZ_SPARER               -0.222911\n",
       "PRAEGENDE_JUGENDJAHRE_DEC   -0.231322\n",
       "Name: 1, Length: 193, dtype: float64"
      ]
     },
     "execution_count": 77,
     "metadata": {},
     "output_type": "execute_result"
    }
   ],
   "source": [
    "# Map weights for the second principal component to corresponding feature names\n",
    "# and then print the linked values, sorted by weight.\n",
    "\n",
    "pca_weight_second = pca_weight(pca_95, 1)\n",
    "pca_weight_second"
   ]
  },
  {
   "cell_type": "code",
   "execution_count": 78,
   "metadata": {},
   "outputs": [
    {
     "data": {
      "text/plain": [
       "SEMIO_VERT                    0.297836\n",
       "SEMIO_KULT                    0.267958\n",
       "SEMIO_SOZ                     0.265500\n",
       "SEMIO_FAM                     0.157774\n",
       "SHOPPER_TYP_0.0               0.127576\n",
       "NATIONALITAET_KZ_1.0          0.117320\n",
       "PLZ8_ANTG4                    0.114956\n",
       "ZABEOTYP_1                    0.106361\n",
       "HH_EINKOMMEN_SCORE            0.096927\n",
       "SEMIO_TRADV                   0.091036\n",
       "SHOPPER_TYP_1.0               0.087672\n",
       "FINANZTYP_5                   0.087510\n",
       "LP_STATUS_GROB_1.0            0.071368\n",
       "SEMIO_MAT                     0.069010\n",
       "ANZ_HAUSHALTE_AKTIV           0.064331\n",
       "KBA05_ANTG4                   0.063909\n",
       "LP_STATUS_FEIN_1.0            0.063405\n",
       "ORTSGR_KLS9                   0.063394\n",
       "GEBAEUDETYP_3.0               0.063296\n",
       "PRAEGENDE_JUGENDJAHRE_MA      0.063139\n",
       "GREEN_AVANTGARDE              0.063139\n",
       "KBA05_ANTG2                   0.062093\n",
       "CJT_GESAMTTYP_4.0             0.062027\n",
       "CAMEO_DEUG_2015_9             0.061334\n",
       "KBA05_ANTG3                   0.060275\n",
       "ZABEOTYP_6                    0.057452\n",
       "NATIONALITAET_KZ_2.0          0.056541\n",
       "ANZ_PERSONEN                  0.054629\n",
       "CAMEO_INTL_2015_LIFE_STAGE    0.053663\n",
       "ONLINE_AFFINITAET             0.053370\n",
       "                                ...   \n",
       "CJT_GESAMTTYP_2.0            -0.037576\n",
       "LP_STATUS_FEIN_4.0           -0.039018\n",
       "FINANZTYP_2                  -0.040162\n",
       "ALTERSKATEGORIE_GROB         -0.040962\n",
       "CAMEO_INTL_2015_WEALTH       -0.044751\n",
       "SEMIO_RAT                    -0.052593\n",
       "OST_WEST_KZ                  -0.052806\n",
       "WOHNDAUER_2008               -0.054703\n",
       "GEBAEUDETYP_RASTER           -0.056778\n",
       "W_KEIT_KIND_HH               -0.061478\n",
       "INNENSTADT                   -0.064990\n",
       "REGIOTYP                     -0.065111\n",
       "HEALTH_TYP                   -0.066710\n",
       "SEMIO_LUST                   -0.066934\n",
       "VERS_TYP                     -0.072708\n",
       "FINANZ_UNAUFFAELLIGER        -0.079013\n",
       "BALLRAUM                     -0.097040\n",
       "CJT_GESAMTTYP_6.0            -0.115453\n",
       "LP_STATUS_GROB_2.0           -0.118544\n",
       "FINANZ_ANLEGER               -0.124291\n",
       "GFK_URLAUBERTYP_5.0          -0.131287\n",
       "SEMIO_ERL                    -0.144012\n",
       "KBA13_ANZAHL_PKW             -0.145870\n",
       "FINANZTYP_4                  -0.153673\n",
       "LP_STATUS_FEIN_5.0           -0.164184\n",
       "ZABEOTYP_3                   -0.173587\n",
       "ANREDE_KZ                    -0.244202\n",
       "SEMIO_DOM                    -0.249366\n",
       "SEMIO_KAEM                   -0.280052\n",
       "SEMIO_KRIT                   -0.283427\n",
       "Name: 2, Length: 193, dtype: float64"
      ]
     },
     "execution_count": 78,
     "metadata": {},
     "output_type": "execute_result"
    }
   ],
   "source": [
    "# Map weights for the third principal component to corresponding feature names\n",
    "# and then print the linked values, sorted by weight.\n",
    "\n",
    "pca_weight_third = pca_weight(pca_95, 2)\n",
    "pca_weight_third"
   ]
  },
  {
   "cell_type": "markdown",
   "metadata": {},
   "source": [
    "### Discussion 2.3: Interpret Principal Components\n",
    "\n",
    "The first principal component is about the financial situation and the neighbourhood. A strong positive correlatoin exists to \"LP_STATUS_GROB_1.0\", \"HH_EINKOMMEN_SCORE\", \"CAMEO_INTL_2015_WEALTH\", \"PLZ8_ANTG3\" and \"PLZ8_ANTG4\" which explains the low-income earner, the estimated net income, wealth and the number of 6-10 family houses, respectively 10+ family-houses in the area (zip code startin with 8). A strong negative correlation exists for \"MOBI_REGIO\", \"FINANZ_MINIMALIST\", \"KBA05_ANTG1\" and \"KBA05_GBZ\" which describes the movement pattern, the financial typ, the number of 1-2 family houses and the number of buildings in the neighbourhood (called microcell in the Data_Dictionary). \n",
    "\n",
    "The second principal component is about the age and the financial typology. It has a strong positive correlation with \"ALTERSKATEGORIE_GROB\", \"FINANZ_VORSORGER\" which indicates the rough ages and the fincial typology which is eactly the same with the two of the three most negative correlated attributes \"PRAEGENDE_JUGENDJAHRE_DEC\" and \"FINANZ_SPARER\" of this principal component. The second most negative correlatd compoent is \"SEMIO_REL\" which is about how religious a person is.\n",
    "\n",
    "The third principal component is about the personality which is visible at the strong correlations with the \"SEMIO_...\" attributes. The third principal component has a strong posivite correlation with \"SEMIO_VERT\", \"SEMIO_FAM\", \"SEMIO_SOZ\" and \"SEMIO_KULT\" which is about dreamful, family-, social- and cultural-minded. A strong negative correlation exists for \"SEMIO_ERL\", \"SEMIO_KRIT\", \"SEMIO_DOM\", \"SEMIO_KAEM\", \"ANREDE_KZ\" which identifies event-orientated, critical- and dominant-minded, a combative attitude and the gender. \n"
   ]
  },
  {
   "cell_type": "markdown",
   "metadata": {},
   "source": [
    "## Step 3: Clustering\n",
    "\n",
    "### Step 3.1: Apply Clustering to General Population\n",
    "\n",
    "You've assessed and cleaned the demographics data, then scaled and transformed them. Now, it's time to see how the data clusters in the principal components space. In this substep, you will apply k-means clustering to the dataset and use the average within-cluster distances from each point to their assigned cluster's centroid to decide on a number of clusters to keep.\n",
    "\n",
    "- Use sklearn's [KMeans](http://scikit-learn.org/stable/modules/generated/sklearn.cluster.KMeans.html#sklearn.cluster.KMeans) class to perform k-means clustering on the PCA-transformed data.\n",
    "- Then, compute the average difference from each point to its assigned cluster's center. **Hint**: The KMeans object's `.score()` method might be useful here, but note that in sklearn, scores tend to be defined so that larger is better. Try applying it to a small, toy dataset, or use an internet search to help your understanding.\n",
    "- Perform the above two steps for a number of different cluster counts. You can then see how the average distance decreases with an increasing number of clusters. However, each additional cluster provides a smaller net benefit. Use this fact to select a final number of clusters in which to group the data. **Warning**: because of the large size of the dataset, it can take a long time for the algorithm to resolve. The more clusters to fit, the longer the algorithm will take. You should test for cluster counts through at least 10 clusters to get the full picture, but you shouldn't need to test for a number of clusters above about 30.\n",
    "- Once you've selected a final number of clusters to use, re-fit a KMeans instance to perform the clustering operation. Make sure that you also obtain the cluster assignments for the general demographics data, since you'll be using them in the final Step 3.3."
   ]
  },
  {
   "cell_type": "code",
   "execution_count": 79,
   "metadata": {},
   "outputs": [],
   "source": [
    "# define a function calculating the score\n",
    "def k_means_score(data, nof_cluster):\n",
    "    # initialize KMEANS with nof_cluster clusters\n",
    "    k_means = KMeans(n_clusters = nof_cluster)\n",
    "    # fitting data\n",
    "    model = k_means.fit(data)\n",
    "    # calculating the absolute value of the score\n",
    "    score = np.abs(model.score(data))\n",
    "    return score"
   ]
  },
  {
   "cell_type": "code",
   "execution_count": 80,
   "metadata": {},
   "outputs": [
    {
     "name": "stdout",
     "output_type": "stream",
     "text": [
      "score calculated for k=1\n",
      "score calculated for k=2\n",
      "score calculated for k=3\n",
      "score calculated for k=4\n",
      "score calculated for k=5\n",
      "score calculated for k=6\n",
      "score calculated for k=7\n",
      "score calculated for k=8\n",
      "score calculated for k=9\n",
      "score calculated for k=10\n",
      "score calculated for k=11\n",
      "score calculated for k=12\n",
      "score calculated for k=13\n",
      "score calculated for k=14\n",
      "score calculated for k=15\n",
      "score calculated for k=16\n",
      "score calculated for k=17\n",
      "score calculated for k=18\n",
      "score calculated for k=19\n",
      "score calculated for k=20\n"
     ]
    }
   ],
   "source": [
    "# Over a number of different cluster counts...\n",
    "# run k-means clustering on the data and...\n",
    "# compute the average within-cluster distances.\n",
    "\n",
    "k_list=list(range(1,20+1))\n",
    "scores = []\n",
    "for k in k_list:\n",
    "    scores.append(k_means_score(azdias_pca, k))\n",
    "    print('score calculated for k={}'.format(k))"
   ]
  },
  {
   "cell_type": "code",
   "execution_count": 81,
   "metadata": {},
   "outputs": [
    {
     "data": {
      "image/png": "[encoded data removed]",
      "text/plain": [
       "<matplotlib.figure.Figure at 0x7fa92ca59780>"
      ]
     },
     "metadata": {
      "needs_background": "light"
     },
     "output_type": "display_data"
    }
   ],
   "source": [
    "# Investigate the change in within-cluster distance across number of clusters.\n",
    "# HINT: Use matplotlib's plot function to visualize this relationship.\n",
    "plt.plot(k_list, scores, linestyle='-', marker='o');\n",
    "plt.xlabel('K');\n",
    "plt.xticks(np.arange(0, 21, step=2)) # code line based on matplotlib.pyplot.xticks documentation [R4]\n",
    "plt.ylabel('Score');\n",
    "plt.yticks(np.arange(0.8e8, 1.5e8, step=0.1e8)) # code line based on matplotlib.pyplot.xticks documentation [R4]\n",
    "plt.title('Score vs. Number of Clusters');"
   ]
  },
  {
   "cell_type": "code",
   "execution_count": 82,
   "metadata": {},
   "outputs": [],
   "source": [
    "# Re-fit the k-means model with the selected number of clusters and obtain\n",
    "# cluster predictions for the general population demographics data.\n",
    "\n",
    "# initialize KMEANS with 19 clusters\n",
    "k_means = KMeans(n_clusters=19)\n",
    "# fitting data\n",
    "model_19 = k_means.fit(azdias_pca)\n",
    "# use model model_19 for prediction\n",
    "azdias_cluster = model_19.predict(azdias_pca)"
   ]
  },
  {
   "cell_type": "markdown",
   "metadata": {},
   "source": [
    "### Discussion 3.1: Apply Clustering to General Population\n",
    "\n",
    "I calculated the score for k values from 1 up to 20 and plotted the results. <br>\n",
    "Looking at the plot, it looks like that the elbow is located at k=19. <br> \n",
    "Therefore, I will use **k=19** for further investigations."
   ]
  },
  {
   "cell_type": "markdown",
   "metadata": {},
   "source": [
    "### Step 3.2: Apply All Steps to the Customer Data\n",
    "\n",
    "Now that you have clusters and cluster centers for the general population, it's time to see how the customer data maps on to those clusters. Take care to not confuse this for re-fitting all of the models to the customer data. Instead, you're going to use the fits from the general population to clean, transform, and cluster the customer data. In the last step of the project, you will interpret how the general population fits apply to the customer data.\n",
    "\n",
    "- Don't forget when loading in the customers data, that it is semicolon (`;`) delimited.\n",
    "- Apply the same feature wrangling, selection, and engineering steps to the customer demographics using the `clean_data()` function you created earlier. (You can assume that the customer demographics data has similar meaning behind missing data patterns as the general demographics data.)\n",
    "- Use the sklearn objects from the general demographics data, and apply their transformations to the customers data. That is, you should not be using a `.fit()` or `.fit_transform()` method to re-fit the old objects, nor should you be creating new sklearn objects! Carry the data through the feature scaling, PCA, and clustering steps, obtaining cluster assignments for all of the data in the customer demographics data."
   ]
  },
  {
   "cell_type": "code",
   "execution_count": 83,
   "metadata": {},
   "outputs": [
    {
     "data": {
      "text/html": [
       "<div>\n",
       "<style scoped>\n",
       "    .dataframe tbody tr th:only-of-type {\n",
       "        vertical-align: middle;\n",
       "    }\n",
       "\n",
       "    .dataframe tbody tr th {\n",
       "        vertical-align: top;\n",
       "    }\n",
       "\n",
       "    .dataframe thead th {\n",
       "        text-align: right;\n",
       "    }\n",
       "</style>\n",
       "<table border=\"1\" class=\"dataframe\">\n",
       "  <thead>\n",
       "    <tr style=\"text-align: right;\">\n",
       "      <th></th>\n",
       "      <th>AGER_TYP</th>\n",
       "      <th>ALTERSKATEGORIE_GROB</th>\n",
       "      <th>ANREDE_KZ</th>\n",
       "      <th>CJT_GESAMTTYP</th>\n",
       "      <th>FINANZ_MINIMALIST</th>\n",
       "      <th>FINANZ_SPARER</th>\n",
       "      <th>FINANZ_VORSORGER</th>\n",
       "      <th>FINANZ_ANLEGER</th>\n",
       "      <th>FINANZ_UNAUFFAELLIGER</th>\n",
       "      <th>FINANZ_HAUSBAUER</th>\n",
       "      <th>...</th>\n",
       "      <th>PLZ8_ANTG1</th>\n",
       "      <th>PLZ8_ANTG2</th>\n",
       "      <th>PLZ8_ANTG3</th>\n",
       "      <th>PLZ8_ANTG4</th>\n",
       "      <th>PLZ8_BAUMAX</th>\n",
       "      <th>PLZ8_HHZ</th>\n",
       "      <th>PLZ8_GBZ</th>\n",
       "      <th>ARBEIT</th>\n",
       "      <th>ORTSGR_KLS9</th>\n",
       "      <th>RELAT_AB</th>\n",
       "    </tr>\n",
       "  </thead>\n",
       "  <tbody>\n",
       "    <tr>\n",
       "      <th>0</th>\n",
       "      <td>2</td>\n",
       "      <td>4</td>\n",
       "      <td>1</td>\n",
       "      <td>5.0</td>\n",
       "      <td>5</td>\n",
       "      <td>1</td>\n",
       "      <td>5</td>\n",
       "      <td>1</td>\n",
       "      <td>2</td>\n",
       "      <td>2</td>\n",
       "      <td>...</td>\n",
       "      <td>3.0</td>\n",
       "      <td>3.0</td>\n",
       "      <td>1.0</td>\n",
       "      <td>0.0</td>\n",
       "      <td>1.0</td>\n",
       "      <td>5.0</td>\n",
       "      <td>5.0</td>\n",
       "      <td>1.0</td>\n",
       "      <td>2.0</td>\n",
       "      <td>1.0</td>\n",
       "    </tr>\n",
       "    <tr>\n",
       "      <th>1</th>\n",
       "      <td>-1</td>\n",
       "      <td>4</td>\n",
       "      <td>1</td>\n",
       "      <td>NaN</td>\n",
       "      <td>5</td>\n",
       "      <td>1</td>\n",
       "      <td>5</td>\n",
       "      <td>1</td>\n",
       "      <td>3</td>\n",
       "      <td>2</td>\n",
       "      <td>...</td>\n",
       "      <td>NaN</td>\n",
       "      <td>NaN</td>\n",
       "      <td>NaN</td>\n",
       "      <td>NaN</td>\n",
       "      <td>NaN</td>\n",
       "      <td>NaN</td>\n",
       "      <td>NaN</td>\n",
       "      <td>NaN</td>\n",
       "      <td>NaN</td>\n",
       "      <td>NaN</td>\n",
       "    </tr>\n",
       "    <tr>\n",
       "      <th>2</th>\n",
       "      <td>-1</td>\n",
       "      <td>4</td>\n",
       "      <td>2</td>\n",
       "      <td>2.0</td>\n",
       "      <td>5</td>\n",
       "      <td>1</td>\n",
       "      <td>5</td>\n",
       "      <td>1</td>\n",
       "      <td>4</td>\n",
       "      <td>4</td>\n",
       "      <td>...</td>\n",
       "      <td>2.0</td>\n",
       "      <td>3.0</td>\n",
       "      <td>3.0</td>\n",
       "      <td>1.0</td>\n",
       "      <td>3.0</td>\n",
       "      <td>3.0</td>\n",
       "      <td>2.0</td>\n",
       "      <td>3.0</td>\n",
       "      <td>5.0</td>\n",
       "      <td>3.0</td>\n",
       "    </tr>\n",
       "  </tbody>\n",
       "</table>\n",
       "<p>3 rows × 85 columns</p>\n",
       "</div>"
      ],
      "text/plain": [
       "   AGER_TYP  ALTERSKATEGORIE_GROB  ANREDE_KZ  CJT_GESAMTTYP  \\\n",
       "0         2                     4          1            5.0   \n",
       "1        -1                     4          1            NaN   \n",
       "2        -1                     4          2            2.0   \n",
       "\n",
       "   FINANZ_MINIMALIST  FINANZ_SPARER  FINANZ_VORSORGER  FINANZ_ANLEGER  \\\n",
       "0                  5              1                 5               1   \n",
       "1                  5              1                 5               1   \n",
       "2                  5              1                 5               1   \n",
       "\n",
       "   FINANZ_UNAUFFAELLIGER  FINANZ_HAUSBAUER    ...     PLZ8_ANTG1  PLZ8_ANTG2  \\\n",
       "0                      2                 2    ...            3.0         3.0   \n",
       "1                      3                 2    ...            NaN         NaN   \n",
       "2                      4                 4    ...            2.0         3.0   \n",
       "\n",
       "   PLZ8_ANTG3  PLZ8_ANTG4  PLZ8_BAUMAX  PLZ8_HHZ  PLZ8_GBZ  ARBEIT  \\\n",
       "0         1.0         0.0          1.0       5.0       5.0     1.0   \n",
       "1         NaN         NaN          NaN       NaN       NaN     NaN   \n",
       "2         3.0         1.0          3.0       3.0       2.0     3.0   \n",
       "\n",
       "   ORTSGR_KLS9  RELAT_AB  \n",
       "0          2.0       1.0  \n",
       "1          NaN       NaN  \n",
       "2          5.0       3.0  \n",
       "\n",
       "[3 rows x 85 columns]"
      ]
     },
     "execution_count": 83,
     "metadata": {},
     "output_type": "execute_result"
    }
   ],
   "source": [
    "# Load in the customer demographics data.\n",
    "customers = pd.read_csv('Udacity_CUSTOMERS_Subset.csv', sep=';')\n",
    "customers.head(3)"
   ]
  },
  {
   "cell_type": "code",
   "execution_count": 84,
   "metadata": {},
   "outputs": [],
   "source": [
    "# Apply preprocessing, feature transformation, and clustering from the general\n",
    "# demographics onto the customer data, obtaining cluster predictions for the\n",
    "# customer demographics data."
   ]
  },
  {
   "cell_type": "code",
   "execution_count": 85,
   "metadata": {},
   "outputs": [
    {
     "name": "stdout",
     "output_type": "stream",
     "text": [
      "Cleaning done for data frames \"customers\" and \"feat_info\"\n"
     ]
    }
   ],
   "source": [
    "## cleaning customer data\n",
    "# create copy of original dataset\n",
    "customers_clean = customers.copy()\n",
    "# clean data using the already defined function clean_data with NO missing values (fourth argument = 10) and use the columns_outlierlist from the azdias dataset\n",
    "customers_clean, feat_info_clean, columns_outlier_customers = clean_data(customers_clean, feat_info, 0.20, 10, columns_outlier_azdias)\n",
    "# print message \"cleaning done\"\n",
    "print('Cleaning done for data frames \"customers\" and \"feat_info\"')"
   ]
  },
  {
   "cell_type": "code",
   "execution_count": 86,
   "metadata": {},
   "outputs": [
    {
     "data": {
      "text/plain": [
       "(191652, 192)"
      ]
     },
     "execution_count": 86,
     "metadata": {},
     "output_type": "execute_result"
    }
   ],
   "source": [
    "customers_clean.shape"
   ]
  },
  {
   "cell_type": "code",
   "execution_count": 87,
   "metadata": {},
   "outputs": [],
   "source": [
    "# use Imputer to fill NaN\n",
    "fill_nan = Imputer(strategy='most_frequent')\n",
    "customers_clean = pd.DataFrame(fill_nan.fit_transform(customers_clean), columns=list(customers_clean))"
   ]
  },
  {
   "cell_type": "code",
   "execution_count": 88,
   "metadata": {},
   "outputs": [
    {
     "name": "stdout",
     "output_type": "stream",
     "text": [
      "Number of missing values in data frame azdias: 0\n"
     ]
    }
   ],
   "source": [
    "print('Number of missing values in data frame azdias: {}'.format(customers_clean.isnull().sum().sum()))"
   ]
  },
  {
   "cell_type": "code",
   "execution_count": 89,
   "metadata": {},
   "outputs": [
    {
     "data": {
      "text/plain": [
       "Index([], dtype='object')"
      ]
     },
     "execution_count": 89,
     "metadata": {},
     "output_type": "execute_result"
    }
   ],
   "source": [
    "# check if the new data frame customers_clean has more columns than the old data frame azdias_clean\n",
    "# if so, which one?\n",
    "customers_clean.columns.difference(azdias_clean.columns)"
   ]
  },
  {
   "cell_type": "code",
   "execution_count": 90,
   "metadata": {},
   "outputs": [
    {
     "data": {
      "text/plain": [
       "Index(['GEBAEUDETYP_5.0'], dtype='object')"
      ]
     },
     "execution_count": 90,
     "metadata": {},
     "output_type": "execute_result"
    }
   ],
   "source": [
    "# check if the old data frame azdias_clean has more columns than the new data frame customers_clean\n",
    "# if so, which one?\n",
    "azdias_clean.columns.difference(customers_clean.columns)"
   ]
  },
  {
   "cell_type": "code",
   "execution_count": 91,
   "metadata": {},
   "outputs": [],
   "source": [
    "# get position of column \"GEBAEUDETYP_5.0\" at the old data frame\n",
    "col_position = azdias_clean_scaled.columns.get_loc(\"GEBAEUDETYP_5.0\")\n",
    "# add column \"GEBAEUDETYP_5.0\" to the new data frame customers_clean and set all values to 0\n",
    "customers_clean.insert(col_position, 'GEBAEUDETYP_5.0', 0)"
   ]
  },
  {
   "cell_type": "code",
   "execution_count": 92,
   "metadata": {},
   "outputs": [
    {
     "data": {
      "text/plain": [
       "array([ True,  True,  True,  True,  True,  True,  True,  True,  True,\n",
       "        True,  True,  True,  True,  True,  True,  True,  True,  True,\n",
       "        True,  True,  True,  True,  True,  True,  True,  True,  True,\n",
       "        True,  True,  True,  True,  True,  True,  True,  True,  True,\n",
       "        True,  True,  True,  True,  True,  True,  True,  True,  True,\n",
       "        True,  True,  True,  True,  True,  True,  True,  True,  True,\n",
       "        True,  True,  True,  True,  True,  True,  True,  True,  True,\n",
       "        True,  True,  True,  True,  True,  True,  True,  True,  True,\n",
       "        True,  True,  True,  True,  True,  True,  True,  True,  True,\n",
       "        True,  True,  True,  True,  True,  True,  True,  True,  True,\n",
       "        True,  True,  True,  True,  True,  True,  True,  True,  True,\n",
       "        True,  True,  True,  True,  True,  True,  True,  True,  True,\n",
       "        True,  True,  True,  True,  True,  True,  True,  True,  True,\n",
       "        True,  True,  True,  True,  True,  True,  True,  True,  True,\n",
       "        True,  True,  True,  True,  True,  True,  True,  True,  True,\n",
       "        True,  True,  True,  True,  True,  True,  True,  True,  True,\n",
       "        True,  True,  True,  True,  True,  True,  True,  True,  True,\n",
       "        True,  True,  True,  True,  True,  True,  True,  True,  True,\n",
       "        True,  True,  True,  True,  True,  True,  True,  True,  True,\n",
       "        True,  True,  True,  True,  True,  True,  True,  True,  True,\n",
       "        True,  True,  True,  True,  True,  True,  True,  True,  True,\n",
       "        True,  True,  True,  True], dtype=bool)"
      ]
     },
     "execution_count": 92,
     "metadata": {},
     "output_type": "execute_result"
    }
   ],
   "source": [
    "# check if all columns are the same at the same position\n",
    "customers_clean.columns == azdias_clean_scaled.columns"
   ]
  },
  {
   "cell_type": "code",
   "execution_count": 100,
   "metadata": {},
   "outputs": [
    {
     "data": {
      "text/html": [
       "<div>\n",
       "<style scoped>\n",
       "    .dataframe tbody tr th:only-of-type {\n",
       "        vertical-align: middle;\n",
       "    }\n",
       "\n",
       "    .dataframe tbody tr th {\n",
       "        vertical-align: top;\n",
       "    }\n",
       "\n",
       "    .dataframe thead th {\n",
       "        text-align: right;\n",
       "    }\n",
       "</style>\n",
       "<table border=\"1\" class=\"dataframe\">\n",
       "  <thead>\n",
       "    <tr style=\"text-align: right;\">\n",
       "      <th></th>\n",
       "      <th>ALTERSKATEGORIE_GROB</th>\n",
       "      <th>ANREDE_KZ</th>\n",
       "      <th>FINANZ_MINIMALIST</th>\n",
       "      <th>FINANZ_SPARER</th>\n",
       "      <th>FINANZ_VORSORGER</th>\n",
       "      <th>FINANZ_ANLEGER</th>\n",
       "      <th>FINANZ_UNAUFFAELLIGER</th>\n",
       "      <th>FINANZ_HAUSBAUER</th>\n",
       "      <th>GREEN_AVANTGARDE</th>\n",
       "      <th>HEALTH_TYP</th>\n",
       "      <th>...</th>\n",
       "      <th>CAMEO_DEU_2015_8D</th>\n",
       "      <th>CAMEO_DEU_2015_9A</th>\n",
       "      <th>CAMEO_DEU_2015_9B</th>\n",
       "      <th>CAMEO_DEU_2015_9C</th>\n",
       "      <th>CAMEO_DEU_2015_9D</th>\n",
       "      <th>CAMEO_DEU_2015_9E</th>\n",
       "      <th>PRAEGENDE_JUGENDJAHRE_MA</th>\n",
       "      <th>PRAEGENDE_JUGENDJAHRE_DEC</th>\n",
       "      <th>CAMEO_INTL_2015_WEALTH</th>\n",
       "      <th>CAMEO_INTL_2015_LIFE_STAGE</th>\n",
       "    </tr>\n",
       "  </thead>\n",
       "  <tbody>\n",
       "    <tr>\n",
       "      <th>0</th>\n",
       "      <td>1.23164</td>\n",
       "      <td>-1.045218</td>\n",
       "      <td>1.457527</td>\n",
       "      <td>-1.243244</td>\n",
       "      <td>1.209329</td>\n",
       "      <td>-1.329319</td>\n",
       "      <td>-0.58798</td>\n",
       "      <td>-0.794475</td>\n",
       "      <td>2.021423</td>\n",
       "      <td>-1.70899</td>\n",
       "      <td>...</td>\n",
       "      <td>-0.141838</td>\n",
       "      <td>-0.1536</td>\n",
       "      <td>-0.179023</td>\n",
       "      <td>-0.16984</td>\n",
       "      <td>-0.182061</td>\n",
       "      <td>-0.084907</td>\n",
       "      <td>2.021423</td>\n",
       "      <td>-1.657705</td>\n",
       "      <td>-1.653917</td>\n",
       "      <td>0.221098</td>\n",
       "    </tr>\n",
       "  </tbody>\n",
       "</table>\n",
       "<p>1 rows × 193 columns</p>\n",
       "</div>"
      ],
      "text/plain": [
       "   ALTERSKATEGORIE_GROB  ANREDE_KZ  FINANZ_MINIMALIST  FINANZ_SPARER  \\\n",
       "0               1.23164  -1.045218           1.457527      -1.243244   \n",
       "\n",
       "   FINANZ_VORSORGER  FINANZ_ANLEGER  FINANZ_UNAUFFAELLIGER  FINANZ_HAUSBAUER  \\\n",
       "0          1.209329       -1.329319               -0.58798         -0.794475   \n",
       "\n",
       "   GREEN_AVANTGARDE  HEALTH_TYP             ...              \\\n",
       "0          2.021423    -1.70899             ...               \n",
       "\n",
       "   CAMEO_DEU_2015_8D  CAMEO_DEU_2015_9A  CAMEO_DEU_2015_9B  CAMEO_DEU_2015_9C  \\\n",
       "0          -0.141838            -0.1536          -0.179023           -0.16984   \n",
       "\n",
       "   CAMEO_DEU_2015_9D  CAMEO_DEU_2015_9E  PRAEGENDE_JUGENDJAHRE_MA  \\\n",
       "0          -0.182061          -0.084907                  2.021423   \n",
       "\n",
       "   PRAEGENDE_JUGENDJAHRE_DEC  CAMEO_INTL_2015_WEALTH  \\\n",
       "0                  -1.657705               -1.653917   \n",
       "\n",
       "   CAMEO_INTL_2015_LIFE_STAGE  \n",
       "0                    0.221098  \n",
       "\n",
       "[1 rows x 193 columns]"
      ]
     },
     "execution_count": 100,
     "metadata": {},
     "output_type": "execute_result"
    }
   ],
   "source": [
    "# Use scaler\n",
    "customers_clean_scaled = scaler.transform(customers_clean)\n",
    "# create data frame\n",
    "customers_clean_scaled = pd.DataFrame(customers_clean_scaled, columns=list(customers_clean))\n",
    "customers_clean_scaled.head(1)"
   ]
  },
  {
   "cell_type": "code",
   "execution_count": 101,
   "metadata": {},
   "outputs": [
    {
     "data": {
      "text/html": [
       "<div>\n",
       "<style scoped>\n",
       "    .dataframe tbody tr th:only-of-type {\n",
       "        vertical-align: middle;\n",
       "    }\n",
       "\n",
       "    .dataframe tbody tr th {\n",
       "        vertical-align: top;\n",
       "    }\n",
       "\n",
       "    .dataframe thead th {\n",
       "        text-align: right;\n",
       "    }\n",
       "</style>\n",
       "<table border=\"1\" class=\"dataframe\">\n",
       "  <thead>\n",
       "    <tr style=\"text-align: right;\">\n",
       "      <th></th>\n",
       "      <th>0</th>\n",
       "      <th>1</th>\n",
       "      <th>2</th>\n",
       "      <th>3</th>\n",
       "      <th>4</th>\n",
       "      <th>5</th>\n",
       "      <th>6</th>\n",
       "      <th>7</th>\n",
       "      <th>8</th>\n",
       "      <th>9</th>\n",
       "      <th>...</th>\n",
       "      <th>85</th>\n",
       "      <th>86</th>\n",
       "      <th>87</th>\n",
       "      <th>88</th>\n",
       "      <th>89</th>\n",
       "      <th>90</th>\n",
       "      <th>91</th>\n",
       "      <th>92</th>\n",
       "      <th>93</th>\n",
       "      <th>94</th>\n",
       "    </tr>\n",
       "  </thead>\n",
       "  <tbody>\n",
       "    <tr>\n",
       "      <th>0</th>\n",
       "      <td>-7.452319</td>\n",
       "      <td>2.511596</td>\n",
       "      <td>2.469877</td>\n",
       "      <td>3.657313</td>\n",
       "      <td>1.126841</td>\n",
       "      <td>-2.061352</td>\n",
       "      <td>1.013955</td>\n",
       "      <td>-1.312777</td>\n",
       "      <td>0.366598</td>\n",
       "      <td>2.941666</td>\n",
       "      <td>...</td>\n",
       "      <td>1.503565</td>\n",
       "      <td>-0.843543</td>\n",
       "      <td>-0.300922</td>\n",
       "      <td>-0.518046</td>\n",
       "      <td>2.018914</td>\n",
       "      <td>-2.101352</td>\n",
       "      <td>-1.186814</td>\n",
       "      <td>-0.099643</td>\n",
       "      <td>0.47502</td>\n",
       "      <td>-0.475011</td>\n",
       "    </tr>\n",
       "  </tbody>\n",
       "</table>\n",
       "<p>1 rows × 95 columns</p>\n",
       "</div>"
      ],
      "text/plain": [
       "         0         1         2         3         4         5         6   \\\n",
       "0 -7.452319  2.511596  2.469877  3.657313  1.126841 -2.061352  1.013955   \n",
       "\n",
       "         7         8         9     ...           85        86        87  \\\n",
       "0 -1.312777  0.366598  2.941666    ...     1.503565 -0.843543 -0.300922   \n",
       "\n",
       "         88        89        90        91        92       93        94  \n",
       "0 -0.518046  2.018914 -2.101352 -1.186814 -0.099643  0.47502 -0.475011  \n",
       "\n",
       "[1 rows x 95 columns]"
      ]
     },
     "execution_count": 101,
     "metadata": {},
     "output_type": "execute_result"
    }
   ],
   "source": [
    "# perform PCA transformation\n",
    "customers_pca = pca_95.transform(customers_clean_scaled)\n",
    "customers_pca = pd.DataFrame(customers_pca)\n",
    "customers_pca.head(1)"
   ]
  },
  {
   "cell_type": "code",
   "execution_count": 102,
   "metadata": {},
   "outputs": [
    {
     "data": {
      "text/plain": [
       "array([ 7, 17, 16, ..., 16,  5, 17], dtype=int32)"
      ]
     },
     "execution_count": 102,
     "metadata": {},
     "output_type": "execute_result"
    }
   ],
   "source": [
    "# use model model_19 for prediction\n",
    "customers_cluster = model_19.predict(customers_pca)\n",
    "customers_cluster"
   ]
  },
  {
   "cell_type": "code",
   "execution_count": null,
   "metadata": {},
   "outputs": [],
   "source": []
  },
  {
   "cell_type": "markdown",
   "metadata": {},
   "source": [
    "### Step 3.3: Compare Customer Data to Demographics Data\n",
    "\n",
    "At this point, you have clustered data based on demographics of the general population of Germany, and seen how the customer data for a mail-order sales company maps onto those demographic clusters. In this final substep, you will compare the two cluster distributions to see where the strongest customer base for the company is.\n",
    "\n",
    "Consider the proportion of persons in each cluster for the general population, and the proportions for the customers. If we think the company's customer base to be universal, then the cluster assignment proportions should be fairly similar between the two. If there are only particular segments of the population that are interested in the company's products, then we should see a mismatch from one to the other. If there is a higher proportion of persons in a cluster for the customer data compared to the general population (e.g. 5% of persons are assigned to a cluster for the general population, but 15% of the customer data is closest to that cluster's centroid) then that suggests the people in that cluster to be a target audience for the company. On the other hand, the proportion of the data in a cluster being larger in the general population than the customer data (e.g. only 2% of customers closest to a population centroid that captures 6% of the data) suggests that group of persons to be outside of the target demographics.\n",
    "\n",
    "Take a look at the following points in this step:\n",
    "\n",
    "- Compute the proportion of data points in each cluster for the general population and the customer data. Visualizations will be useful here: both for the individual dataset proportions, but also to visualize the ratios in cluster representation between groups. Seaborn's [`countplot()`](https://seaborn.pydata.org/generated/seaborn.countplot.html) or [`barplot()`](https://seaborn.pydata.org/generated/seaborn.barplot.html) function could be handy.\n",
    "  - Recall the analysis you performed in step 1.1.3 of the project, where you separated out certain data points from the dataset if they had more than a specified threshold of missing values. If you found that this group was qualitatively different from the main bulk of the data, you should treat this as an additional data cluster in this analysis. Make sure that you account for the number of data points in this subset, for both the general population and customer datasets, when making your computations!\n",
    "- Which cluster or clusters are overrepresented in the customer dataset compared to the general population? Select at least one such cluster and infer what kind of people might be represented by that cluster. Use the principal component interpretations from step 2.3 or look at additional components to help you make this inference. Alternatively, you can use the `.inverse_transform()` method of the PCA and StandardScaler objects to transform centroids back to the original data space and interpret the retrieved values directly.\n",
    "- Perform a similar investigation for the underrepresented clusters. Which cluster or clusters are underrepresented in the customer dataset compared to the general population, and what kinds of people are typified by these clusters?"
   ]
  },
  {
   "cell_type": "code",
   "execution_count": 103,
   "metadata": {},
   "outputs": [
    {
     "data": {
      "image/png": "[encoded data removed]",
      "text/plain": [
       "<matplotlib.figure.Figure at 0x7fa919601898>"
      ]
     },
     "metadata": {
      "needs_background": "light"
     },
     "output_type": "display_data"
    }
   ],
   "source": [
    "# Compare the proportion of data in each cluster for the customer data to the\n",
    "# proportion of data in each cluster for the general population.\n",
    "\n",
    "# create two subplots to directly compare the customers cluster with the general population cluster\n",
    "figure, axs = plt.subplots(nrows=1, ncols=2, figsize=(12,6));\n",
    "base_color = sns.color_palette()[0]\n",
    "sns.countplot(customers_cluster, ax=axs[0], color = base_color);\n",
    "axs[0].set_title('Customer Cluster');\n",
    "axs[0].set_xlabel('Principle Component');\n",
    "axs[0].set(yticks=np.arange(0, 1.2e5, step=0.2e5));\n",
    "sns.countplot(azdias_cluster, ax=axs[1], color = base_color);\n",
    "axs[1].set_title('General Population Cluster');\n",
    "axs[1].set_xlabel('Principle Component');\n",
    "axs[1].set(yticks=np.arange(0, 1.2e5, step=0.2e5));"
   ]
  },
  {
   "cell_type": "code",
   "execution_count": 104,
   "metadata": {},
   "outputs": [
    {
     "data": {
      "text/html": [
       "<div>\n",
       "<style scoped>\n",
       "    .dataframe tbody tr th:only-of-type {\n",
       "        vertical-align: middle;\n",
       "    }\n",
       "\n",
       "    .dataframe tbody tr th {\n",
       "        vertical-align: top;\n",
       "    }\n",
       "\n",
       "    .dataframe thead th {\n",
       "        text-align: right;\n",
       "    }\n",
       "</style>\n",
       "<table border=\"1\" class=\"dataframe\">\n",
       "  <thead>\n",
       "    <tr style=\"text-align: right;\">\n",
       "      <th></th>\n",
       "      <th>azdias</th>\n",
       "      <th>customers</th>\n",
       "      <th>azdias - customers</th>\n",
       "    </tr>\n",
       "  </thead>\n",
       "  <tbody>\n",
       "    <tr>\n",
       "      <th>0</th>\n",
       "      <td>57170</td>\n",
       "      <td>815</td>\n",
       "      <td>56355</td>\n",
       "    </tr>\n",
       "    <tr>\n",
       "      <th>1</th>\n",
       "      <td>91380</td>\n",
       "      <td>12399</td>\n",
       "      <td>78981</td>\n",
       "    </tr>\n",
       "    <tr>\n",
       "      <th>2</th>\n",
       "      <td>74499</td>\n",
       "      <td>45318</td>\n",
       "      <td>29181</td>\n",
       "    </tr>\n",
       "    <tr>\n",
       "      <th>3</th>\n",
       "      <td>18917</td>\n",
       "      <td>5017</td>\n",
       "      <td>13900</td>\n",
       "    </tr>\n",
       "    <tr>\n",
       "      <th>4</th>\n",
       "      <td>61970</td>\n",
       "      <td>1438</td>\n",
       "      <td>60532</td>\n",
       "    </tr>\n",
       "    <tr>\n",
       "      <th>5</th>\n",
       "      <td>58094</td>\n",
       "      <td>8935</td>\n",
       "      <td>49159</td>\n",
       "    </tr>\n",
       "    <tr>\n",
       "      <th>6</th>\n",
       "      <td>76031</td>\n",
       "      <td>10054</td>\n",
       "      <td>65977</td>\n",
       "    </tr>\n",
       "    <tr>\n",
       "      <th>7</th>\n",
       "      <td>31643</td>\n",
       "      <td>15457</td>\n",
       "      <td>16186</td>\n",
       "    </tr>\n",
       "    <tr>\n",
       "      <th>8</th>\n",
       "      <td>62119</td>\n",
       "      <td>861</td>\n",
       "      <td>61258</td>\n",
       "    </tr>\n",
       "    <tr>\n",
       "      <th>9</th>\n",
       "      <td>32373</td>\n",
       "      <td>628</td>\n",
       "      <td>31745</td>\n",
       "    </tr>\n",
       "    <tr>\n",
       "      <th>10</th>\n",
       "      <td>35473</td>\n",
       "      <td>5614</td>\n",
       "      <td>29859</td>\n",
       "    </tr>\n",
       "    <tr>\n",
       "      <th>11</th>\n",
       "      <td>50901</td>\n",
       "      <td>2176</td>\n",
       "      <td>48725</td>\n",
       "    </tr>\n",
       "    <tr>\n",
       "      <th>12</th>\n",
       "      <td>9060</td>\n",
       "      <td>1190</td>\n",
       "      <td>7870</td>\n",
       "    </tr>\n",
       "    <tr>\n",
       "      <th>13</th>\n",
       "      <td>6073</td>\n",
       "      <td>1235</td>\n",
       "      <td>4838</td>\n",
       "    </tr>\n",
       "    <tr>\n",
       "      <th>14</th>\n",
       "      <td>31331</td>\n",
       "      <td>13255</td>\n",
       "      <td>18076</td>\n",
       "    </tr>\n",
       "    <tr>\n",
       "      <th>15</th>\n",
       "      <td>12198</td>\n",
       "      <td>1959</td>\n",
       "      <td>10239</td>\n",
       "    </tr>\n",
       "    <tr>\n",
       "      <th>16</th>\n",
       "      <td>71675</td>\n",
       "      <td>37942</td>\n",
       "      <td>33733</td>\n",
       "    </tr>\n",
       "    <tr>\n",
       "      <th>17</th>\n",
       "      <td>93902</td>\n",
       "      <td>25373</td>\n",
       "      <td>68529</td>\n",
       "    </tr>\n",
       "    <tr>\n",
       "      <th>18</th>\n",
       "      <td>16412</td>\n",
       "      <td>1986</td>\n",
       "      <td>14426</td>\n",
       "    </tr>\n",
       "  </tbody>\n",
       "</table>\n",
       "</div>"
      ],
      "text/plain": [
       "    azdias  customers  azdias - customers\n",
       "0    57170        815               56355\n",
       "1    91380      12399               78981\n",
       "2    74499      45318               29181\n",
       "3    18917       5017               13900\n",
       "4    61970       1438               60532\n",
       "5    58094       8935               49159\n",
       "6    76031      10054               65977\n",
       "7    31643      15457               16186\n",
       "8    62119        861               61258\n",
       "9    32373        628               31745\n",
       "10   35473       5614               29859\n",
       "11   50901       2176               48725\n",
       "12    9060       1190                7870\n",
       "13    6073       1235                4838\n",
       "14   31331      13255               18076\n",
       "15   12198       1959               10239\n",
       "16   71675      37942               33733\n",
       "17   93902      25373               68529\n",
       "18   16412       1986               14426"
      ]
     },
     "execution_count": 104,
     "metadata": {},
     "output_type": "execute_result"
    }
   ],
   "source": [
    "# combine both count plot for a easier viewing, after reviewing Pandas documentatin [R5]\n",
    "df_tmp1 = pd.DataFrame(pd.DataFrame(azdias_cluster)[0].value_counts(sort=False))\n",
    "df_tmp2 = pd.DataFrame(pd.DataFrame(customers_cluster)[0].value_counts(sort=False))\n",
    "df_tmp3 = df_tmp1 - df_tmp2.fillna(0)\n",
    "\n",
    "df_result = pd.concat([df_tmp1, df_tmp2], axis=1)\n",
    "df_result = df_result.fillna(0)\n",
    "df_result.columns = ['azdias', 'customers']\n",
    "df_result['azdias - customers'] = df_result['azdias'] - df_result['customers']\n",
    "df_result"
   ]
  },
  {
   "cell_type": "code",
   "execution_count": 105,
   "metadata": {},
   "outputs": [],
   "source": [
    "# What kinds of people are part of a cluster that is overrepresented in the\n",
    "# customer data compared to the general population?\n"
   ]
  },
  {
   "cell_type": "markdown",
   "metadata": {},
   "source": [
    "From the above plot and table one sees that there is no overrepresentation of the the customer data compared to the general population."
   ]
  },
  {
   "cell_type": "code",
   "execution_count": 110,
   "metadata": {},
   "outputs": [
    {
     "data": {
      "text/plain": [
       "MIN_GEBAEUDEJAHR             1992.546327\n",
       "PRAEGENDE_JUGENDJAHRE_DEC    1965.989553\n",
       "KBA13_ANZAHL_PKW              574.401774\n",
       "ANZ_HAUSHALTE_AKTIV            15.144325\n",
       "WOHNDAUER_2008                  8.105388\n",
       "ORTSGR_KLS9                     6.787326\n",
       "SEMIO_VERT                      5.786458\n",
       "HH_EINKOMMEN_SCORE              5.402109\n",
       "SEMIO_FAM                       5.290593\n",
       "SEMIO_SOZ                       5.188557\n",
       "EWDICHTE                        5.145996\n",
       "SEMIO_KULT                      5.084403\n",
       "W_KEIT_KIND_HH                  4.997828\n",
       "REGIOTYP                        4.877460\n",
       "SEMIO_LUST                      4.868129\n",
       "RETOURTYP_BK_S                  4.602723\n",
       "CAMEO_INTL_2015_WEALTH          4.347217\n",
       "SEMIO_MAT                       4.265229\n",
       "FINANZ_VORSORGER                4.257372\n",
       "SEMIO_ERL                       4.132321\n",
       "SEMIO_REL                       4.009411\n",
       "SEMIO_KRIT                      3.762313\n",
       "RELAT_AB                        3.743724\n",
       "PLZ8_HHZ                        3.700102\n",
       "ARBEIT                          3.651972\n",
       "SEMIO_PFLICHT                   3.555427\n",
       "FINANZ_HAUSBAUER                3.517081\n",
       "INNENSTADT                      3.508216\n",
       "GEBAEUDETYP_RASTER              3.423269\n",
       "WOHNLAGE                        3.421643\n",
       "                                ...     \n",
       "CAMEO_DEU_2015_2D               0.004356\n",
       "ZABEOTYP_5                      0.004165\n",
       "CAMEO_DEU_2015_5E               0.004130\n",
       "CAMEO_DEU_2015_3B               0.003571\n",
       "CAMEO_DEU_2015_2C               0.003440\n",
       "CAMEO_DEU_2015_2B               0.003314\n",
       "CAMEO_DEU_2015_4D               0.003240\n",
       "CAMEO_DEU_2015_8D               0.002800\n",
       "CAMEO_DEU_2015_5A               0.001889\n",
       "LP_FAMILIE_FEIN_3.0             0.001683\n",
       "LP_FAMILIE_FEIN_5.0             0.001431\n",
       "LP_STATUS_FEIN_7.0              0.001328\n",
       "CAMEO_DEU_2015_6D               0.001233\n",
       "CAMEO_DEUG_2015_1               0.001134\n",
       "CAMEO_DEU_2015_1C               0.001074\n",
       "CAMEO_DEU_2015_1D               0.000986\n",
       "CAMEO_DEU_2015_7C               0.000426\n",
       "GEBAEUDETYP_6.0                 0.000189\n",
       "LP_STATUS_FEIN_5.0              0.000135\n",
       "GEBAEUDETYP_5.0                 0.000037\n",
       "GEBAEUDETYP_4.0                -0.000064\n",
       "CAMEO_DEU_2015_1E              -0.000103\n",
       "CAMEO_DEU_2015_1B              -0.000261\n",
       "LP_FAMILIE_FEIN_8.0            -0.000388\n",
       "CAMEO_DEU_2015_1A              -0.000563\n",
       "ANZ_TITEL                      -0.000983\n",
       "CAMEO_DEU_2015_2A              -0.000991\n",
       "GEBAEUDETYP_2.0                -0.001529\n",
       "LP_STATUS_FEIN_2.0             -0.005443\n",
       "CAMEO_DEU_2015_3A              -0.005452\n",
       "Length: 193, dtype: float64"
      ]
     },
     "execution_count": 110,
     "metadata": {},
     "output_type": "execute_result"
    }
   ],
   "source": [
    "# What kinds of people are part of a cluster that is underrepresented in the\n",
    "# customer data compared to the general population?\n",
    "\n",
    "centroid_01 = scaler.inverse_transform(pca_95.inverse_transform(model_19.cluster_centers_[1]))\n",
    "underrepres_cluster = pd.Series(data = centroid_01, index = customers_clean.columns)\n",
    "underrepres_cluster.sort_values(ascending=False)"
   ]
  },
  {
   "cell_type": "markdown",
   "metadata": {},
   "source": [
    "### Discussion 3.3: Compare Customer Data to Demographics Data\n",
    "\n",
    "In my clustering I have no overrepresentation of the customer data compared to the general population which in visible in the plots above. All the principle components are underrepresented in the customer data compared to the general population, except the principle components 12 and 13 which are at a comparable level. <br>\n",
    "The example cluster 01 has a strong positive correlation with \"MIN_GEBAEUDEJAHR\", \"PRAEGENDE_JUGENDJAHRE_DEC\" and \"KBA13_ANZAHL_PKW\" which indicates the first year that the building was mentioned in the database, the decade of the youth of the users and therefore the age of the person and also the number of cars in the zip code area.\n"
   ]
  },
  {
   "cell_type": "markdown",
   "metadata": {},
   "source": [
    "### References: \n",
    "[R1] Pandas Replace Documentation: https://pandas.pydata.org/pandas-docs/stable/reference <br>\n",
    "[R2] Change type of column: https://stackoverflow.com/questions/15891038/change-data-type-of-columns-in-pandas <br>\n",
    "[R3] Function definition *scree_plot* from helper.py of Udacity ND Course, Section 4.4.14 <br>\n",
    "[R4] Changing x-ticks: https://matplotlib.org/3.2.1/api/_as_gen/matplotlib.pyplot.xticks.html <br>\n",
    "[R5] Concat Data frames in Panda: https://pandas.pydata.org/pandas-docs/stable/user_guide/merging.html <br>"
   ]
  },
  {
   "cell_type": "markdown",
   "metadata": {},
   "source": [
    "> Congratulations on making it this far in the project! Before you finish, make sure to check through the entire notebook from top to bottom to make sure that your analysis follows a logical flow and all of your findings are documented in **Discussion** cells. Once you've checked over all of your work, you should export the notebook as an HTML document to submit for evaluation. You can do this from the menu, navigating to **File -> Download as -> HTML (.html)**. You will submit both that document and this notebook for your project submission."
   ]
  },
  {
   "cell_type": "code",
   "execution_count": null,
   "metadata": {},
   "outputs": [],
   "source": []
  }
 ],
 "metadata": {
  "kernelspec": {
   "display_name": "Python 3",
   "language": "python",
   "name": "python3"
  },
  "language_info": {
   "codemirror_mode": {
    "name": "ipython",
    "version": 3
   },
   "file_extension": ".py",
   "mimetype": "text/x-python",
   "name": "python",
   "nbconvert_exporter": "python",
   "pygments_lexer": "ipython3",
   "version": "3.6.3"
  }
 },
 "nbformat": 4,
 "nbformat_minor": 2
}
